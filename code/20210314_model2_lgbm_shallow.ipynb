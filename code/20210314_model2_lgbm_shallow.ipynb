{
 "cells": [
  {
   "cell_type": "code",
   "execution_count": 1,
   "metadata": {
    "_cell_guid": "b1076dfc-b9ad-4769-8c92-a6c4dae69d19",
    "_uuid": "8f2839f25d086af736a60e9eeb907d3b93b6e0e5",
    "papermill": {
     "duration": 0.04634,
     "end_time": "2021-03-11T06:16:13.703948",
     "exception": false,
     "start_time": "2021-03-11T06:16:13.657608",
     "status": "completed"
    },
    "tags": []
   },
   "outputs": [],
   "source": [
    "import numpy as np # linear algebra\n",
    "import pandas as pd # data processing, CSV file I/O (e.g. pd.read_csv)\n",
    "from sklearn.preprocessing import OrdinalEncoder, LabelEncoder\n",
    "from sklearn.model_selection import train_test_split\n",
    "import lightgbm as gbm"
   ]
  },
  {
   "cell_type": "markdown",
   "metadata": {},
   "source": [
    "# Load data "
   ]
  },
  {
   "cell_type": "code",
   "execution_count": 2,
   "metadata": {
    "papermill": {
     "duration": 0.039568,
     "end_time": "2021-03-11T06:16:13.773801",
     "exception": false,
     "start_time": "2021-03-11T06:16:13.734233",
     "status": "completed"
    },
    "tags": []
   },
   "outputs": [],
   "source": [
    "train_path = \"../data/local_train.csv\"\n",
    "test_path = \"../data/local_test.csv\""
   ]
  },
  {
   "cell_type": "code",
   "execution_count": null,
   "metadata": {
    "papermill": {
     "duration": 0.040034,
     "end_time": "2021-03-11T06:16:14.340405",
     "exception": false,
     "start_time": "2021-03-11T06:16:14.300371",
     "status": "completed"
    },
    "tags": []
   },
   "outputs": [],
   "source": []
  },
  {
   "cell_type": "code",
   "execution_count": 3,
   "metadata": {
    "papermill": {
     "duration": 4.774135,
     "end_time": "2021-03-11T06:16:19.146347",
     "exception": false,
     "start_time": "2021-03-11T06:16:14.372212",
     "status": "completed"
    },
    "tags": []
   },
   "outputs": [],
   "source": [
    "df_train = pd.read_csv(train_path)\n",
    "df_test = pd.read_csv(test_path)\n"
   ]
  },
  {
   "cell_type": "code",
   "execution_count": 4,
   "metadata": {
    "papermill": {
     "duration": 0.045639,
     "end_time": "2021-03-11T06:16:19.225381",
     "exception": false,
     "start_time": "2021-03-11T06:16:19.179742",
     "status": "completed"
    },
    "tags": []
   },
   "outputs": [
    {
     "data": {
      "text/plain": [
       "180000"
      ]
     },
     "execution_count": 4,
     "metadata": {},
     "output_type": "execute_result"
    }
   ],
   "source": [
    "len(df_train)"
   ]
  },
  {
   "cell_type": "code",
   "execution_count": 5,
   "metadata": {
    "papermill": {
     "duration": 0.090008,
     "end_time": "2021-03-11T06:16:19.348504",
     "exception": false,
     "start_time": "2021-03-11T06:16:19.258496",
     "status": "completed"
    },
    "tags": []
   },
   "outputs": [
    {
     "data": {
      "text/html": [
       "<div>\n",
       "<style scoped>\n",
       "    .dataframe tbody tr th:only-of-type {\n",
       "        vertical-align: middle;\n",
       "    }\n",
       "\n",
       "    .dataframe tbody tr th {\n",
       "        vertical-align: top;\n",
       "    }\n",
       "\n",
       "    .dataframe thead th {\n",
       "        text-align: right;\n",
       "    }\n",
       "</style>\n",
       "<table border=\"1\" class=\"dataframe\">\n",
       "  <thead>\n",
       "    <tr style=\"text-align: right;\">\n",
       "      <th></th>\n",
       "      <th>id</th>\n",
       "      <th>cat0</th>\n",
       "      <th>cat1</th>\n",
       "      <th>cat2</th>\n",
       "      <th>cat3</th>\n",
       "      <th>cat4</th>\n",
       "      <th>cat5</th>\n",
       "      <th>cat6</th>\n",
       "      <th>cat7</th>\n",
       "      <th>cat8</th>\n",
       "      <th>...</th>\n",
       "      <th>cont2</th>\n",
       "      <th>cont3</th>\n",
       "      <th>cont4</th>\n",
       "      <th>cont5</th>\n",
       "      <th>cont6</th>\n",
       "      <th>cont7</th>\n",
       "      <th>cont8</th>\n",
       "      <th>cont9</th>\n",
       "      <th>cont10</th>\n",
       "      <th>target</th>\n",
       "    </tr>\n",
       "  </thead>\n",
       "  <tbody>\n",
       "    <tr>\n",
       "      <th>0</th>\n",
       "      <td>4700</td>\n",
       "      <td>B</td>\n",
       "      <td>F</td>\n",
       "      <td>A</td>\n",
       "      <td>B</td>\n",
       "      <td>E</td>\n",
       "      <td>BQ</td>\n",
       "      <td>A</td>\n",
       "      <td>N</td>\n",
       "      <td>BL</td>\n",
       "      <td>...</td>\n",
       "      <td>0.236103</td>\n",
       "      <td>0.316480</td>\n",
       "      <td>0.600188</td>\n",
       "      <td>0.192628</td>\n",
       "      <td>0.423268</td>\n",
       "      <td>0.176169</td>\n",
       "      <td>0.288662</td>\n",
       "      <td>0.793823</td>\n",
       "      <td>0.315937</td>\n",
       "      <td>0</td>\n",
       "    </tr>\n",
       "    <tr>\n",
       "      <th>1</th>\n",
       "      <td>453468</td>\n",
       "      <td>A</td>\n",
       "      <td>F</td>\n",
       "      <td>G</td>\n",
       "      <td>C</td>\n",
       "      <td>G</td>\n",
       "      <td>BI</td>\n",
       "      <td>A</td>\n",
       "      <td>U</td>\n",
       "      <td>AE</td>\n",
       "      <td>...</td>\n",
       "      <td>0.627595</td>\n",
       "      <td>0.657871</td>\n",
       "      <td>0.285636</td>\n",
       "      <td>0.735430</td>\n",
       "      <td>0.624774</td>\n",
       "      <td>0.624786</td>\n",
       "      <td>0.702093</td>\n",
       "      <td>0.305428</td>\n",
       "      <td>0.509672</td>\n",
       "      <td>0</td>\n",
       "    </tr>\n",
       "    <tr>\n",
       "      <th>2</th>\n",
       "      <td>369751</td>\n",
       "      <td>A</td>\n",
       "      <td>K</td>\n",
       "      <td>G</td>\n",
       "      <td>A</td>\n",
       "      <td>D</td>\n",
       "      <td>BU</td>\n",
       "      <td>A</td>\n",
       "      <td>E</td>\n",
       "      <td>Y</td>\n",
       "      <td>...</td>\n",
       "      <td>0.568753</td>\n",
       "      <td>0.790244</td>\n",
       "      <td>0.829496</td>\n",
       "      <td>0.015555</td>\n",
       "      <td>0.201568</td>\n",
       "      <td>0.786024</td>\n",
       "      <td>0.385816</td>\n",
       "      <td>0.431418</td>\n",
       "      <td>0.953504</td>\n",
       "      <td>0</td>\n",
       "    </tr>\n",
       "    <tr>\n",
       "      <th>3</th>\n",
       "      <td>69873</td>\n",
       "      <td>B</td>\n",
       "      <td>I</td>\n",
       "      <td>A</td>\n",
       "      <td>A</td>\n",
       "      <td>E</td>\n",
       "      <td>BI</td>\n",
       "      <td>A</td>\n",
       "      <td>Y</td>\n",
       "      <td>AU</td>\n",
       "      <td>...</td>\n",
       "      <td>0.775825</td>\n",
       "      <td>0.822142</td>\n",
       "      <td>0.796378</td>\n",
       "      <td>0.680048</td>\n",
       "      <td>0.246919</td>\n",
       "      <td>0.877006</td>\n",
       "      <td>0.611704</td>\n",
       "      <td>0.839066</td>\n",
       "      <td>0.934136</td>\n",
       "      <td>0</td>\n",
       "    </tr>\n",
       "    <tr>\n",
       "      <th>4</th>\n",
       "      <td>170717</td>\n",
       "      <td>A</td>\n",
       "      <td>M</td>\n",
       "      <td>A</td>\n",
       "      <td>B</td>\n",
       "      <td>F</td>\n",
       "      <td>BI</td>\n",
       "      <td>I</td>\n",
       "      <td>AH</td>\n",
       "      <td>BM</td>\n",
       "      <td>...</td>\n",
       "      <td>0.256564</td>\n",
       "      <td>0.579400</td>\n",
       "      <td>0.291327</td>\n",
       "      <td>0.737406</td>\n",
       "      <td>0.579729</td>\n",
       "      <td>0.290138</td>\n",
       "      <td>0.351962</td>\n",
       "      <td>0.269911</td>\n",
       "      <td>0.308573</td>\n",
       "      <td>1</td>\n",
       "    </tr>\n",
       "  </tbody>\n",
       "</table>\n",
       "<p>5 rows × 32 columns</p>\n",
       "</div>"
      ],
      "text/plain": [
       "       id cat0 cat1 cat2 cat3 cat4 cat5 cat6 cat7 cat8  ...     cont2  \\\n",
       "0    4700    B    F    A    B    E   BQ    A    N   BL  ...  0.236103   \n",
       "1  453468    A    F    G    C    G   BI    A    U   AE  ...  0.627595   \n",
       "2  369751    A    K    G    A    D   BU    A    E    Y  ...  0.568753   \n",
       "3   69873    B    I    A    A    E   BI    A    Y   AU  ...  0.775825   \n",
       "4  170717    A    M    A    B    F   BI    I   AH   BM  ...  0.256564   \n",
       "\n",
       "      cont3     cont4     cont5     cont6     cont7     cont8     cont9  \\\n",
       "0  0.316480  0.600188  0.192628  0.423268  0.176169  0.288662  0.793823   \n",
       "1  0.657871  0.285636  0.735430  0.624774  0.624786  0.702093  0.305428   \n",
       "2  0.790244  0.829496  0.015555  0.201568  0.786024  0.385816  0.431418   \n",
       "3  0.822142  0.796378  0.680048  0.246919  0.877006  0.611704  0.839066   \n",
       "4  0.579400  0.291327  0.737406  0.579729  0.290138  0.351962  0.269911   \n",
       "\n",
       "     cont10 target  \n",
       "0  0.315937      0  \n",
       "1  0.509672      0  \n",
       "2  0.953504      0  \n",
       "3  0.934136      0  \n",
       "4  0.308573      1  \n",
       "\n",
       "[5 rows x 32 columns]"
      ]
     },
     "execution_count": 5,
     "metadata": {},
     "output_type": "execute_result"
    }
   ],
   "source": [
    "df_train.head()"
   ]
  },
  {
   "cell_type": "code",
   "execution_count": null,
   "metadata": {
    "papermill": {
     "duration": 1.311217,
     "end_time": "2021-03-11T06:16:20.693263",
     "exception": false,
     "start_time": "2021-03-11T06:16:19.382046",
     "status": "completed"
    },
    "tags": []
   },
   "outputs": [],
   "source": []
  },
  {
   "cell_type": "code",
   "execution_count": 6,
   "metadata": {
    "papermill": {
     "duration": 0.050293,
     "end_time": "2021-03-11T06:16:20.777157",
     "exception": false,
     "start_time": "2021-03-11T06:16:20.726864",
     "status": "completed"
    },
    "tags": []
   },
   "outputs": [
    {
     "data": {
      "text/plain": [
       "Index(['id', 'cat0', 'cat1', 'cat2', 'cat3', 'cat4', 'cat5', 'cat6', 'cat7',\n",
       "       'cat8', 'cat9', 'cat10', 'cat11', 'cat12', 'cat13', 'cat14', 'cat15',\n",
       "       'cat16', 'cat17', 'cat18', 'cont0', 'cont1', 'cont2', 'cont3', 'cont4',\n",
       "       'cont5', 'cont6', 'cont7', 'cont8', 'cont9', 'cont10', 'target'],\n",
       "      dtype='object')"
      ]
     },
     "execution_count": 6,
     "metadata": {},
     "output_type": "execute_result"
    }
   ],
   "source": [
    "df_train.columns"
   ]
  },
  {
   "cell_type": "markdown",
   "metadata": {
    "papermill": {
     "duration": 0.129369,
     "end_time": "2021-03-11T06:16:20.941070",
     "exception": false,
     "start_time": "2021-03-11T06:16:20.811701",
     "status": "completed"
    },
    "tags": []
   },
   "source": [
    "# Make category label integer "
   ]
  },
  {
   "cell_type": "code",
   "execution_count": 7,
   "metadata": {
    "papermill": {
     "duration": 0.04383,
     "end_time": "2021-03-11T06:16:21.101717",
     "exception": false,
     "start_time": "2021-03-11T06:16:21.057887",
     "status": "completed"
    },
    "tags": []
   },
   "outputs": [],
   "source": [
    "cat_col = ['cat0', 'cat1', 'cat2', 'cat3', 'cat4', 'cat5', 'cat6', 'cat7',\n",
    "       'cat8', 'cat9', 'cat10', 'cat11', 'cat12', 'cat13', 'cat14', 'cat15',\n",
    "       'cat16', 'cat17', 'cat18']\n",
    "cont_col = ['cont0', 'cont1', 'cont2', 'cont3', 'cont4',\n",
    "       'cont5', 'cont6', 'cont7', 'cont8', 'cont9', 'cont10']"
   ]
  },
  {
   "cell_type": "code",
   "execution_count": 8,
   "metadata": {
    "papermill": {
     "duration": 7.769308,
     "end_time": "2021-03-11T06:16:28.905606",
     "exception": false,
     "start_time": "2021-03-11T06:16:21.136298",
     "status": "completed"
    },
    "tags": []
   },
   "outputs": [
    {
     "name": "stdout",
     "output_type": "stream",
     "text": [
      "done  cat0\n",
      "done  cat1\n",
      "done  cat2\n",
      "done  cat3\n",
      "done  cat4\n",
      "done  cat5\n",
      "done  cat6\n",
      "done  cat7\n",
      "done  cat8\n",
      "done  cat9\n",
      "done  cat10\n",
      "done  cat11\n",
      "done  cat12\n",
      "done  cat13\n",
      "done  cat14\n",
      "done  cat15\n",
      "done  cat16\n",
      "done  cat17\n",
      "done  cat18\n"
     ]
    }
   ],
   "source": [
    "for col in cat_col:\n",
    "    encoder = LabelEncoder()\n",
    "    # encoder.fit(list(df_train[col]) + list(df_test[col]))\n",
    "    encoder.fit(list(df_train[col].values) + list(df_test[col].values))\n",
    "    df_train[col] = encoder.transform(df_train[col].values)\n",
    "    df_test[col] = encoder.transform(df_test[col].values)\n",
    "    print(\"done \", col)"
   ]
  },
  {
   "cell_type": "code",
   "execution_count": 9,
   "metadata": {
    "papermill": {
     "duration": 0.169724,
     "end_time": "2021-03-11T06:16:29.117269",
     "exception": false,
     "start_time": "2021-03-11T06:16:28.947545",
     "status": "completed"
    },
    "tags": []
   },
   "outputs": [],
   "source": [
    "X = df_train.drop([\"id\", \"target\"], axis=1)\n",
    "y = df_train[\"target\"]\n"
   ]
  },
  {
   "cell_type": "code",
   "execution_count": 10,
   "metadata": {
    "papermill": {
     "duration": 0.056601,
     "end_time": "2021-03-11T06:16:29.218903",
     "exception": false,
     "start_time": "2021-03-11T06:16:29.162302",
     "status": "completed"
    },
    "tags": []
   },
   "outputs": [
    {
     "data": {
      "text/plain": [
       "(180000, 30)"
      ]
     },
     "execution_count": 10,
     "metadata": {},
     "output_type": "execute_result"
    }
   ],
   "source": [
    "X.shape"
   ]
  },
  {
   "cell_type": "code",
   "execution_count": 11,
   "metadata": {
    "papermill": {
     "duration": 0.05474,
     "end_time": "2021-03-11T06:16:29.316243",
     "exception": false,
     "start_time": "2021-03-11T06:16:29.261503",
     "status": "completed"
    },
    "tags": []
   },
   "outputs": [
    {
     "data": {
      "text/plain": [
       "(180000,)"
      ]
     },
     "execution_count": 11,
     "metadata": {},
     "output_type": "execute_result"
    }
   ],
   "source": [
    "y.shape"
   ]
  },
  {
   "cell_type": "markdown",
   "metadata": {},
   "source": [
    "# split training and validation "
   ]
  },
  {
   "cell_type": "code",
   "execution_count": 12,
   "metadata": {
    "papermill": {
     "duration": 0.231096,
     "end_time": "2021-03-11T06:16:29.590816",
     "exception": false,
     "start_time": "2021-03-11T06:16:29.359720",
     "status": "completed"
    },
    "tags": []
   },
   "outputs": [],
   "source": [
    "X_train, X_test, y_train, y_test = train_test_split(X, y, test_size=0.1, random_state=111)"
   ]
  },
  {
   "cell_type": "code",
   "execution_count": 13,
   "metadata": {
    "papermill": {
     "duration": 0.053642,
     "end_time": "2021-03-11T06:16:30.116783",
     "exception": false,
     "start_time": "2021-03-11T06:16:30.063141",
     "status": "completed"
    },
    "tags": []
   },
   "outputs": [],
   "source": [
    "train_data = gbm.Dataset(X_train, label=y_train, categorical_feature=cat_col)"
   ]
  },
  {
   "cell_type": "code",
   "execution_count": 14,
   "metadata": {
    "papermill": {
     "duration": 0.05245,
     "end_time": "2021-03-11T06:16:30.210754",
     "exception": false,
     "start_time": "2021-03-11T06:16:30.158304",
     "status": "completed"
    },
    "tags": []
   },
   "outputs": [],
   "source": [
    "validation_data = gbm.Dataset(X_test, label=y_test, reference=train_data)"
   ]
  },
  {
   "cell_type": "code",
   "execution_count": 15,
   "metadata": {
    "papermill": {
     "duration": 0.052952,
     "end_time": "2021-03-11T06:16:30.502906",
     "exception": false,
     "start_time": "2021-03-11T06:16:30.449954",
     "status": "completed"
    },
    "tags": []
   },
   "outputs": [],
   "source": [
    "lgbm_params = {\n",
    "    'boosting': 'gbdt',\n",
    "    'application': 'binary',\n",
    "    'learning_rate': 0.005,\n",
    "    'metric': 'binary_logloss',\n",
    "    'lambda_l1': 4e-05, \n",
    "    'lambda_l2': 1.35e-08, \n",
    "    'num_leaves': 50, \n",
    "    'feature_fraction': 0.7 ,\n",
    "    'bagging_fraction': 0.4 ,\n",
    "    'bagging_freq': 5, \n",
    "    'max_depth':50,\n",
    "    'min_child_samples': 100\n",
    "}\n"
   ]
  },
  {
   "cell_type": "code",
   "execution_count": null,
   "metadata": {
    "papermill": {
     "duration": 0.04496,
     "end_time": "2021-03-11T06:16:30.590769",
     "exception": false,
     "start_time": "2021-03-11T06:16:30.545809",
     "status": "completed"
    },
    "tags": []
   },
   "outputs": [],
   "source": []
  },
  {
   "cell_type": "code",
   "execution_count": 16,
   "metadata": {
    "papermill": {
     "duration": 40.058552,
     "end_time": "2021-03-11T06:17:10.691340",
     "exception": false,
     "start_time": "2021-03-11T06:16:30.632788",
     "status": "completed"
    },
    "tags": []
   },
   "outputs": [
    {
     "name": "stderr",
     "output_type": "stream",
     "text": [
      "/home/tt/miniconda3/envs/ml/lib/python3.8/site-packages/lightgbm/basic.py:1551: UserWarning: Using categorical_feature in Dataset.\n",
      "  warnings.warn('Using categorical_feature in Dataset.')\n",
      "/home/tt/miniconda3/envs/ml/lib/python3.8/site-packages/lightgbm/basic.py:1554: UserWarning: categorical_feature in Dataset is overridden.\n",
      "New categorical_feature is ['cat0', 'cat1', 'cat10', 'cat11', 'cat12', 'cat13', 'cat14', 'cat15', 'cat16', 'cat17', 'cat18', 'cat2', 'cat3', 'cat4', 'cat5', 'cat6', 'cat7', 'cat8', 'cat9']\n",
      "  warnings.warn('categorical_feature in Dataset is overridden.\\n'\n"
     ]
    },
    {
     "name": "stdout",
     "output_type": "stream",
     "text": [
      "[LightGBM] [Info] Number of positive: 43102, number of negative: 118898\n",
      "[LightGBM] [Warning] Auto-choosing col-wise multi-threading, the overhead of testing was 0.034442 seconds.\n",
      "You can set `force_col_wise=true` to remove the overhead.\n",
      "[LightGBM] [Info] Total Bins 3390\n",
      "[LightGBM] [Info] Number of data points in the train set: 162000, number of used features: 30\n",
      "[LightGBM] [Info] [binary:BoostFromScore]: pavg=0.266062 -> initscore=-1.014697\n",
      "[LightGBM] [Info] Start training from score -1.014697\n",
      "Training until validation scores don't improve for 10 rounds\n"
     ]
    },
    {
     "name": "stderr",
     "output_type": "stream",
     "text": [
      "/home/tt/miniconda3/envs/ml/lib/python3.8/site-packages/lightgbm/basic.py:1286: UserWarning: Overriding the parameters from Reference Dataset.\n",
      "  warnings.warn('Overriding the parameters from Reference Dataset.')\n",
      "/home/tt/miniconda3/envs/ml/lib/python3.8/site-packages/lightgbm/basic.py:1098: UserWarning: categorical_column in param dict is overridden.\n",
      "  warnings.warn('{} in param dict is overridden.'.format(cat_alias))\n"
     ]
    },
    {
     "name": "stdout",
     "output_type": "stream",
     "text": [
      "[200]\tvalid_0's binary_logloss: 0.412918\n",
      "[400]\tvalid_0's binary_logloss: 0.374727\n",
      "[600]\tvalid_0's binary_logloss: 0.362295\n",
      "[800]\tvalid_0's binary_logloss: 0.356812\n",
      "[1000]\tvalid_0's binary_logloss: 0.354004\n",
      "[1200]\tvalid_0's binary_logloss: 0.352227\n",
      "[1400]\tvalid_0's binary_logloss: 0.351115\n",
      "[1600]\tvalid_0's binary_logloss: 0.350246\n",
      "Early stopping, best iteration is:\n",
      "[1634]\tvalid_0's binary_logloss: 0.35014\n"
     ]
    }
   ],
   "source": [
    "num_round = 3000\n",
    "bst = gbm.train(lgbm_params, train_data, num_round, valid_sets=[validation_data], early_stopping_rounds=10, verbose_eval=200)"
   ]
  },
  {
   "cell_type": "markdown",
   "metadata": {},
   "source": [
    "# evaluation"
   ]
  },
  {
   "cell_type": "code",
   "execution_count": 17,
   "metadata": {},
   "outputs": [],
   "source": [
    "local_flag = False\n",
    "if \"target\" in df_test.columns:\n",
    "    df_test2 = df_test.drop([\"id\", \"target\"], axis=1)\n",
    "    local_flag = True\n",
    "else:\n",
    "    df_test2 = df_test.drop([\"id\"], axis=1)"
   ]
  },
  {
   "cell_type": "code",
   "execution_count": null,
   "metadata": {
    "papermill": {
     "duration": 0.099497,
     "end_time": "2021-03-11T06:17:11.040944",
     "exception": false,
     "start_time": "2021-03-11T06:17:10.941447",
     "status": "completed"
    },
    "tags": []
   },
   "outputs": [],
   "source": []
  },
  {
   "cell_type": "code",
   "execution_count": 18,
   "metadata": {
    "papermill": {
     "duration": 0.056603,
     "end_time": "2021-03-11T06:17:11.142950",
     "exception": false,
     "start_time": "2021-03-11T06:17:11.086347",
     "status": "completed"
    },
    "tags": []
   },
   "outputs": [],
   "source": [
    "# for col in cat_col:\n",
    "#     df_test2[col] = df_test2[col].apply(hash_cat_two)\n",
    "#     print(\"done \", col)"
   ]
  },
  {
   "cell_type": "code",
   "execution_count": 19,
   "metadata": {
    "papermill": {
     "duration": 0.057005,
     "end_time": "2021-03-11T06:17:11.245346",
     "exception": false,
     "start_time": "2021-03-11T06:17:11.188341",
     "status": "completed"
    },
    "tags": []
   },
   "outputs": [],
   "source": [
    "# ?bst"
   ]
  },
  {
   "cell_type": "code",
   "execution_count": 20,
   "metadata": {
    "papermill": {
     "duration": 0.073857,
     "end_time": "2021-03-11T06:17:11.364809",
     "exception": false,
     "start_time": "2021-03-11T06:17:11.290952",
     "status": "completed"
    },
    "tags": []
   },
   "outputs": [
    {
     "data": {
      "text/html": [
       "<div>\n",
       "<style scoped>\n",
       "    .dataframe tbody tr th:only-of-type {\n",
       "        vertical-align: middle;\n",
       "    }\n",
       "\n",
       "    .dataframe tbody tr th {\n",
       "        vertical-align: top;\n",
       "    }\n",
       "\n",
       "    .dataframe thead th {\n",
       "        text-align: right;\n",
       "    }\n",
       "</style>\n",
       "<table border=\"1\" class=\"dataframe\">\n",
       "  <thead>\n",
       "    <tr style=\"text-align: right;\">\n",
       "      <th></th>\n",
       "      <th>cat0</th>\n",
       "      <th>cat1</th>\n",
       "      <th>cat2</th>\n",
       "      <th>cat3</th>\n",
       "      <th>cat4</th>\n",
       "      <th>cat5</th>\n",
       "      <th>cat6</th>\n",
       "      <th>cat7</th>\n",
       "      <th>cat8</th>\n",
       "      <th>cat9</th>\n",
       "      <th>...</th>\n",
       "      <th>cont1</th>\n",
       "      <th>cont2</th>\n",
       "      <th>cont3</th>\n",
       "      <th>cont4</th>\n",
       "      <th>cont5</th>\n",
       "      <th>cont6</th>\n",
       "      <th>cont7</th>\n",
       "      <th>cont8</th>\n",
       "      <th>cont9</th>\n",
       "      <th>cont10</th>\n",
       "    </tr>\n",
       "  </thead>\n",
       "  <tbody>\n",
       "    <tr>\n",
       "      <th>0</th>\n",
       "      <td>0</td>\n",
       "      <td>1</td>\n",
       "      <td>0</td>\n",
       "      <td>1</td>\n",
       "      <td>7</td>\n",
       "      <td>33</td>\n",
       "      <td>6</td>\n",
       "      <td>31</td>\n",
       "      <td>0</td>\n",
       "      <td>0</td>\n",
       "      <td>...</td>\n",
       "      <td>0.832036</td>\n",
       "      <td>0.936027</td>\n",
       "      <td>0.277879</td>\n",
       "      <td>0.677056</td>\n",
       "      <td>0.556303</td>\n",
       "      <td>0.861982</td>\n",
       "      <td>0.880029</td>\n",
       "      <td>0.700449</td>\n",
       "      <td>0.408714</td>\n",
       "      <td>0.457853</td>\n",
       "    </tr>\n",
       "    <tr>\n",
       "      <th>1</th>\n",
       "      <td>0</td>\n",
       "      <td>8</td>\n",
       "      <td>0</td>\n",
       "      <td>0</td>\n",
       "      <td>3</td>\n",
       "      <td>2</td>\n",
       "      <td>12</td>\n",
       "      <td>8</td>\n",
       "      <td>12</td>\n",
       "      <td>0</td>\n",
       "      <td>...</td>\n",
       "      <td>0.461403</td>\n",
       "      <td>0.465581</td>\n",
       "      <td>0.773081</td>\n",
       "      <td>0.257367</td>\n",
       "      <td>0.118800</td>\n",
       "      <td>0.076394</td>\n",
       "      <td>0.617704</td>\n",
       "      <td>0.786615</td>\n",
       "      <td>0.463401</td>\n",
       "      <td>0.534980</td>\n",
       "    </tr>\n",
       "    <tr>\n",
       "      <th>2</th>\n",
       "      <td>0</td>\n",
       "      <td>5</td>\n",
       "      <td>0</td>\n",
       "      <td>0</td>\n",
       "      <td>4</td>\n",
       "      <td>33</td>\n",
       "      <td>0</td>\n",
       "      <td>32</td>\n",
       "      <td>60</td>\n",
       "      <td>0</td>\n",
       "      <td>...</td>\n",
       "      <td>0.727531</td>\n",
       "      <td>0.799496</td>\n",
       "      <td>0.792766</td>\n",
       "      <td>0.574415</td>\n",
       "      <td>0.240725</td>\n",
       "      <td>0.263741</td>\n",
       "      <td>1.005591</td>\n",
       "      <td>0.710779</td>\n",
       "      <td>0.878274</td>\n",
       "      <td>0.967304</td>\n",
       "    </tr>\n",
       "    <tr>\n",
       "      <th>3</th>\n",
       "      <td>1</td>\n",
       "      <td>8</td>\n",
       "      <td>5</td>\n",
       "      <td>1</td>\n",
       "      <td>5</td>\n",
       "      <td>33</td>\n",
       "      <td>0</td>\n",
       "      <td>14</td>\n",
       "      <td>45</td>\n",
       "      <td>0</td>\n",
       "      <td>...</td>\n",
       "      <td>0.294513</td>\n",
       "      <td>0.301259</td>\n",
       "      <td>0.340367</td>\n",
       "      <td>0.385370</td>\n",
       "      <td>0.555850</td>\n",
       "      <td>0.486549</td>\n",
       "      <td>0.338415</td>\n",
       "      <td>0.392193</td>\n",
       "      <td>0.255491</td>\n",
       "      <td>0.398400</td>\n",
       "    </tr>\n",
       "    <tr>\n",
       "      <th>4</th>\n",
       "      <td>0</td>\n",
       "      <td>10</td>\n",
       "      <td>0</td>\n",
       "      <td>0</td>\n",
       "      <td>4</td>\n",
       "      <td>33</td>\n",
       "      <td>2</td>\n",
       "      <td>26</td>\n",
       "      <td>38</td>\n",
       "      <td>5</td>\n",
       "      <td>...</td>\n",
       "      <td>0.354699</td>\n",
       "      <td>0.317978</td>\n",
       "      <td>0.590793</td>\n",
       "      <td>0.207941</td>\n",
       "      <td>0.734811</td>\n",
       "      <td>0.569722</td>\n",
       "      <td>0.569788</td>\n",
       "      <td>0.477121</td>\n",
       "      <td>0.530924</td>\n",
       "      <td>0.349163</td>\n",
       "    </tr>\n",
       "  </tbody>\n",
       "</table>\n",
       "<p>5 rows × 30 columns</p>\n",
       "</div>"
      ],
      "text/plain": [
       "   cat0  cat1  cat2  cat3  cat4  cat5  cat6  cat7  cat8  cat9  ...     cont1  \\\n",
       "0     0     1     0     1     7    33     6    31     0     0  ...  0.832036   \n",
       "1     0     8     0     0     3     2    12     8    12     0  ...  0.461403   \n",
       "2     0     5     0     0     4    33     0    32    60     0  ...  0.727531   \n",
       "3     1     8     5     1     5    33     0    14    45     0  ...  0.294513   \n",
       "4     0    10     0     0     4    33     2    26    38     5  ...  0.354699   \n",
       "\n",
       "      cont2     cont3     cont4     cont5     cont6     cont7     cont8  \\\n",
       "0  0.936027  0.277879  0.677056  0.556303  0.861982  0.880029  0.700449   \n",
       "1  0.465581  0.773081  0.257367  0.118800  0.076394  0.617704  0.786615   \n",
       "2  0.799496  0.792766  0.574415  0.240725  0.263741  1.005591  0.710779   \n",
       "3  0.301259  0.340367  0.385370  0.555850  0.486549  0.338415  0.392193   \n",
       "4  0.317978  0.590793  0.207941  0.734811  0.569722  0.569788  0.477121   \n",
       "\n",
       "      cont9    cont10  \n",
       "0  0.408714  0.457853  \n",
       "1  0.463401  0.534980  \n",
       "2  0.878274  0.967304  \n",
       "3  0.255491  0.398400  \n",
       "4  0.530924  0.349163  \n",
       "\n",
       "[5 rows x 30 columns]"
      ]
     },
     "execution_count": 20,
     "metadata": {},
     "output_type": "execute_result"
    }
   ],
   "source": [
    "df_test2.head()"
   ]
  },
  {
   "cell_type": "code",
   "execution_count": 21,
   "metadata": {
    "papermill": {
     "duration": 9.928882,
     "end_time": "2021-03-11T06:17:21.344826",
     "exception": false,
     "start_time": "2021-03-11T06:17:11.415944",
     "status": "completed"
    },
    "tags": []
   },
   "outputs": [],
   "source": [
    "pred = bst.predict(df_test2, num_iteration=bst.best_iteration)"
   ]
  },
  {
   "cell_type": "code",
   "execution_count": 22,
   "metadata": {
    "papermill": {
     "duration": 0.127147,
     "end_time": "2021-03-11T06:17:21.520676",
     "exception": false,
     "start_time": "2021-03-11T06:17:21.393529",
     "status": "completed"
    },
    "tags": []
   },
   "outputs": [
    {
     "data": {
      "text/html": [
       "<div>\n",
       "<style scoped>\n",
       "    .dataframe tbody tr th:only-of-type {\n",
       "        vertical-align: middle;\n",
       "    }\n",
       "\n",
       "    .dataframe tbody tr th {\n",
       "        vertical-align: top;\n",
       "    }\n",
       "\n",
       "    .dataframe thead th {\n",
       "        text-align: right;\n",
       "    }\n",
       "</style>\n",
       "<table border=\"1\" class=\"dataframe\">\n",
       "  <thead>\n",
       "    <tr style=\"text-align: right;\">\n",
       "      <th></th>\n",
       "      <th>cat0</th>\n",
       "      <th>cat1</th>\n",
       "      <th>cat2</th>\n",
       "      <th>cat3</th>\n",
       "      <th>cat4</th>\n",
       "      <th>cat5</th>\n",
       "      <th>cat6</th>\n",
       "      <th>cat7</th>\n",
       "      <th>cat8</th>\n",
       "      <th>cat9</th>\n",
       "      <th>...</th>\n",
       "      <th>cont1</th>\n",
       "      <th>cont2</th>\n",
       "      <th>cont3</th>\n",
       "      <th>cont4</th>\n",
       "      <th>cont5</th>\n",
       "      <th>cont6</th>\n",
       "      <th>cont7</th>\n",
       "      <th>cont8</th>\n",
       "      <th>cont9</th>\n",
       "      <th>cont10</th>\n",
       "    </tr>\n",
       "  </thead>\n",
       "  <tbody>\n",
       "    <tr>\n",
       "      <th>0</th>\n",
       "      <td>0</td>\n",
       "      <td>1</td>\n",
       "      <td>0</td>\n",
       "      <td>1</td>\n",
       "      <td>7</td>\n",
       "      <td>33</td>\n",
       "      <td>6</td>\n",
       "      <td>31</td>\n",
       "      <td>0</td>\n",
       "      <td>0</td>\n",
       "      <td>...</td>\n",
       "      <td>0.832036</td>\n",
       "      <td>0.936027</td>\n",
       "      <td>0.277879</td>\n",
       "      <td>0.677056</td>\n",
       "      <td>0.556303</td>\n",
       "      <td>0.861982</td>\n",
       "      <td>0.880029</td>\n",
       "      <td>0.700449</td>\n",
       "      <td>0.408714</td>\n",
       "      <td>0.457853</td>\n",
       "    </tr>\n",
       "    <tr>\n",
       "      <th>1</th>\n",
       "      <td>0</td>\n",
       "      <td>8</td>\n",
       "      <td>0</td>\n",
       "      <td>0</td>\n",
       "      <td>3</td>\n",
       "      <td>2</td>\n",
       "      <td>12</td>\n",
       "      <td>8</td>\n",
       "      <td>12</td>\n",
       "      <td>0</td>\n",
       "      <td>...</td>\n",
       "      <td>0.461403</td>\n",
       "      <td>0.465581</td>\n",
       "      <td>0.773081</td>\n",
       "      <td>0.257367</td>\n",
       "      <td>0.118800</td>\n",
       "      <td>0.076394</td>\n",
       "      <td>0.617704</td>\n",
       "      <td>0.786615</td>\n",
       "      <td>0.463401</td>\n",
       "      <td>0.534980</td>\n",
       "    </tr>\n",
       "    <tr>\n",
       "      <th>2</th>\n",
       "      <td>0</td>\n",
       "      <td>5</td>\n",
       "      <td>0</td>\n",
       "      <td>0</td>\n",
       "      <td>4</td>\n",
       "      <td>33</td>\n",
       "      <td>0</td>\n",
       "      <td>32</td>\n",
       "      <td>60</td>\n",
       "      <td>0</td>\n",
       "      <td>...</td>\n",
       "      <td>0.727531</td>\n",
       "      <td>0.799496</td>\n",
       "      <td>0.792766</td>\n",
       "      <td>0.574415</td>\n",
       "      <td>0.240725</td>\n",
       "      <td>0.263741</td>\n",
       "      <td>1.005591</td>\n",
       "      <td>0.710779</td>\n",
       "      <td>0.878274</td>\n",
       "      <td>0.967304</td>\n",
       "    </tr>\n",
       "    <tr>\n",
       "      <th>3</th>\n",
       "      <td>1</td>\n",
       "      <td>8</td>\n",
       "      <td>5</td>\n",
       "      <td>1</td>\n",
       "      <td>5</td>\n",
       "      <td>33</td>\n",
       "      <td>0</td>\n",
       "      <td>14</td>\n",
       "      <td>45</td>\n",
       "      <td>0</td>\n",
       "      <td>...</td>\n",
       "      <td>0.294513</td>\n",
       "      <td>0.301259</td>\n",
       "      <td>0.340367</td>\n",
       "      <td>0.385370</td>\n",
       "      <td>0.555850</td>\n",
       "      <td>0.486549</td>\n",
       "      <td>0.338415</td>\n",
       "      <td>0.392193</td>\n",
       "      <td>0.255491</td>\n",
       "      <td>0.398400</td>\n",
       "    </tr>\n",
       "    <tr>\n",
       "      <th>4</th>\n",
       "      <td>0</td>\n",
       "      <td>10</td>\n",
       "      <td>0</td>\n",
       "      <td>0</td>\n",
       "      <td>4</td>\n",
       "      <td>33</td>\n",
       "      <td>2</td>\n",
       "      <td>26</td>\n",
       "      <td>38</td>\n",
       "      <td>5</td>\n",
       "      <td>...</td>\n",
       "      <td>0.354699</td>\n",
       "      <td>0.317978</td>\n",
       "      <td>0.590793</td>\n",
       "      <td>0.207941</td>\n",
       "      <td>0.734811</td>\n",
       "      <td>0.569722</td>\n",
       "      <td>0.569788</td>\n",
       "      <td>0.477121</td>\n",
       "      <td>0.530924</td>\n",
       "      <td>0.349163</td>\n",
       "    </tr>\n",
       "    <tr>\n",
       "      <th>...</th>\n",
       "      <td>...</td>\n",
       "      <td>...</td>\n",
       "      <td>...</td>\n",
       "      <td>...</td>\n",
       "      <td>...</td>\n",
       "      <td>...</td>\n",
       "      <td>...</td>\n",
       "      <td>...</td>\n",
       "      <td>...</td>\n",
       "      <td>...</td>\n",
       "      <td>...</td>\n",
       "      <td>...</td>\n",
       "      <td>...</td>\n",
       "      <td>...</td>\n",
       "      <td>...</td>\n",
       "      <td>...</td>\n",
       "      <td>...</td>\n",
       "      <td>...</td>\n",
       "      <td>...</td>\n",
       "      <td>...</td>\n",
       "      <td>...</td>\n",
       "    </tr>\n",
       "    <tr>\n",
       "      <th>119995</th>\n",
       "      <td>1</td>\n",
       "      <td>8</td>\n",
       "      <td>0</td>\n",
       "      <td>0</td>\n",
       "      <td>5</td>\n",
       "      <td>33</td>\n",
       "      <td>4</td>\n",
       "      <td>40</td>\n",
       "      <td>35</td>\n",
       "      <td>0</td>\n",
       "      <td>...</td>\n",
       "      <td>0.460675</td>\n",
       "      <td>0.690114</td>\n",
       "      <td>0.556406</td>\n",
       "      <td>0.778571</td>\n",
       "      <td>0.280025</td>\n",
       "      <td>0.544267</td>\n",
       "      <td>0.524250</td>\n",
       "      <td>0.502416</td>\n",
       "      <td>0.782653</td>\n",
       "      <td>0.683392</td>\n",
       "    </tr>\n",
       "    <tr>\n",
       "      <th>119996</th>\n",
       "      <td>1</td>\n",
       "      <td>10</td>\n",
       "      <td>0</td>\n",
       "      <td>4</td>\n",
       "      <td>7</td>\n",
       "      <td>33</td>\n",
       "      <td>0</td>\n",
       "      <td>30</td>\n",
       "      <td>38</td>\n",
       "      <td>0</td>\n",
       "      <td>...</td>\n",
       "      <td>0.702119</td>\n",
       "      <td>0.698665</td>\n",
       "      <td>0.771236</td>\n",
       "      <td>0.806725</td>\n",
       "      <td>0.556306</td>\n",
       "      <td>0.339435</td>\n",
       "      <td>0.740020</td>\n",
       "      <td>0.420333</td>\n",
       "      <td>0.957234</td>\n",
       "      <td>0.777523</td>\n",
       "    </tr>\n",
       "    <tr>\n",
       "      <th>119997</th>\n",
       "      <td>0</td>\n",
       "      <td>10</td>\n",
       "      <td>0</td>\n",
       "      <td>0</td>\n",
       "      <td>4</td>\n",
       "      <td>33</td>\n",
       "      <td>2</td>\n",
       "      <td>39</td>\n",
       "      <td>38</td>\n",
       "      <td>7</td>\n",
       "      <td>...</td>\n",
       "      <td>0.325691</td>\n",
       "      <td>0.245823</td>\n",
       "      <td>0.243893</td>\n",
       "      <td>0.808406</td>\n",
       "      <td>0.273086</td>\n",
       "      <td>0.577464</td>\n",
       "      <td>0.283429</td>\n",
       "      <td>0.347557</td>\n",
       "      <td>0.254384</td>\n",
       "      <td>0.269322</td>\n",
       "    </tr>\n",
       "    <tr>\n",
       "      <th>119998</th>\n",
       "      <td>0</td>\n",
       "      <td>7</td>\n",
       "      <td>0</td>\n",
       "      <td>0</td>\n",
       "      <td>5</td>\n",
       "      <td>45</td>\n",
       "      <td>7</td>\n",
       "      <td>28</td>\n",
       "      <td>3</td>\n",
       "      <td>5</td>\n",
       "      <td>...</td>\n",
       "      <td>0.621029</td>\n",
       "      <td>0.940450</td>\n",
       "      <td>0.082610</td>\n",
       "      <td>0.238615</td>\n",
       "      <td>0.274609</td>\n",
       "      <td>0.425721</td>\n",
       "      <td>0.321446</td>\n",
       "      <td>0.323698</td>\n",
       "      <td>0.525235</td>\n",
       "      <td>0.796209</td>\n",
       "    </tr>\n",
       "    <tr>\n",
       "      <th>119999</th>\n",
       "      <td>0</td>\n",
       "      <td>5</td>\n",
       "      <td>15</td>\n",
       "      <td>2</td>\n",
       "      <td>7</td>\n",
       "      <td>33</td>\n",
       "      <td>7</td>\n",
       "      <td>27</td>\n",
       "      <td>48</td>\n",
       "      <td>0</td>\n",
       "      <td>...</td>\n",
       "      <td>0.838295</td>\n",
       "      <td>0.794714</td>\n",
       "      <td>0.192842</td>\n",
       "      <td>0.677982</td>\n",
       "      <td>0.781721</td>\n",
       "      <td>0.885908</td>\n",
       "      <td>0.544858</td>\n",
       "      <td>0.869808</td>\n",
       "      <td>0.340432</td>\n",
       "      <td>0.453767</td>\n",
       "    </tr>\n",
       "  </tbody>\n",
       "</table>\n",
       "<p>120000 rows × 30 columns</p>\n",
       "</div>"
      ],
      "text/plain": [
       "        cat0  cat1  cat2  cat3  cat4  cat5  cat6  cat7  cat8  cat9  ...  \\\n",
       "0          0     1     0     1     7    33     6    31     0     0  ...   \n",
       "1          0     8     0     0     3     2    12     8    12     0  ...   \n",
       "2          0     5     0     0     4    33     0    32    60     0  ...   \n",
       "3          1     8     5     1     5    33     0    14    45     0  ...   \n",
       "4          0    10     0     0     4    33     2    26    38     5  ...   \n",
       "...      ...   ...   ...   ...   ...   ...   ...   ...   ...   ...  ...   \n",
       "119995     1     8     0     0     5    33     4    40    35     0  ...   \n",
       "119996     1    10     0     4     7    33     0    30    38     0  ...   \n",
       "119997     0    10     0     0     4    33     2    39    38     7  ...   \n",
       "119998     0     7     0     0     5    45     7    28     3     5  ...   \n",
       "119999     0     5    15     2     7    33     7    27    48     0  ...   \n",
       "\n",
       "           cont1     cont2     cont3     cont4     cont5     cont6     cont7  \\\n",
       "0       0.832036  0.936027  0.277879  0.677056  0.556303  0.861982  0.880029   \n",
       "1       0.461403  0.465581  0.773081  0.257367  0.118800  0.076394  0.617704   \n",
       "2       0.727531  0.799496  0.792766  0.574415  0.240725  0.263741  1.005591   \n",
       "3       0.294513  0.301259  0.340367  0.385370  0.555850  0.486549  0.338415   \n",
       "4       0.354699  0.317978  0.590793  0.207941  0.734811  0.569722  0.569788   \n",
       "...          ...       ...       ...       ...       ...       ...       ...   \n",
       "119995  0.460675  0.690114  0.556406  0.778571  0.280025  0.544267  0.524250   \n",
       "119996  0.702119  0.698665  0.771236  0.806725  0.556306  0.339435  0.740020   \n",
       "119997  0.325691  0.245823  0.243893  0.808406  0.273086  0.577464  0.283429   \n",
       "119998  0.621029  0.940450  0.082610  0.238615  0.274609  0.425721  0.321446   \n",
       "119999  0.838295  0.794714  0.192842  0.677982  0.781721  0.885908  0.544858   \n",
       "\n",
       "           cont8     cont9    cont10  \n",
       "0       0.700449  0.408714  0.457853  \n",
       "1       0.786615  0.463401  0.534980  \n",
       "2       0.710779  0.878274  0.967304  \n",
       "3       0.392193  0.255491  0.398400  \n",
       "4       0.477121  0.530924  0.349163  \n",
       "...          ...       ...       ...  \n",
       "119995  0.502416  0.782653  0.683392  \n",
       "119996  0.420333  0.957234  0.777523  \n",
       "119997  0.347557  0.254384  0.269322  \n",
       "119998  0.323698  0.525235  0.796209  \n",
       "119999  0.869808  0.340432  0.453767  \n",
       "\n",
       "[120000 rows x 30 columns]"
      ]
     },
     "execution_count": 22,
     "metadata": {},
     "output_type": "execute_result"
    }
   ],
   "source": [
    "df_test2"
   ]
  },
  {
   "cell_type": "code",
   "execution_count": 23,
   "metadata": {
    "papermill": {
     "duration": 0.064149,
     "end_time": "2021-03-11T06:17:21.641371",
     "exception": false,
     "start_time": "2021-03-11T06:17:21.577222",
     "status": "completed"
    },
    "tags": []
   },
   "outputs": [],
   "source": [
    "df_pred_final = df_test[[\"id\"]]"
   ]
  },
  {
   "cell_type": "code",
   "execution_count": 24,
   "metadata": {
    "papermill": {
     "duration": 0.062612,
     "end_time": "2021-03-11T06:17:21.753001",
     "exception": false,
     "start_time": "2021-03-11T06:17:21.690389",
     "status": "completed"
    },
    "tags": []
   },
   "outputs": [
    {
     "name": "stderr",
     "output_type": "stream",
     "text": [
      "<ipython-input-24-71f301fd616e>:1: SettingWithCopyWarning: \n",
      "A value is trying to be set on a copy of a slice from a DataFrame.\n",
      "Try using .loc[row_indexer,col_indexer] = value instead\n",
      "\n",
      "See the caveats in the documentation: https://pandas.pydata.org/pandas-docs/stable/user_guide/indexing.html#returning-a-view-versus-a-copy\n",
      "  df_pred_final[\"target\"] = pred\n"
     ]
    }
   ],
   "source": [
    "df_pred_final[\"target\"] = pred"
   ]
  },
  {
   "cell_type": "code",
   "execution_count": 25,
   "metadata": {
    "papermill": {
     "duration": 0.067444,
     "end_time": "2021-03-11T06:17:21.870976",
     "exception": false,
     "start_time": "2021-03-11T06:17:21.803532",
     "status": "completed"
    },
    "tags": []
   },
   "outputs": [
    {
     "data": {
      "text/html": [
       "<div>\n",
       "<style scoped>\n",
       "    .dataframe tbody tr th:only-of-type {\n",
       "        vertical-align: middle;\n",
       "    }\n",
       "\n",
       "    .dataframe tbody tr th {\n",
       "        vertical-align: top;\n",
       "    }\n",
       "\n",
       "    .dataframe thead th {\n",
       "        text-align: right;\n",
       "    }\n",
       "</style>\n",
       "<table border=\"1\" class=\"dataframe\">\n",
       "  <thead>\n",
       "    <tr style=\"text-align: right;\">\n",
       "      <th></th>\n",
       "      <th>id</th>\n",
       "      <th>target</th>\n",
       "    </tr>\n",
       "  </thead>\n",
       "  <tbody>\n",
       "    <tr>\n",
       "      <th>0</th>\n",
       "      <td>99402</td>\n",
       "      <td>0.962721</td>\n",
       "    </tr>\n",
       "    <tr>\n",
       "      <th>1</th>\n",
       "      <td>92026</td>\n",
       "      <td>0.029618</td>\n",
       "    </tr>\n",
       "    <tr>\n",
       "      <th>2</th>\n",
       "      <td>102280</td>\n",
       "      <td>0.050970</td>\n",
       "    </tr>\n",
       "    <tr>\n",
       "      <th>3</th>\n",
       "      <td>293468</td>\n",
       "      <td>0.048771</td>\n",
       "    </tr>\n",
       "    <tr>\n",
       "      <th>4</th>\n",
       "      <td>56800</td>\n",
       "      <td>0.149017</td>\n",
       "    </tr>\n",
       "  </tbody>\n",
       "</table>\n",
       "</div>"
      ],
      "text/plain": [
       "       id    target\n",
       "0   99402  0.962721\n",
       "1   92026  0.029618\n",
       "2  102280  0.050970\n",
       "3  293468  0.048771\n",
       "4   56800  0.149017"
      ]
     },
     "execution_count": 25,
     "metadata": {},
     "output_type": "execute_result"
    }
   ],
   "source": [
    "df_pred_final.head()"
   ]
  },
  {
   "cell_type": "code",
   "execution_count": null,
   "metadata": {},
   "outputs": [],
   "source": []
  },
  {
   "cell_type": "code",
   "execution_count": 26,
   "metadata": {
    "papermill": {
     "duration": 0.845712,
     "end_time": "2021-03-11T06:17:22.766013",
     "exception": false,
     "start_time": "2021-03-11T06:17:21.920301",
     "status": "completed"
    },
    "tags": []
   },
   "outputs": [
    {
     "name": "stdout",
     "output_type": "stream",
     "text": [
      "0.8918187129018053\n"
     ]
    }
   ],
   "source": [
    "if local_flag==False:\n",
    "    df_pred_final.to_csv('submission.csv', index=False)\n",
    "else:\n",
    "    from sklearn.metrics import roc_auc_score\n",
    "    score = roc_auc_score(df_test[\"target\"], pred)\n",
    "    print(score)"
   ]
  },
  {
   "cell_type": "code",
   "execution_count": 27,
   "metadata": {
    "papermill": {
     "duration": 0.066355,
     "end_time": "2021-03-11T06:17:23.226556",
     "exception": false,
     "start_time": "2021-03-11T06:17:23.160201",
     "status": "completed"
    },
    "tags": []
   },
   "outputs": [],
   "source": [
    "# y_test_label = df_test[\"target\"]"
   ]
  },
  {
   "cell_type": "code",
   "execution_count": 28,
   "metadata": {
    "papermill": {
     "duration": 0.06239,
     "end_time": "2021-03-11T06:17:23.343711",
     "exception": false,
     "start_time": "2021-03-11T06:17:23.281321",
     "status": "completed"
    },
    "tags": []
   },
   "outputs": [],
   "source": [
    "# roc_auc_score(y_test_label, pred)"
   ]
  },
  {
   "cell_type": "code",
   "execution_count": null,
   "metadata": {
    "papermill": {
     "duration": 0.050283,
     "end_time": "2021-03-11T06:17:23.548946",
     "exception": false,
     "start_time": "2021-03-11T06:17:23.498663",
     "status": "completed"
    },
    "tags": []
   },
   "outputs": [],
   "source": []
  },
  {
   "cell_type": "code",
   "execution_count": null,
   "metadata": {},
   "outputs": [],
   "source": []
  }
 ],
 "metadata": {
  "kernelspec": {
   "display_name": "Python 3",
   "language": "python",
   "name": "python3"
  },
  "language_info": {
   "codemirror_mode": {
    "name": "ipython",
    "version": 3
   },
   "file_extension": ".py",
   "mimetype": "text/x-python",
   "name": "python",
   "nbconvert_exporter": "python",
   "pygments_lexer": "ipython3",
   "version": "3.8.1"
  },
  "papermill": {
   "default_parameters": {},
   "duration": 77.832961,
   "end_time": "2021-03-11T06:17:24.319255",
   "environment_variables": {},
   "exception": null,
   "input_path": "__notebook__.ipynb",
   "output_path": "__notebook__.ipynb",
   "parameters": {},
   "start_time": "2021-03-11T06:16:06.486294",
   "version": "2.2.2"
  }
 },
 "nbformat": 4,
 "nbformat_minor": 4
}
