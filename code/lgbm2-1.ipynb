{
 "cells": [
  {
   "cell_type": "code",
   "execution_count": 1,
   "metadata": {
    "_cell_guid": "b1076dfc-b9ad-4769-8c92-a6c4dae69d19",
    "_uuid": "8f2839f25d086af736a60e9eeb907d3b93b6e0e5",
    "execution": {
     "iopub.execute_input": "2021-03-11T06:16:13.697401Z",
     "iopub.status.busy": "2021-03-11T06:16:13.696284Z",
     "iopub.status.idle": "2021-03-11T06:16:13.703725Z",
     "shell.execute_reply": "2021-03-11T06:16:13.702764Z"
    },
    "papermill": {
     "duration": 0.04634,
     "end_time": "2021-03-11T06:16:13.703948",
     "exception": false,
     "start_time": "2021-03-11T06:16:13.657608",
     "status": "completed"
    },
    "tags": []
   },
   "outputs": [
    {
     "name": "stdout",
     "output_type": "stream",
     "text": [
      "/kaggle/input/tabular-playground-series-mar-2021/sample_submission.csv\n",
      "/kaggle/input/tabular-playground-series-mar-2021/train.csv\n",
      "/kaggle/input/tabular-playground-series-mar-2021/test.csv\n"
     ]
    }
   ],
   "source": [
    "# This Python 3 environment comes with many helpful analytics libraries installed\n",
    "# It is defined by the kaggle/python Docker image: https://github.com/kaggle/docker-python\n",
    "# For example, here's several helpful packages to load\n",
    "\n",
    "import numpy as np # linear algebra\n",
    "import pandas as pd # data processing, CSV file I/O (e.g. pd.read_csv)\n",
    "\n",
    "# Input data files are available in the read-only \"../input/\" directory\n",
    "# For example, running this (by clicking run or pressing Shift+Enter) will list all files under the input directory\n",
    "\n",
    "import os\n",
    "for dirname, _, filenames in os.walk('/kaggle/input'):\n",
    "    for filename in filenames:\n",
    "        print(os.path.join(dirname, filename))\n",
    "\n",
    "# You can write up to 20GB to the current directory (/kaggle/working/) that gets preserved as output when you create a version using \"Save & Run All\" \n",
    "# You can also write temporary files to /kaggle/temp/, but they won't be saved outside of the current session"
   ]
  },
  {
   "cell_type": "code",
   "execution_count": 2,
   "metadata": {
    "execution": {
     "iopub.execute_input": "2021-03-11T06:16:13.771376Z",
     "iopub.status.busy": "2021-03-11T06:16:13.770321Z",
     "iopub.status.idle": "2021-03-11T06:16:13.773647Z",
     "shell.execute_reply": "2021-03-11T06:16:13.772949Z"
    },
    "papermill": {
     "duration": 0.039568,
     "end_time": "2021-03-11T06:16:13.773801",
     "exception": false,
     "start_time": "2021-03-11T06:16:13.734233",
     "status": "completed"
    },
    "tags": []
   },
   "outputs": [],
   "source": [
    "train_path = \"/kaggle/input/tabular-playground-series-mar-2021/train.csv\"\n",
    "test_path = \"/kaggle/input/tabular-playground-series-mar-2021/test.csv\""
   ]
  },
  {
   "cell_type": "code",
   "execution_count": null,
   "metadata": {
    "papermill": {
     "duration": 0.031617,
     "end_time": "2021-03-11T06:16:13.839385",
     "exception": false,
     "start_time": "2021-03-11T06:16:13.807768",
     "status": "completed"
    },
    "tags": []
   },
   "outputs": [],
   "source": []
  },
  {
   "cell_type": "code",
   "execution_count": 3,
   "metadata": {
    "execution": {
     "iopub.execute_input": "2021-03-11T06:16:13.905066Z",
     "iopub.status.busy": "2021-03-11T06:16:13.904252Z",
     "iopub.status.idle": "2021-03-11T06:16:13.907703Z",
     "shell.execute_reply": "2021-03-11T06:16:13.907026Z"
    },
    "papermill": {
     "duration": 0.038139,
     "end_time": "2021-03-11T06:16:13.907870",
     "exception": false,
     "start_time": "2021-03-11T06:16:13.869731",
     "status": "completed"
    },
    "tags": []
   },
   "outputs": [],
   "source": [
    "import hashlib"
   ]
  },
  {
   "cell_type": "code",
   "execution_count": 4,
   "metadata": {
    "execution": {
     "iopub.execute_input": "2021-03-11T06:16:13.977238Z",
     "iopub.status.busy": "2021-03-11T06:16:13.975941Z",
     "iopub.status.idle": "2021-03-11T06:16:13.980767Z",
     "shell.execute_reply": "2021-03-11T06:16:13.981457Z"
    },
    "papermill": {
     "duration": 0.04403,
     "end_time": "2021-03-11T06:16:13.981670",
     "exception": false,
     "start_time": "2021-03-11T06:16:13.937640",
     "status": "completed"
    },
    "tags": []
   },
   "outputs": [
    {
     "data": {
      "text/plain": [
       "45"
      ]
     },
     "execution_count": 4,
     "metadata": {},
     "output_type": "execute_result"
    }
   ],
   "source": [
    "s=\"A\"\n",
    "int(hashlib.sha256(s.encode('utf-8')).hexdigest(), 16) % 10**2"
   ]
  },
  {
   "cell_type": "code",
   "execution_count": 5,
   "metadata": {
    "execution": {
     "iopub.execute_input": "2021-03-11T06:16:14.053181Z",
     "iopub.status.busy": "2021-03-11T06:16:14.051849Z",
     "iopub.status.idle": "2021-03-11T06:16:14.054221Z",
     "shell.execute_reply": "2021-03-11T06:16:14.054842Z"
    },
    "papermill": {
     "duration": 0.040621,
     "end_time": "2021-03-11T06:16:14.055027",
     "exception": false,
     "start_time": "2021-03-11T06:16:14.014406",
     "status": "completed"
    },
    "tags": []
   },
   "outputs": [],
   "source": [
    "def hash_cat(s):\n",
    "    return int(hashlib.sha256(s.encode('utf-8')).hexdigest(), 16) % 10**3"
   ]
  },
  {
   "cell_type": "code",
   "execution_count": 6,
   "metadata": {
    "execution": {
     "iopub.execute_input": "2021-03-11T06:16:14.121649Z",
     "iopub.status.busy": "2021-03-11T06:16:14.120835Z",
     "iopub.status.idle": "2021-03-11T06:16:14.125282Z",
     "shell.execute_reply": "2021-03-11T06:16:14.125800Z"
    },
    "papermill": {
     "duration": 0.040403,
     "end_time": "2021-03-11T06:16:14.125996",
     "exception": false,
     "start_time": "2021-03-11T06:16:14.085593",
     "status": "completed"
    },
    "tags": []
   },
   "outputs": [],
   "source": [
    "# x = ['A', \"b\"]\n"
   ]
  },
  {
   "cell_type": "code",
   "execution_count": 7,
   "metadata": {
    "execution": {
     "iopub.execute_input": "2021-03-11T06:16:14.192902Z",
     "iopub.status.busy": "2021-03-11T06:16:14.191886Z",
     "iopub.status.idle": "2021-03-11T06:16:14.195902Z",
     "shell.execute_reply": "2021-03-11T06:16:14.196450Z"
    },
    "papermill": {
     "duration": 0.037957,
     "end_time": "2021-03-11T06:16:14.196640",
     "exception": false,
     "start_time": "2021-03-11T06:16:14.158683",
     "status": "completed"
    },
    "tags": []
   },
   "outputs": [],
   "source": [
    "# x.index('c')"
   ]
  },
  {
   "cell_type": "code",
   "execution_count": 8,
   "metadata": {
    "execution": {
     "iopub.execute_input": "2021-03-11T06:16:14.263891Z",
     "iopub.status.busy": "2021-03-11T06:16:14.262532Z",
     "iopub.status.idle": "2021-03-11T06:16:14.267994Z",
     "shell.execute_reply": "2021-03-11T06:16:14.268523Z"
    },
    "papermill": {
     "duration": 0.040903,
     "end_time": "2021-03-11T06:16:14.268729",
     "exception": false,
     "start_time": "2021-03-11T06:16:14.227826",
     "status": "completed"
    },
    "tags": []
   },
   "outputs": [],
   "source": [
    "cat_dict = []\n",
    "def hash_cat_two(s):\n",
    "    if s not in cat_dict:\n",
    "        cat_dict.append(s)\n",
    "    return cat_dict.index(s)"
   ]
  },
  {
   "cell_type": "code",
   "execution_count": 9,
   "metadata": {
    "execution": {
     "iopub.execute_input": "2021-03-11T06:16:14.336169Z",
     "iopub.status.busy": "2021-03-11T06:16:14.334845Z",
     "iopub.status.idle": "2021-03-11T06:16:14.339684Z",
     "shell.execute_reply": "2021-03-11T06:16:14.340219Z"
    },
    "papermill": {
     "duration": 0.040034,
     "end_time": "2021-03-11T06:16:14.340405",
     "exception": false,
     "start_time": "2021-03-11T06:16:14.300371",
     "status": "completed"
    },
    "tags": []
   },
   "outputs": [],
   "source": [
    "import pandas as pd"
   ]
  },
  {
   "cell_type": "code",
   "execution_count": 10,
   "metadata": {
    "execution": {
     "iopub.execute_input": "2021-03-11T06:16:14.408264Z",
     "iopub.status.busy": "2021-03-11T06:16:14.407282Z",
     "iopub.status.idle": "2021-03-11T06:16:19.146189Z",
     "shell.execute_reply": "2021-03-11T06:16:19.145290Z"
    },
    "papermill": {
     "duration": 4.774135,
     "end_time": "2021-03-11T06:16:19.146347",
     "exception": false,
     "start_time": "2021-03-11T06:16:14.372212",
     "status": "completed"
    },
    "tags": []
   },
   "outputs": [],
   "source": [
    "df_train = pd.read_csv(train_path)\n",
    "df_test = pd.read_csv(test_path)\n"
   ]
  },
  {
   "cell_type": "code",
   "execution_count": 11,
   "metadata": {
    "execution": {
     "iopub.execute_input": "2021-03-11T06:16:19.220736Z",
     "iopub.status.busy": "2021-03-11T06:16:19.219668Z",
     "iopub.status.idle": "2021-03-11T06:16:19.225222Z",
     "shell.execute_reply": "2021-03-11T06:16:19.224542Z"
    },
    "papermill": {
     "duration": 0.045639,
     "end_time": "2021-03-11T06:16:19.225381",
     "exception": false,
     "start_time": "2021-03-11T06:16:19.179742",
     "status": "completed"
    },
    "tags": []
   },
   "outputs": [
    {
     "data": {
      "text/plain": [
       "300000"
      ]
     },
     "execution_count": 11,
     "metadata": {},
     "output_type": "execute_result"
    }
   ],
   "source": [
    "len(df_train)"
   ]
  },
  {
   "cell_type": "code",
   "execution_count": 12,
   "metadata": {
    "execution": {
     "iopub.execute_input": "2021-03-11T06:16:19.314919Z",
     "iopub.status.busy": "2021-03-11T06:16:19.314215Z",
     "iopub.status.idle": "2021-03-11T06:16:19.347789Z",
     "shell.execute_reply": "2021-03-11T06:16:19.348292Z"
    },
    "papermill": {
     "duration": 0.090008,
     "end_time": "2021-03-11T06:16:19.348504",
     "exception": false,
     "start_time": "2021-03-11T06:16:19.258496",
     "status": "completed"
    },
    "tags": []
   },
   "outputs": [
    {
     "data": {
      "text/html": [
       "<div>\n",
       "<style scoped>\n",
       "    .dataframe tbody tr th:only-of-type {\n",
       "        vertical-align: middle;\n",
       "    }\n",
       "\n",
       "    .dataframe tbody tr th {\n",
       "        vertical-align: top;\n",
       "    }\n",
       "\n",
       "    .dataframe thead th {\n",
       "        text-align: right;\n",
       "    }\n",
       "</style>\n",
       "<table border=\"1\" class=\"dataframe\">\n",
       "  <thead>\n",
       "    <tr style=\"text-align: right;\">\n",
       "      <th></th>\n",
       "      <th>id</th>\n",
       "      <th>cat0</th>\n",
       "      <th>cat1</th>\n",
       "      <th>cat2</th>\n",
       "      <th>cat3</th>\n",
       "      <th>cat4</th>\n",
       "      <th>cat5</th>\n",
       "      <th>cat6</th>\n",
       "      <th>cat7</th>\n",
       "      <th>cat8</th>\n",
       "      <th>...</th>\n",
       "      <th>cont2</th>\n",
       "      <th>cont3</th>\n",
       "      <th>cont4</th>\n",
       "      <th>cont5</th>\n",
       "      <th>cont6</th>\n",
       "      <th>cont7</th>\n",
       "      <th>cont8</th>\n",
       "      <th>cont9</th>\n",
       "      <th>cont10</th>\n",
       "      <th>target</th>\n",
       "    </tr>\n",
       "  </thead>\n",
       "  <tbody>\n",
       "    <tr>\n",
       "      <th>0</th>\n",
       "      <td>0</td>\n",
       "      <td>A</td>\n",
       "      <td>I</td>\n",
       "      <td>A</td>\n",
       "      <td>B</td>\n",
       "      <td>B</td>\n",
       "      <td>BI</td>\n",
       "      <td>A</td>\n",
       "      <td>S</td>\n",
       "      <td>Q</td>\n",
       "      <td>...</td>\n",
       "      <td>0.759439</td>\n",
       "      <td>0.795549</td>\n",
       "      <td>0.681917</td>\n",
       "      <td>0.621672</td>\n",
       "      <td>0.592184</td>\n",
       "      <td>0.791921</td>\n",
       "      <td>0.815254</td>\n",
       "      <td>0.965006</td>\n",
       "      <td>0.665915</td>\n",
       "      <td>0</td>\n",
       "    </tr>\n",
       "    <tr>\n",
       "      <th>1</th>\n",
       "      <td>1</td>\n",
       "      <td>A</td>\n",
       "      <td>I</td>\n",
       "      <td>A</td>\n",
       "      <td>A</td>\n",
       "      <td>E</td>\n",
       "      <td>BI</td>\n",
       "      <td>K</td>\n",
       "      <td>W</td>\n",
       "      <td>AD</td>\n",
       "      <td>...</td>\n",
       "      <td>0.386385</td>\n",
       "      <td>0.541366</td>\n",
       "      <td>0.388982</td>\n",
       "      <td>0.357778</td>\n",
       "      <td>0.600044</td>\n",
       "      <td>0.408701</td>\n",
       "      <td>0.399353</td>\n",
       "      <td>0.927406</td>\n",
       "      <td>0.493729</td>\n",
       "      <td>0</td>\n",
       "    </tr>\n",
       "    <tr>\n",
       "      <th>2</th>\n",
       "      <td>2</td>\n",
       "      <td>A</td>\n",
       "      <td>K</td>\n",
       "      <td>A</td>\n",
       "      <td>A</td>\n",
       "      <td>E</td>\n",
       "      <td>BI</td>\n",
       "      <td>A</td>\n",
       "      <td>E</td>\n",
       "      <td>BM</td>\n",
       "      <td>...</td>\n",
       "      <td>0.343255</td>\n",
       "      <td>0.616352</td>\n",
       "      <td>0.793687</td>\n",
       "      <td>0.552877</td>\n",
       "      <td>0.352113</td>\n",
       "      <td>0.388835</td>\n",
       "      <td>0.412303</td>\n",
       "      <td>0.292696</td>\n",
       "      <td>0.549452</td>\n",
       "      <td>0</td>\n",
       "    </tr>\n",
       "    <tr>\n",
       "      <th>3</th>\n",
       "      <td>3</td>\n",
       "      <td>A</td>\n",
       "      <td>K</td>\n",
       "      <td>A</td>\n",
       "      <td>C</td>\n",
       "      <td>E</td>\n",
       "      <td>BI</td>\n",
       "      <td>A</td>\n",
       "      <td>Y</td>\n",
       "      <td>AD</td>\n",
       "      <td>...</td>\n",
       "      <td>0.831147</td>\n",
       "      <td>0.807807</td>\n",
       "      <td>0.800032</td>\n",
       "      <td>0.619147</td>\n",
       "      <td>0.221789</td>\n",
       "      <td>0.897617</td>\n",
       "      <td>0.633669</td>\n",
       "      <td>0.760318</td>\n",
       "      <td>0.934242</td>\n",
       "      <td>0</td>\n",
       "    </tr>\n",
       "    <tr>\n",
       "      <th>4</th>\n",
       "      <td>4</td>\n",
       "      <td>A</td>\n",
       "      <td>I</td>\n",
       "      <td>G</td>\n",
       "      <td>B</td>\n",
       "      <td>E</td>\n",
       "      <td>BI</td>\n",
       "      <td>C</td>\n",
       "      <td>G</td>\n",
       "      <td>Q</td>\n",
       "      <td>...</td>\n",
       "      <td>0.338818</td>\n",
       "      <td>0.277308</td>\n",
       "      <td>0.610578</td>\n",
       "      <td>0.128291</td>\n",
       "      <td>0.578764</td>\n",
       "      <td>0.279167</td>\n",
       "      <td>0.351103</td>\n",
       "      <td>0.357084</td>\n",
       "      <td>0.328960</td>\n",
       "      <td>1</td>\n",
       "    </tr>\n",
       "  </tbody>\n",
       "</table>\n",
       "<p>5 rows × 32 columns</p>\n",
       "</div>"
      ],
      "text/plain": [
       "   id cat0 cat1 cat2 cat3 cat4 cat5 cat6 cat7 cat8  ...     cont2     cont3  \\\n",
       "0   0    A    I    A    B    B   BI    A    S    Q  ...  0.759439  0.795549   \n",
       "1   1    A    I    A    A    E   BI    K    W   AD  ...  0.386385  0.541366   \n",
       "2   2    A    K    A    A    E   BI    A    E   BM  ...  0.343255  0.616352   \n",
       "3   3    A    K    A    C    E   BI    A    Y   AD  ...  0.831147  0.807807   \n",
       "4   4    A    I    G    B    E   BI    C    G    Q  ...  0.338818  0.277308   \n",
       "\n",
       "      cont4     cont5     cont6     cont7     cont8     cont9    cont10 target  \n",
       "0  0.681917  0.621672  0.592184  0.791921  0.815254  0.965006  0.665915      0  \n",
       "1  0.388982  0.357778  0.600044  0.408701  0.399353  0.927406  0.493729      0  \n",
       "2  0.793687  0.552877  0.352113  0.388835  0.412303  0.292696  0.549452      0  \n",
       "3  0.800032  0.619147  0.221789  0.897617  0.633669  0.760318  0.934242      0  \n",
       "4  0.610578  0.128291  0.578764  0.279167  0.351103  0.357084  0.328960      1  \n",
       "\n",
       "[5 rows x 32 columns]"
      ]
     },
     "execution_count": 12,
     "metadata": {},
     "output_type": "execute_result"
    }
   ],
   "source": [
    "df_train.head()"
   ]
  },
  {
   "cell_type": "code",
   "execution_count": 13,
   "metadata": {
    "execution": {
     "iopub.execute_input": "2021-03-11T06:16:19.420126Z",
     "iopub.status.busy": "2021-03-11T06:16:19.419361Z",
     "iopub.status.idle": "2021-03-11T06:16:20.693087Z",
     "shell.execute_reply": "2021-03-11T06:16:20.692083Z"
    },
    "papermill": {
     "duration": 1.311217,
     "end_time": "2021-03-11T06:16:20.693263",
     "exception": false,
     "start_time": "2021-03-11T06:16:19.382046",
     "status": "completed"
    },
    "tags": []
   },
   "outputs": [],
   "source": [
    "from sklearn.preprocessing import OrdinalEncoder, LabelEncoder"
   ]
  },
  {
   "cell_type": "code",
   "execution_count": 14,
   "metadata": {
    "execution": {
     "iopub.execute_input": "2021-03-11T06:16:20.770922Z",
     "iopub.status.busy": "2021-03-11T06:16:20.769970Z",
     "iopub.status.idle": "2021-03-11T06:16:20.776969Z",
     "shell.execute_reply": "2021-03-11T06:16:20.776074Z"
    },
    "papermill": {
     "duration": 0.050293,
     "end_time": "2021-03-11T06:16:20.777157",
     "exception": false,
     "start_time": "2021-03-11T06:16:20.726864",
     "status": "completed"
    },
    "tags": []
   },
   "outputs": [
    {
     "data": {
      "text/plain": [
       "Index(['id', 'cat0', 'cat1', 'cat2', 'cat3', 'cat4', 'cat5', 'cat6', 'cat7',\n",
       "       'cat8', 'cat9', 'cat10', 'cat11', 'cat12', 'cat13', 'cat14', 'cat15',\n",
       "       'cat16', 'cat17', 'cat18', 'cont0', 'cont1', 'cont2', 'cont3', 'cont4',\n",
       "       'cont5', 'cont6', 'cont7', 'cont8', 'cont9', 'cont10', 'target'],\n",
       "      dtype='object')"
      ]
     },
     "execution_count": 14,
     "metadata": {},
     "output_type": "execute_result"
    }
   ],
   "source": [
    "df_train.columns"
   ]
  },
  {
   "cell_type": "code",
   "execution_count": 15,
   "metadata": {
    "execution": {
     "iopub.execute_input": "2021-03-11T06:16:20.852960Z",
     "iopub.status.busy": "2021-03-11T06:16:20.852257Z",
     "iopub.status.idle": "2021-03-11T06:16:20.940893Z",
     "shell.execute_reply": "2021-03-11T06:16:20.940217Z"
    },
    "papermill": {
     "duration": 0.129369,
     "end_time": "2021-03-11T06:16:20.941070",
     "exception": false,
     "start_time": "2021-03-11T06:16:20.811701",
     "status": "completed"
    },
    "tags": []
   },
   "outputs": [],
   "source": [
    "from sklearn.model_selection import train_test_split"
   ]
  },
  {
   "cell_type": "code",
   "execution_count": 16,
   "metadata": {
    "execution": {
     "iopub.execute_input": "2021-03-11T06:16:21.017921Z",
     "iopub.status.busy": "2021-03-11T06:16:21.017201Z",
     "iopub.status.idle": "2021-03-11T06:16:21.020840Z",
     "shell.execute_reply": "2021-03-11T06:16:21.020115Z"
    },
    "papermill": {
     "duration": 0.044066,
     "end_time": "2021-03-11T06:16:21.020997",
     "exception": false,
     "start_time": "2021-03-11T06:16:20.976931",
     "status": "completed"
    },
    "tags": []
   },
   "outputs": [],
   "source": [
    "# ?train_test_split"
   ]
  },
  {
   "cell_type": "code",
   "execution_count": 17,
   "metadata": {
    "execution": {
     "iopub.execute_input": "2021-03-11T06:16:21.099469Z",
     "iopub.status.busy": "2021-03-11T06:16:21.098612Z",
     "iopub.status.idle": "2021-03-11T06:16:21.101560Z",
     "shell.execute_reply": "2021-03-11T06:16:21.101042Z"
    },
    "papermill": {
     "duration": 0.04383,
     "end_time": "2021-03-11T06:16:21.101717",
     "exception": false,
     "start_time": "2021-03-11T06:16:21.057887",
     "status": "completed"
    },
    "tags": []
   },
   "outputs": [],
   "source": [
    "cat_col = ['cat0', 'cat1', 'cat2', 'cat3', 'cat4', 'cat5', 'cat6', 'cat7',\n",
    "       'cat8', 'cat9', 'cat10', 'cat11', 'cat12', 'cat13', 'cat14', 'cat15',\n",
    "       'cat16', 'cat17', 'cat18']\n",
    "cont_col = ['cont0', 'cont1', 'cont2', 'cont3', 'cont4',\n",
    "       'cont5', 'cont6', 'cont7', 'cont8', 'cont9', 'cont10']"
   ]
  },
  {
   "cell_type": "code",
   "execution_count": 18,
   "metadata": {
    "execution": {
     "iopub.execute_input": "2021-03-11T06:16:21.267748Z",
     "iopub.status.busy": "2021-03-11T06:16:21.266994Z",
     "iopub.status.idle": "2021-03-11T06:16:28.904783Z",
     "shell.execute_reply": "2021-03-11T06:16:28.905387Z"
    },
    "papermill": {
     "duration": 7.769308,
     "end_time": "2021-03-11T06:16:28.905606",
     "exception": false,
     "start_time": "2021-03-11T06:16:21.136298",
     "status": "completed"
    },
    "tags": []
   },
   "outputs": [
    {
     "name": "stdout",
     "output_type": "stream",
     "text": [
      "done  cat0\n",
      "done  cat1\n",
      "done  cat2\n",
      "done  cat3\n",
      "done  cat4\n",
      "done  cat5\n",
      "done  cat6\n",
      "done  cat7\n",
      "done  cat8\n",
      "done  cat9\n",
      "done  cat10\n",
      "done  cat11\n",
      "done  cat12\n",
      "done  cat13\n",
      "done  cat14\n",
      "done  cat15\n",
      "done  cat16\n",
      "done  cat17\n",
      "done  cat18\n"
     ]
    }
   ],
   "source": [
    "for col in cat_col:\n",
    "    encoder = LabelEncoder()\n",
    "    # encoder.fit(list(df_train[col]) + list(df_test[col]))\n",
    "    encoder.fit(list(df_train[col].values) + list(df_test[col].values))\n",
    "    df_train[col] = encoder.transform(df_train[col].values)\n",
    "    df_test[col] = encoder.transform(df_test[col].values)\n",
    "    print(\"done \", col)"
   ]
  },
  {
   "cell_type": "code",
   "execution_count": 19,
   "metadata": {
    "execution": {
     "iopub.execute_input": "2021-03-11T06:16:28.995982Z",
     "iopub.status.busy": "2021-03-11T06:16:28.995256Z",
     "iopub.status.idle": "2021-03-11T06:16:29.116566Z",
     "shell.execute_reply": "2021-03-11T06:16:29.117076Z"
    },
    "papermill": {
     "duration": 0.169724,
     "end_time": "2021-03-11T06:16:29.117269",
     "exception": false,
     "start_time": "2021-03-11T06:16:28.947545",
     "status": "completed"
    },
    "tags": []
   },
   "outputs": [],
   "source": [
    "X = df_train.drop([\"id\", \"target\"], axis=1)\n",
    "y = df_train[\"target\"]\n"
   ]
  },
  {
   "cell_type": "code",
   "execution_count": 20,
   "metadata": {
    "execution": {
     "iopub.execute_input": "2021-03-11T06:16:29.213357Z",
     "iopub.status.busy": "2021-03-11T06:16:29.212545Z",
     "iopub.status.idle": "2021-03-11T06:16:29.218729Z",
     "shell.execute_reply": "2021-03-11T06:16:29.218071Z"
    },
    "papermill": {
     "duration": 0.056601,
     "end_time": "2021-03-11T06:16:29.218903",
     "exception": false,
     "start_time": "2021-03-11T06:16:29.162302",
     "status": "completed"
    },
    "tags": []
   },
   "outputs": [
    {
     "data": {
      "text/plain": [
       "(300000, 30)"
      ]
     },
     "execution_count": 20,
     "metadata": {},
     "output_type": "execute_result"
    }
   ],
   "source": [
    "X.shape"
   ]
  },
  {
   "cell_type": "code",
   "execution_count": 21,
   "metadata": {
    "execution": {
     "iopub.execute_input": "2021-03-11T06:16:29.311030Z",
     "iopub.status.busy": "2021-03-11T06:16:29.309886Z",
     "iopub.status.idle": "2021-03-11T06:16:29.315891Z",
     "shell.execute_reply": "2021-03-11T06:16:29.315014Z"
    },
    "papermill": {
     "duration": 0.05474,
     "end_time": "2021-03-11T06:16:29.316243",
     "exception": false,
     "start_time": "2021-03-11T06:16:29.261503",
     "status": "completed"
    },
    "tags": []
   },
   "outputs": [
    {
     "data": {
      "text/plain": [
       "(300000,)"
      ]
     },
     "execution_count": 21,
     "metadata": {},
     "output_type": "execute_result"
    }
   ],
   "source": [
    "y.shape"
   ]
  },
  {
   "cell_type": "code",
   "execution_count": 22,
   "metadata": {
    "execution": {
     "iopub.execute_input": "2021-03-11T06:16:29.408238Z",
     "iopub.status.busy": "2021-03-11T06:16:29.407587Z",
     "iopub.status.idle": "2021-03-11T06:16:29.590662Z",
     "shell.execute_reply": "2021-03-11T06:16:29.590058Z"
    },
    "papermill": {
     "duration": 0.231096,
     "end_time": "2021-03-11T06:16:29.590816",
     "exception": false,
     "start_time": "2021-03-11T06:16:29.359720",
     "status": "completed"
    },
    "tags": []
   },
   "outputs": [],
   "source": [
    "X_train, X_test, y_train, y_test = train_test_split(X, y, test_size=0.1, random_state=111)"
   ]
  },
  {
   "cell_type": "code",
   "execution_count": null,
   "metadata": {
    "papermill": {
     "duration": 0.040089,
     "end_time": "2021-03-11T06:16:29.672357",
     "exception": false,
     "start_time": "2021-03-11T06:16:29.632268",
     "status": "completed"
    },
    "tags": []
   },
   "outputs": [],
   "source": []
  },
  {
   "cell_type": "code",
   "execution_count": 23,
   "metadata": {
    "execution": {
     "iopub.execute_input": "2021-03-11T06:16:29.762140Z",
     "iopub.status.busy": "2021-03-11T06:16:29.761294Z",
     "iopub.status.idle": "2021-03-11T06:16:29.918825Z",
     "shell.execute_reply": "2021-03-11T06:16:29.918179Z"
    },
    "papermill": {
     "duration": 0.205162,
     "end_time": "2021-03-11T06:16:29.918991",
     "exception": false,
     "start_time": "2021-03-11T06:16:29.713829",
     "status": "completed"
    },
    "tags": []
   },
   "outputs": [
    {
     "data": {
      "text/html": [
       "<style type='text/css'>\n",
       ".datatable table.frame { margin-bottom: 0; }\n",
       ".datatable table.frame thead { border-bottom: none; }\n",
       ".datatable table.frame tr.coltypes td {  color: #FFFFFF;  line-height: 6px;  padding: 0 0.5em;}\n",
       ".datatable .bool    { background: #DDDD99; }\n",
       ".datatable .object  { background: #565656; }\n",
       ".datatable .int     { background: #5D9E5D; }\n",
       ".datatable .float   { background: #4040CC; }\n",
       ".datatable .str     { background: #CC4040; }\n",
       ".datatable .row_index {  background: var(--jp-border-color3);  border-right: 1px solid var(--jp-border-color0);  color: var(--jp-ui-font-color3);  font-size: 9px;}\n",
       ".datatable .frame tr.coltypes .row_index {  background: var(--jp-border-color0);}\n",
       ".datatable th:nth-child(2) { padding-left: 12px; }\n",
       ".datatable .hellipsis {  color: var(--jp-cell-editor-border-color);}\n",
       ".datatable .vellipsis {  background: var(--jp-layout-color0);  color: var(--jp-cell-editor-border-color);}\n",
       ".datatable .na {  color: var(--jp-cell-editor-border-color);  font-size: 80%;}\n",
       ".datatable .footer { font-size: 9px; }\n",
       ".datatable .frame_dimensions {  background: var(--jp-border-color3);  border-top: 1px solid var(--jp-border-color0);  color: var(--jp-ui-font-color3);  display: inline-block;  opacity: 0.6;  padding: 1px 10px 1px 5px;}\n",
       "</style>\n"
      ],
      "text/plain": [
       "<IPython.core.display.HTML object>"
      ]
     },
     "metadata": {},
     "output_type": "display_data"
    }
   ],
   "source": [
    "import lightgbm as gbm"
   ]
  },
  {
   "cell_type": "code",
   "execution_count": 24,
   "metadata": {
    "execution": {
     "iopub.execute_input": "2021-03-11T06:16:30.012224Z",
     "iopub.status.busy": "2021-03-11T06:16:30.011523Z",
     "iopub.status.idle": "2021-03-11T06:16:30.019330Z",
     "shell.execute_reply": "2021-03-11T06:16:30.018689Z"
    },
    "papermill": {
     "duration": 0.05711,
     "end_time": "2021-03-11T06:16:30.019515",
     "exception": false,
     "start_time": "2021-03-11T06:16:29.962405",
     "status": "completed"
    },
    "tags": []
   },
   "outputs": [
    {
     "data": {
      "text/plain": [
       "array([0, 1])"
      ]
     },
     "execution_count": 24,
     "metadata": {},
     "output_type": "execute_result"
    }
   ],
   "source": [
    "df_train[\"cat0\"].unique()"
   ]
  },
  {
   "cell_type": "code",
   "execution_count": 25,
   "metadata": {
    "execution": {
     "iopub.execute_input": "2021-03-11T06:16:30.112621Z",
     "iopub.status.busy": "2021-03-11T06:16:30.111932Z",
     "iopub.status.idle": "2021-03-11T06:16:30.115943Z",
     "shell.execute_reply": "2021-03-11T06:16:30.116597Z"
    },
    "papermill": {
     "duration": 0.053642,
     "end_time": "2021-03-11T06:16:30.116783",
     "exception": false,
     "start_time": "2021-03-11T06:16:30.063141",
     "status": "completed"
    },
    "tags": []
   },
   "outputs": [],
   "source": [
    "train_data = gbm.Dataset(X_train, label=y_train, categorical_feature=cat_col)"
   ]
  },
  {
   "cell_type": "code",
   "execution_count": 26,
   "metadata": {
    "execution": {
     "iopub.execute_input": "2021-03-11T06:16:30.207043Z",
     "iopub.status.busy": "2021-03-11T06:16:30.206153Z",
     "iopub.status.idle": "2021-03-11T06:16:30.210018Z",
     "shell.execute_reply": "2021-03-11T06:16:30.210560Z"
    },
    "papermill": {
     "duration": 0.05245,
     "end_time": "2021-03-11T06:16:30.210754",
     "exception": false,
     "start_time": "2021-03-11T06:16:30.158304",
     "status": "completed"
    },
    "tags": []
   },
   "outputs": [],
   "source": [
    "validation_data = gbm.Dataset(X_test, label=y_test, reference=train_data)"
   ]
  },
  {
   "cell_type": "code",
   "execution_count": 27,
   "metadata": {
    "execution": {
     "iopub.execute_input": "2021-03-11T06:16:30.307174Z",
     "iopub.status.busy": "2021-03-11T06:16:30.306483Z",
     "iopub.status.idle": "2021-03-11T06:16:30.309887Z",
     "shell.execute_reply": "2021-03-11T06:16:30.308854Z"
    },
    "papermill": {
     "duration": 0.057495,
     "end_time": "2021-03-11T06:16:30.310060",
     "exception": false,
     "start_time": "2021-03-11T06:16:30.252565",
     "status": "completed"
    },
    "tags": []
   },
   "outputs": [],
   "source": [
    "lgbm_params = {\n",
    "    'boosting': 'gbdt',          # dart (drop out trees) often performs better\n",
    "    'application': 'binary',     # Binary classification\n",
    "    'learning_rate': 0.02,       # Learning rate, controls size of a gradient descent step\n",
    "    'min_data_in_leaf': 20,      # Data set is quite small so reduce this a bit\n",
    "    'feature_fraction': 0.7,     # Proportion of features in each boost, controls overfitting\n",
    "    'num_leaves': 100,            # Controls size of tree since LGBM uses leaf wise splits\n",
    "    'metric': 'auc',  # Area under ROC curve as the evaulation metric\n",
    "}"
   ]
  },
  {
   "cell_type": "markdown",
   "metadata": {
    "papermill": {
     "duration": 0.047241,
     "end_time": "2021-03-11T06:16:30.402865",
     "exception": false,
     "start_time": "2021-03-11T06:16:30.355624",
     "status": "completed"
    },
    "tags": []
   },
   "source": [
    "https://www.kaggle.com/sayantansadhu/lgbm-with-hyper-parameter-tuning-using-optuna"
   ]
  },
  {
   "cell_type": "code",
   "execution_count": 28,
   "metadata": {
    "execution": {
     "iopub.execute_input": "2021-03-11T06:16:30.500774Z",
     "iopub.status.busy": "2021-03-11T06:16:30.500001Z",
     "iopub.status.idle": "2021-03-11T06:16:30.502755Z",
     "shell.execute_reply": "2021-03-11T06:16:30.501995Z"
    },
    "papermill": {
     "duration": 0.052952,
     "end_time": "2021-03-11T06:16:30.502906",
     "exception": false,
     "start_time": "2021-03-11T06:16:30.449954",
     "status": "completed"
    },
    "tags": []
   },
   "outputs": [],
   "source": [
    "lgbm_params = {\n",
    "    'boosting': 'gbdt',          # dart (drop out trees) often performs better\n",
    "    'application': 'binary',     # Binary classification\n",
    "    'learning_rate': 0.02,       # Learning rate, controls size of a gradient descent step\n",
    "    'min_data_in_leaf': 100,      # Data set is quite small so reduce this a bit\n",
    "    'feature_fraction': 0.7,     # Proportion of features in each boost, controls overfitting\n",
    "    'metric': 'binary_logloss',  # Area under ROC curve as the evaulation metric,\n",
    "    'lambda_l1': 5e-05, \n",
    "     'lambda_l2': 1.35e-08, \n",
    "     'num_leaves': 216, \n",
    "     'feature_fraction': 0.7458519562366559, \n",
    "     'bagging_fraction': 0.7835116194444349, \n",
    "     'bagging_freq': 2, \n",
    "     'min_child_samples': 95\n",
    "}\n",
    "\n",
    "# {'lambda_l1': 5.7529066102502985e-05, \n",
    "#  'lambda_l2': 1.3522520634637266e-08, \n",
    "#  'num_leaves': 216, \n",
    "#  'feature_fraction': 0.7458519562366559, \n",
    "#  'bagging_fraction': 0.7835116194444349, \n",
    "#  'bagging_freq': 2, \n",
    "#  'min_child_samples': 95}"
   ]
  },
  {
   "cell_type": "code",
   "execution_count": null,
   "metadata": {
    "papermill": {
     "duration": 0.04496,
     "end_time": "2021-03-11T06:16:30.590769",
     "exception": false,
     "start_time": "2021-03-11T06:16:30.545809",
     "status": "completed"
    },
    "tags": []
   },
   "outputs": [],
   "source": []
  },
  {
   "cell_type": "code",
   "execution_count": 29,
   "metadata": {
    "execution": {
     "iopub.execute_input": "2021-03-11T06:16:30.682085Z",
     "iopub.status.busy": "2021-03-11T06:16:30.681236Z",
     "iopub.status.idle": "2021-03-11T06:17:10.690610Z",
     "shell.execute_reply": "2021-03-11T06:17:10.691109Z"
    },
    "papermill": {
     "duration": 40.058552,
     "end_time": "2021-03-11T06:17:10.691340",
     "exception": false,
     "start_time": "2021-03-11T06:16:30.632788",
     "status": "completed"
    },
    "tags": []
   },
   "outputs": [
    {
     "name": "stderr",
     "output_type": "stream",
     "text": [
      "/opt/conda/lib/python3.7/site-packages/lightgbm/basic.py:1551: UserWarning: Using categorical_feature in Dataset.\n",
      "  warnings.warn('Using categorical_feature in Dataset.')\n",
      "/opt/conda/lib/python3.7/site-packages/lightgbm/basic.py:1555: UserWarning: categorical_feature in Dataset is overridden.\n",
      "New categorical_feature is ['cat0', 'cat1', 'cat10', 'cat11', 'cat12', 'cat13', 'cat14', 'cat15', 'cat16', 'cat17', 'cat18', 'cat2', 'cat3', 'cat4', 'cat5', 'cat6', 'cat7', 'cat8', 'cat9']\n",
      "  'New categorical_feature is {}'.format(sorted(list(categorical_feature))))\n"
     ]
    },
    {
     "name": "stdout",
     "output_type": "stream",
     "text": [
      "[LightGBM] [Warning] min_data_in_leaf is set=100, min_child_samples=95 will be ignored. Current value: min_data_in_leaf=100\n",
      "[LightGBM] [Warning] min_data_in_leaf is set=100, min_child_samples=95 will be ignored. Current value: min_data_in_leaf=100\n",
      "[LightGBM] [Info] Number of positive: 71549, number of negative: 198451\n",
      "[LightGBM] [Warning] Auto-choosing col-wise multi-threading, the overhead of testing was 0.092057 seconds.\n",
      "You can set `force_col_wise=true` to remove the overhead.\n",
      "[LightGBM] [Info] Total Bins 3390\n",
      "[LightGBM] [Info] Number of data points in the train set: 270000, number of used features: 30\n",
      "[LightGBM] [Warning] min_data_in_leaf is set=100, min_child_samples=95 will be ignored. Current value: min_data_in_leaf=100\n",
      "[LightGBM] [Info] [binary:BoostFromScore]: pavg=0.264996 -> initscore=-1.020160\n",
      "[LightGBM] [Info] Start training from score -1.020160\n"
     ]
    },
    {
     "name": "stderr",
     "output_type": "stream",
     "text": [
      "/opt/conda/lib/python3.7/site-packages/lightgbm/basic.py:1286: UserWarning: Overriding the parameters from Reference Dataset.\n",
      "  warnings.warn('Overriding the parameters from Reference Dataset.')\n",
      "/opt/conda/lib/python3.7/site-packages/lightgbm/basic.py:1098: UserWarning: categorical_column in param dict is overridden.\n",
      "  warnings.warn('{} in param dict is overridden.'.format(cat_alias))\n"
     ]
    },
    {
     "name": "stdout",
     "output_type": "stream",
     "text": [
      "Training until validation scores don't improve for 10 rounds\n",
      "[100]\tvalid_0's binary_logloss: 0.36097\n",
      "[200]\tvalid_0's binary_logloss: 0.342214\n",
      "[300]\tvalid_0's binary_logloss: 0.338063\n",
      "[400]\tvalid_0's binary_logloss: 0.336583\n",
      "Early stopping, best iteration is:\n",
      "[463]\tvalid_0's binary_logloss: 0.33614\n"
     ]
    }
   ],
   "source": [
    "num_round = 1000\n",
    "bst = gbm.train(lgbm_params, train_data, num_round, valid_sets=[validation_data], early_stopping_rounds=10, verbose_eval=100)"
   ]
  },
  {
   "cell_type": "code",
   "execution_count": 30,
   "metadata": {
    "execution": {
     "iopub.execute_input": "2021-03-11T06:17:10.788272Z",
     "iopub.status.busy": "2021-03-11T06:17:10.787244Z",
     "iopub.status.idle": "2021-03-11T06:17:10.792356Z",
     "shell.execute_reply": "2021-03-11T06:17:10.791687Z"
    },
    "papermill": {
     "duration": 0.05556,
     "end_time": "2021-03-11T06:17:10.792531",
     "exception": false,
     "start_time": "2021-03-11T06:17:10.736971",
     "status": "completed"
    },
    "tags": []
   },
   "outputs": [],
   "source": [
    "# ?gbm.train"
   ]
  },
  {
   "cell_type": "code",
   "execution_count": 31,
   "metadata": {
    "execution": {
     "iopub.execute_input": "2021-03-11T06:17:10.892019Z",
     "iopub.status.busy": "2021-03-11T06:17:10.891316Z",
     "iopub.status.idle": "2021-03-11T06:17:10.894711Z",
     "shell.execute_reply": "2021-03-11T06:17:10.894069Z"
    },
    "papermill": {
     "duration": 0.055545,
     "end_time": "2021-03-11T06:17:10.894901",
     "exception": false,
     "start_time": "2021-03-11T06:17:10.839356",
     "status": "completed"
    },
    "tags": []
   },
   "outputs": [],
   "source": [
    "# df_test = pd.read_csv(test_path)\n",
    "# df_test.head()"
   ]
  },
  {
   "cell_type": "code",
   "execution_count": 32,
   "metadata": {
    "execution": {
     "iopub.execute_input": "2021-03-11T06:17:10.996831Z",
     "iopub.status.busy": "2021-03-11T06:17:10.995447Z",
     "iopub.status.idle": "2021-03-11T06:17:11.040785Z",
     "shell.execute_reply": "2021-03-11T06:17:11.040117Z"
    },
    "papermill": {
     "duration": 0.099497,
     "end_time": "2021-03-11T06:17:11.040944",
     "exception": false,
     "start_time": "2021-03-11T06:17:10.941447",
     "status": "completed"
    },
    "tags": []
   },
   "outputs": [],
   "source": [
    "df_test2 = df_test.drop([\"id\"], axis=1)"
   ]
  },
  {
   "cell_type": "code",
   "execution_count": 33,
   "metadata": {
    "execution": {
     "iopub.execute_input": "2021-03-11T06:17:11.139958Z",
     "iopub.status.busy": "2021-03-11T06:17:11.138896Z",
     "iopub.status.idle": "2021-03-11T06:17:11.142801Z",
     "shell.execute_reply": "2021-03-11T06:17:11.142128Z"
    },
    "papermill": {
     "duration": 0.056603,
     "end_time": "2021-03-11T06:17:11.142950",
     "exception": false,
     "start_time": "2021-03-11T06:17:11.086347",
     "status": "completed"
    },
    "tags": []
   },
   "outputs": [],
   "source": [
    "# for col in cat_col:\n",
    "#     df_test2[col] = df_test2[col].apply(hash_cat_two)\n",
    "#     print(\"done \", col)"
   ]
  },
  {
   "cell_type": "code",
   "execution_count": 34,
   "metadata": {
    "execution": {
     "iopub.execute_input": "2021-03-11T06:17:11.242304Z",
     "iopub.status.busy": "2021-03-11T06:17:11.241294Z",
     "iopub.status.idle": "2021-03-11T06:17:11.245185Z",
     "shell.execute_reply": "2021-03-11T06:17:11.244630Z"
    },
    "papermill": {
     "duration": 0.057005,
     "end_time": "2021-03-11T06:17:11.245346",
     "exception": false,
     "start_time": "2021-03-11T06:17:11.188341",
     "status": "completed"
    },
    "tags": []
   },
   "outputs": [],
   "source": [
    "# ?bst"
   ]
  },
  {
   "cell_type": "code",
   "execution_count": 35,
   "metadata": {
    "execution": {
     "iopub.execute_input": "2021-03-11T06:17:11.360214Z",
     "iopub.status.busy": "2021-03-11T06:17:11.359487Z",
     "iopub.status.idle": "2021-03-11T06:17:11.364636Z",
     "shell.execute_reply": "2021-03-11T06:17:11.363942Z"
    },
    "papermill": {
     "duration": 0.073857,
     "end_time": "2021-03-11T06:17:11.364809",
     "exception": false,
     "start_time": "2021-03-11T06:17:11.290952",
     "status": "completed"
    },
    "tags": []
   },
   "outputs": [
    {
     "data": {
      "text/html": [
       "<div>\n",
       "<style scoped>\n",
       "    .dataframe tbody tr th:only-of-type {\n",
       "        vertical-align: middle;\n",
       "    }\n",
       "\n",
       "    .dataframe tbody tr th {\n",
       "        vertical-align: top;\n",
       "    }\n",
       "\n",
       "    .dataframe thead th {\n",
       "        text-align: right;\n",
       "    }\n",
       "</style>\n",
       "<table border=\"1\" class=\"dataframe\">\n",
       "  <thead>\n",
       "    <tr style=\"text-align: right;\">\n",
       "      <th></th>\n",
       "      <th>cat0</th>\n",
       "      <th>cat1</th>\n",
       "      <th>cat2</th>\n",
       "      <th>cat3</th>\n",
       "      <th>cat4</th>\n",
       "      <th>cat5</th>\n",
       "      <th>cat6</th>\n",
       "      <th>cat7</th>\n",
       "      <th>cat8</th>\n",
       "      <th>cat9</th>\n",
       "      <th>...</th>\n",
       "      <th>cont1</th>\n",
       "      <th>cont2</th>\n",
       "      <th>cont3</th>\n",
       "      <th>cont4</th>\n",
       "      <th>cont5</th>\n",
       "      <th>cont6</th>\n",
       "      <th>cont7</th>\n",
       "      <th>cont8</th>\n",
       "      <th>cont9</th>\n",
       "      <th>cont10</th>\n",
       "    </tr>\n",
       "  </thead>\n",
       "  <tbody>\n",
       "    <tr>\n",
       "      <th>0</th>\n",
       "      <td>0</td>\n",
       "      <td>5</td>\n",
       "      <td>0</td>\n",
       "      <td>0</td>\n",
       "      <td>5</td>\n",
       "      <td>33</td>\n",
       "      <td>0</td>\n",
       "      <td>8</td>\n",
       "      <td>23</td>\n",
       "      <td>0</td>\n",
       "      <td>...</td>\n",
       "      <td>0.735690</td>\n",
       "      <td>0.578366</td>\n",
       "      <td>0.723154</td>\n",
       "      <td>0.228037</td>\n",
       "      <td>0.356227</td>\n",
       "      <td>0.551249</td>\n",
       "      <td>0.655693</td>\n",
       "      <td>0.598331</td>\n",
       "      <td>0.359987</td>\n",
       "      <td>0.947489</td>\n",
       "    </tr>\n",
       "    <tr>\n",
       "      <th>1</th>\n",
       "      <td>0</td>\n",
       "      <td>7</td>\n",
       "      <td>2</td>\n",
       "      <td>0</td>\n",
       "      <td>4</td>\n",
       "      <td>2</td>\n",
       "      <td>7</td>\n",
       "      <td>31</td>\n",
       "      <td>51</td>\n",
       "      <td>0</td>\n",
       "      <td>...</td>\n",
       "      <td>0.313703</td>\n",
       "      <td>0.928885</td>\n",
       "      <td>0.516602</td>\n",
       "      <td>0.600169</td>\n",
       "      <td>0.795224</td>\n",
       "      <td>0.248987</td>\n",
       "      <td>0.654614</td>\n",
       "      <td>0.347944</td>\n",
       "      <td>0.565520</td>\n",
       "      <td>0.388580</td>\n",
       "    </tr>\n",
       "    <tr>\n",
       "      <th>2</th>\n",
       "      <td>0</td>\n",
       "      <td>13</td>\n",
       "      <td>2</td>\n",
       "      <td>0</td>\n",
       "      <td>5</td>\n",
       "      <td>2</td>\n",
       "      <td>0</td>\n",
       "      <td>8</td>\n",
       "      <td>28</td>\n",
       "      <td>0</td>\n",
       "      <td>...</td>\n",
       "      <td>0.448201</td>\n",
       "      <td>0.424876</td>\n",
       "      <td>0.344729</td>\n",
       "      <td>0.242073</td>\n",
       "      <td>0.270632</td>\n",
       "      <td>0.746740</td>\n",
       "      <td>0.335590</td>\n",
       "      <td>0.341238</td>\n",
       "      <td>0.252289</td>\n",
       "      <td>0.411592</td>\n",
       "    </tr>\n",
       "    <tr>\n",
       "      <th>3</th>\n",
       "      <td>1</td>\n",
       "      <td>11</td>\n",
       "      <td>2</td>\n",
       "      <td>0</td>\n",
       "      <td>5</td>\n",
       "      <td>33</td>\n",
       "      <td>0</td>\n",
       "      <td>30</td>\n",
       "      <td>23</td>\n",
       "      <td>0</td>\n",
       "      <td>...</td>\n",
       "      <td>0.666092</td>\n",
       "      <td>0.598943</td>\n",
       "      <td>0.561971</td>\n",
       "      <td>0.806347</td>\n",
       "      <td>0.735983</td>\n",
       "      <td>0.538724</td>\n",
       "      <td>0.381566</td>\n",
       "      <td>0.481660</td>\n",
       "      <td>0.348514</td>\n",
       "      <td>0.325723</td>\n",
       "    </tr>\n",
       "    <tr>\n",
       "      <th>4</th>\n",
       "      <td>0</td>\n",
       "      <td>5</td>\n",
       "      <td>0</td>\n",
       "      <td>1</td>\n",
       "      <td>5</td>\n",
       "      <td>33</td>\n",
       "      <td>0</td>\n",
       "      <td>8</td>\n",
       "      <td>46</td>\n",
       "      <td>0</td>\n",
       "      <td>...</td>\n",
       "      <td>0.772229</td>\n",
       "      <td>0.479572</td>\n",
       "      <td>0.767745</td>\n",
       "      <td>0.252454</td>\n",
       "      <td>0.354810</td>\n",
       "      <td>0.178920</td>\n",
       "      <td>0.763479</td>\n",
       "      <td>0.562491</td>\n",
       "      <td>0.466261</td>\n",
       "      <td>0.585781</td>\n",
       "    </tr>\n",
       "  </tbody>\n",
       "</table>\n",
       "<p>5 rows × 30 columns</p>\n",
       "</div>"
      ],
      "text/plain": [
       "   cat0  cat1  cat2  cat3  cat4  cat5  cat6  cat7  cat8  cat9  ...     cont1  \\\n",
       "0     0     5     0     0     5    33     0     8    23     0  ...  0.735690   \n",
       "1     0     7     2     0     4     2     7    31    51     0  ...  0.313703   \n",
       "2     0    13     2     0     5     2     0     8    28     0  ...  0.448201   \n",
       "3     1    11     2     0     5    33     0    30    23     0  ...  0.666092   \n",
       "4     0     5     0     1     5    33     0     8    46     0  ...  0.772229   \n",
       "\n",
       "      cont2     cont3     cont4     cont5     cont6     cont7     cont8  \\\n",
       "0  0.578366  0.723154  0.228037  0.356227  0.551249  0.655693  0.598331   \n",
       "1  0.928885  0.516602  0.600169  0.795224  0.248987  0.654614  0.347944   \n",
       "2  0.424876  0.344729  0.242073  0.270632  0.746740  0.335590  0.341238   \n",
       "3  0.598943  0.561971  0.806347  0.735983  0.538724  0.381566  0.481660   \n",
       "4  0.479572  0.767745  0.252454  0.354810  0.178920  0.763479  0.562491   \n",
       "\n",
       "      cont9    cont10  \n",
       "0  0.359987  0.947489  \n",
       "1  0.565520  0.388580  \n",
       "2  0.252289  0.411592  \n",
       "3  0.348514  0.325723  \n",
       "4  0.466261  0.585781  \n",
       "\n",
       "[5 rows x 30 columns]"
      ]
     },
     "execution_count": 35,
     "metadata": {},
     "output_type": "execute_result"
    }
   ],
   "source": [
    "df_test2.head()"
   ]
  },
  {
   "cell_type": "code",
   "execution_count": 36,
   "metadata": {
    "execution": {
     "iopub.execute_input": "2021-03-11T06:17:11.471140Z",
     "iopub.status.busy": "2021-03-11T06:17:11.469568Z",
     "iopub.status.idle": "2021-03-11T06:17:21.343965Z",
     "shell.execute_reply": "2021-03-11T06:17:21.344608Z"
    },
    "papermill": {
     "duration": 9.928882,
     "end_time": "2021-03-11T06:17:21.344826",
     "exception": false,
     "start_time": "2021-03-11T06:17:11.415944",
     "status": "completed"
    },
    "tags": []
   },
   "outputs": [],
   "source": [
    "pred = bst.predict(df_test2, num_iteration=bst.best_iteration)"
   ]
  },
  {
   "cell_type": "code",
   "execution_count": 37,
   "metadata": {
    "execution": {
     "iopub.execute_input": "2021-03-11T06:17:21.456469Z",
     "iopub.status.busy": "2021-03-11T06:17:21.454839Z",
     "iopub.status.idle": "2021-03-11T06:17:21.519976Z",
     "shell.execute_reply": "2021-03-11T06:17:21.520483Z"
    },
    "papermill": {
     "duration": 0.127147,
     "end_time": "2021-03-11T06:17:21.520676",
     "exception": false,
     "start_time": "2021-03-11T06:17:21.393529",
     "status": "completed"
    },
    "tags": []
   },
   "outputs": [
    {
     "data": {
      "text/html": [
       "<div>\n",
       "<style scoped>\n",
       "    .dataframe tbody tr th:only-of-type {\n",
       "        vertical-align: middle;\n",
       "    }\n",
       "\n",
       "    .dataframe tbody tr th {\n",
       "        vertical-align: top;\n",
       "    }\n",
       "\n",
       "    .dataframe thead th {\n",
       "        text-align: right;\n",
       "    }\n",
       "</style>\n",
       "<table border=\"1\" class=\"dataframe\">\n",
       "  <thead>\n",
       "    <tr style=\"text-align: right;\">\n",
       "      <th></th>\n",
       "      <th>cat0</th>\n",
       "      <th>cat1</th>\n",
       "      <th>cat2</th>\n",
       "      <th>cat3</th>\n",
       "      <th>cat4</th>\n",
       "      <th>cat5</th>\n",
       "      <th>cat6</th>\n",
       "      <th>cat7</th>\n",
       "      <th>cat8</th>\n",
       "      <th>cat9</th>\n",
       "      <th>...</th>\n",
       "      <th>cont1</th>\n",
       "      <th>cont2</th>\n",
       "      <th>cont3</th>\n",
       "      <th>cont4</th>\n",
       "      <th>cont5</th>\n",
       "      <th>cont6</th>\n",
       "      <th>cont7</th>\n",
       "      <th>cont8</th>\n",
       "      <th>cont9</th>\n",
       "      <th>cont10</th>\n",
       "    </tr>\n",
       "  </thead>\n",
       "  <tbody>\n",
       "    <tr>\n",
       "      <th>0</th>\n",
       "      <td>0</td>\n",
       "      <td>5</td>\n",
       "      <td>0</td>\n",
       "      <td>0</td>\n",
       "      <td>5</td>\n",
       "      <td>33</td>\n",
       "      <td>0</td>\n",
       "      <td>8</td>\n",
       "      <td>23</td>\n",
       "      <td>0</td>\n",
       "      <td>...</td>\n",
       "      <td>0.735690</td>\n",
       "      <td>0.578366</td>\n",
       "      <td>0.723154</td>\n",
       "      <td>0.228037</td>\n",
       "      <td>0.356227</td>\n",
       "      <td>0.551249</td>\n",
       "      <td>0.655693</td>\n",
       "      <td>0.598331</td>\n",
       "      <td>0.359987</td>\n",
       "      <td>0.947489</td>\n",
       "    </tr>\n",
       "    <tr>\n",
       "      <th>1</th>\n",
       "      <td>0</td>\n",
       "      <td>7</td>\n",
       "      <td>2</td>\n",
       "      <td>0</td>\n",
       "      <td>4</td>\n",
       "      <td>2</td>\n",
       "      <td>7</td>\n",
       "      <td>31</td>\n",
       "      <td>51</td>\n",
       "      <td>0</td>\n",
       "      <td>...</td>\n",
       "      <td>0.313703</td>\n",
       "      <td>0.928885</td>\n",
       "      <td>0.516602</td>\n",
       "      <td>0.600169</td>\n",
       "      <td>0.795224</td>\n",
       "      <td>0.248987</td>\n",
       "      <td>0.654614</td>\n",
       "      <td>0.347944</td>\n",
       "      <td>0.565520</td>\n",
       "      <td>0.388580</td>\n",
       "    </tr>\n",
       "    <tr>\n",
       "      <th>2</th>\n",
       "      <td>0</td>\n",
       "      <td>13</td>\n",
       "      <td>2</td>\n",
       "      <td>0</td>\n",
       "      <td>5</td>\n",
       "      <td>2</td>\n",
       "      <td>0</td>\n",
       "      <td>8</td>\n",
       "      <td>28</td>\n",
       "      <td>0</td>\n",
       "      <td>...</td>\n",
       "      <td>0.448201</td>\n",
       "      <td>0.424876</td>\n",
       "      <td>0.344729</td>\n",
       "      <td>0.242073</td>\n",
       "      <td>0.270632</td>\n",
       "      <td>0.746740</td>\n",
       "      <td>0.335590</td>\n",
       "      <td>0.341238</td>\n",
       "      <td>0.252289</td>\n",
       "      <td>0.411592</td>\n",
       "    </tr>\n",
       "    <tr>\n",
       "      <th>3</th>\n",
       "      <td>1</td>\n",
       "      <td>11</td>\n",
       "      <td>2</td>\n",
       "      <td>0</td>\n",
       "      <td>5</td>\n",
       "      <td>33</td>\n",
       "      <td>0</td>\n",
       "      <td>30</td>\n",
       "      <td>23</td>\n",
       "      <td>0</td>\n",
       "      <td>...</td>\n",
       "      <td>0.666092</td>\n",
       "      <td>0.598943</td>\n",
       "      <td>0.561971</td>\n",
       "      <td>0.806347</td>\n",
       "      <td>0.735983</td>\n",
       "      <td>0.538724</td>\n",
       "      <td>0.381566</td>\n",
       "      <td>0.481660</td>\n",
       "      <td>0.348514</td>\n",
       "      <td>0.325723</td>\n",
       "    </tr>\n",
       "    <tr>\n",
       "      <th>4</th>\n",
       "      <td>0</td>\n",
       "      <td>5</td>\n",
       "      <td>0</td>\n",
       "      <td>1</td>\n",
       "      <td>5</td>\n",
       "      <td>33</td>\n",
       "      <td>0</td>\n",
       "      <td>8</td>\n",
       "      <td>46</td>\n",
       "      <td>0</td>\n",
       "      <td>...</td>\n",
       "      <td>0.772229</td>\n",
       "      <td>0.479572</td>\n",
       "      <td>0.767745</td>\n",
       "      <td>0.252454</td>\n",
       "      <td>0.354810</td>\n",
       "      <td>0.178920</td>\n",
       "      <td>0.763479</td>\n",
       "      <td>0.562491</td>\n",
       "      <td>0.466261</td>\n",
       "      <td>0.585781</td>\n",
       "    </tr>\n",
       "    <tr>\n",
       "      <th>...</th>\n",
       "      <td>...</td>\n",
       "      <td>...</td>\n",
       "      <td>...</td>\n",
       "      <td>...</td>\n",
       "      <td>...</td>\n",
       "      <td>...</td>\n",
       "      <td>...</td>\n",
       "      <td>...</td>\n",
       "      <td>...</td>\n",
       "      <td>...</td>\n",
       "      <td>...</td>\n",
       "      <td>...</td>\n",
       "      <td>...</td>\n",
       "      <td>...</td>\n",
       "      <td>...</td>\n",
       "      <td>...</td>\n",
       "      <td>...</td>\n",
       "      <td>...</td>\n",
       "      <td>...</td>\n",
       "      <td>...</td>\n",
       "      <td>...</td>\n",
       "    </tr>\n",
       "    <tr>\n",
       "      <th>199995</th>\n",
       "      <td>0</td>\n",
       "      <td>13</td>\n",
       "      <td>0</td>\n",
       "      <td>3</td>\n",
       "      <td>5</td>\n",
       "      <td>33</td>\n",
       "      <td>0</td>\n",
       "      <td>6</td>\n",
       "      <td>23</td>\n",
       "      <td>0</td>\n",
       "      <td>...</td>\n",
       "      <td>0.361426</td>\n",
       "      <td>0.351946</td>\n",
       "      <td>0.327670</td>\n",
       "      <td>0.205547</td>\n",
       "      <td>0.679195</td>\n",
       "      <td>0.485967</td>\n",
       "      <td>0.319130</td>\n",
       "      <td>0.520681</td>\n",
       "      <td>0.519545</td>\n",
       "      <td>0.427119</td>\n",
       "    </tr>\n",
       "    <tr>\n",
       "      <th>199996</th>\n",
       "      <td>1</td>\n",
       "      <td>8</td>\n",
       "      <td>0</td>\n",
       "      <td>1</td>\n",
       "      <td>4</td>\n",
       "      <td>33</td>\n",
       "      <td>0</td>\n",
       "      <td>19</td>\n",
       "      <td>55</td>\n",
       "      <td>4</td>\n",
       "      <td>...</td>\n",
       "      <td>0.551106</td>\n",
       "      <td>0.628843</td>\n",
       "      <td>0.677765</td>\n",
       "      <td>0.624935</td>\n",
       "      <td>0.555306</td>\n",
       "      <td>0.242424</td>\n",
       "      <td>0.700829</td>\n",
       "      <td>0.531728</td>\n",
       "      <td>0.528427</td>\n",
       "      <td>0.922645</td>\n",
       "    </tr>\n",
       "    <tr>\n",
       "      <th>199997</th>\n",
       "      <td>0</td>\n",
       "      <td>11</td>\n",
       "      <td>3</td>\n",
       "      <td>0</td>\n",
       "      <td>7</td>\n",
       "      <td>33</td>\n",
       "      <td>0</td>\n",
       "      <td>14</td>\n",
       "      <td>47</td>\n",
       "      <td>0</td>\n",
       "      <td>...</td>\n",
       "      <td>0.812384</td>\n",
       "      <td>0.803348</td>\n",
       "      <td>0.324762</td>\n",
       "      <td>0.665624</td>\n",
       "      <td>0.488447</td>\n",
       "      <td>0.853213</td>\n",
       "      <td>0.578641</td>\n",
       "      <td>0.811941</td>\n",
       "      <td>0.537106</td>\n",
       "      <td>0.531758</td>\n",
       "    </tr>\n",
       "    <tr>\n",
       "      <th>199998</th>\n",
       "      <td>0</td>\n",
       "      <td>10</td>\n",
       "      <td>0</td>\n",
       "      <td>2</td>\n",
       "      <td>5</td>\n",
       "      <td>33</td>\n",
       "      <td>0</td>\n",
       "      <td>43</td>\n",
       "      <td>38</td>\n",
       "      <td>0</td>\n",
       "      <td>...</td>\n",
       "      <td>0.811282</td>\n",
       "      <td>0.820635</td>\n",
       "      <td>0.561449</td>\n",
       "      <td>0.797434</td>\n",
       "      <td>0.555089</td>\n",
       "      <td>0.746532</td>\n",
       "      <td>0.369986</td>\n",
       "      <td>0.438712</td>\n",
       "      <td>0.715524</td>\n",
       "      <td>0.381978</td>\n",
       "    </tr>\n",
       "    <tr>\n",
       "      <th>199999</th>\n",
       "      <td>0</td>\n",
       "      <td>10</td>\n",
       "      <td>0</td>\n",
       "      <td>0</td>\n",
       "      <td>4</td>\n",
       "      <td>33</td>\n",
       "      <td>2</td>\n",
       "      <td>15</td>\n",
       "      <td>38</td>\n",
       "      <td>7</td>\n",
       "      <td>...</td>\n",
       "      <td>0.336168</td>\n",
       "      <td>0.270483</td>\n",
       "      <td>0.581868</td>\n",
       "      <td>0.218993</td>\n",
       "      <td>0.553284</td>\n",
       "      <td>0.565213</td>\n",
       "      <td>0.378355</td>\n",
       "      <td>0.547927</td>\n",
       "      <td>0.273595</td>\n",
       "      <td>0.448016</td>\n",
       "    </tr>\n",
       "  </tbody>\n",
       "</table>\n",
       "<p>200000 rows × 30 columns</p>\n",
       "</div>"
      ],
      "text/plain": [
       "        cat0  cat1  cat2  cat3  cat4  cat5  cat6  cat7  cat8  cat9  ...  \\\n",
       "0          0     5     0     0     5    33     0     8    23     0  ...   \n",
       "1          0     7     2     0     4     2     7    31    51     0  ...   \n",
       "2          0    13     2     0     5     2     0     8    28     0  ...   \n",
       "3          1    11     2     0     5    33     0    30    23     0  ...   \n",
       "4          0     5     0     1     5    33     0     8    46     0  ...   \n",
       "...      ...   ...   ...   ...   ...   ...   ...   ...   ...   ...  ...   \n",
       "199995     0    13     0     3     5    33     0     6    23     0  ...   \n",
       "199996     1     8     0     1     4    33     0    19    55     4  ...   \n",
       "199997     0    11     3     0     7    33     0    14    47     0  ...   \n",
       "199998     0    10     0     2     5    33     0    43    38     0  ...   \n",
       "199999     0    10     0     0     4    33     2    15    38     7  ...   \n",
       "\n",
       "           cont1     cont2     cont3     cont4     cont5     cont6     cont7  \\\n",
       "0       0.735690  0.578366  0.723154  0.228037  0.356227  0.551249  0.655693   \n",
       "1       0.313703  0.928885  0.516602  0.600169  0.795224  0.248987  0.654614   \n",
       "2       0.448201  0.424876  0.344729  0.242073  0.270632  0.746740  0.335590   \n",
       "3       0.666092  0.598943  0.561971  0.806347  0.735983  0.538724  0.381566   \n",
       "4       0.772229  0.479572  0.767745  0.252454  0.354810  0.178920  0.763479   \n",
       "...          ...       ...       ...       ...       ...       ...       ...   \n",
       "199995  0.361426  0.351946  0.327670  0.205547  0.679195  0.485967  0.319130   \n",
       "199996  0.551106  0.628843  0.677765  0.624935  0.555306  0.242424  0.700829   \n",
       "199997  0.812384  0.803348  0.324762  0.665624  0.488447  0.853213  0.578641   \n",
       "199998  0.811282  0.820635  0.561449  0.797434  0.555089  0.746532  0.369986   \n",
       "199999  0.336168  0.270483  0.581868  0.218993  0.553284  0.565213  0.378355   \n",
       "\n",
       "           cont8     cont9    cont10  \n",
       "0       0.598331  0.359987  0.947489  \n",
       "1       0.347944  0.565520  0.388580  \n",
       "2       0.341238  0.252289  0.411592  \n",
       "3       0.481660  0.348514  0.325723  \n",
       "4       0.562491  0.466261  0.585781  \n",
       "...          ...       ...       ...  \n",
       "199995  0.520681  0.519545  0.427119  \n",
       "199996  0.531728  0.528427  0.922645  \n",
       "199997  0.811941  0.537106  0.531758  \n",
       "199998  0.438712  0.715524  0.381978  \n",
       "199999  0.547927  0.273595  0.448016  \n",
       "\n",
       "[200000 rows x 30 columns]"
      ]
     },
     "execution_count": 37,
     "metadata": {},
     "output_type": "execute_result"
    }
   ],
   "source": [
    "df_test2"
   ]
  },
  {
   "cell_type": "code",
   "execution_count": 38,
   "metadata": {
    "execution": {
     "iopub.execute_input": "2021-03-11T06:17:21.635280Z",
     "iopub.status.busy": "2021-03-11T06:17:21.634319Z",
     "iopub.status.idle": "2021-03-11T06:17:21.640642Z",
     "shell.execute_reply": "2021-03-11T06:17:21.641153Z"
    },
    "papermill": {
     "duration": 0.064149,
     "end_time": "2021-03-11T06:17:21.641371",
     "exception": false,
     "start_time": "2021-03-11T06:17:21.577222",
     "status": "completed"
    },
    "tags": []
   },
   "outputs": [],
   "source": [
    "df_pred_final = df_test[[\"id\"]]"
   ]
  },
  {
   "cell_type": "code",
   "execution_count": 39,
   "metadata": {
    "execution": {
     "iopub.execute_input": "2021-03-11T06:17:21.745006Z",
     "iopub.status.busy": "2021-03-11T06:17:21.744265Z",
     "iopub.status.idle": "2021-03-11T06:17:21.752838Z",
     "shell.execute_reply": "2021-03-11T06:17:21.752204Z"
    },
    "papermill": {
     "duration": 0.062612,
     "end_time": "2021-03-11T06:17:21.753001",
     "exception": false,
     "start_time": "2021-03-11T06:17:21.690389",
     "status": "completed"
    },
    "tags": []
   },
   "outputs": [
    {
     "name": "stderr",
     "output_type": "stream",
     "text": [
      "/opt/conda/lib/python3.7/site-packages/ipykernel_launcher.py:1: SettingWithCopyWarning: \n",
      "A value is trying to be set on a copy of a slice from a DataFrame.\n",
      "Try using .loc[row_indexer,col_indexer] = value instead\n",
      "\n",
      "See the caveats in the documentation: https://pandas.pydata.org/pandas-docs/stable/user_guide/indexing.html#returning-a-view-versus-a-copy\n",
      "  \"\"\"Entry point for launching an IPython kernel.\n"
     ]
    }
   ],
   "source": [
    "df_pred_final[\"target\"] = pred"
   ]
  },
  {
   "cell_type": "code",
   "execution_count": 40,
   "metadata": {
    "execution": {
     "iopub.execute_input": "2021-03-11T06:17:21.866186Z",
     "iopub.status.busy": "2021-03-11T06:17:21.865023Z",
     "iopub.status.idle": "2021-03-11T06:17:21.870811Z",
     "shell.execute_reply": "2021-03-11T06:17:21.870118Z"
    },
    "papermill": {
     "duration": 0.067444,
     "end_time": "2021-03-11T06:17:21.870976",
     "exception": false,
     "start_time": "2021-03-11T06:17:21.803532",
     "status": "completed"
    },
    "tags": []
   },
   "outputs": [
    {
     "data": {
      "text/html": [
       "<div>\n",
       "<style scoped>\n",
       "    .dataframe tbody tr th:only-of-type {\n",
       "        vertical-align: middle;\n",
       "    }\n",
       "\n",
       "    .dataframe tbody tr th {\n",
       "        vertical-align: top;\n",
       "    }\n",
       "\n",
       "    .dataframe thead th {\n",
       "        text-align: right;\n",
       "    }\n",
       "</style>\n",
       "<table border=\"1\" class=\"dataframe\">\n",
       "  <thead>\n",
       "    <tr style=\"text-align: right;\">\n",
       "      <th></th>\n",
       "      <th>id</th>\n",
       "      <th>target</th>\n",
       "    </tr>\n",
       "  </thead>\n",
       "  <tbody>\n",
       "    <tr>\n",
       "      <th>0</th>\n",
       "      <td>5</td>\n",
       "      <td>0.120812</td>\n",
       "    </tr>\n",
       "    <tr>\n",
       "      <th>1</th>\n",
       "      <td>6</td>\n",
       "      <td>0.362003</td>\n",
       "    </tr>\n",
       "    <tr>\n",
       "      <th>2</th>\n",
       "      <td>8</td>\n",
       "      <td>0.023869</td>\n",
       "    </tr>\n",
       "    <tr>\n",
       "      <th>3</th>\n",
       "      <td>9</td>\n",
       "      <td>0.171144</td>\n",
       "    </tr>\n",
       "    <tr>\n",
       "      <th>4</th>\n",
       "      <td>11</td>\n",
       "      <td>0.111637</td>\n",
       "    </tr>\n",
       "  </tbody>\n",
       "</table>\n",
       "</div>"
      ],
      "text/plain": [
       "   id    target\n",
       "0   5  0.120812\n",
       "1   6  0.362003\n",
       "2   8  0.023869\n",
       "3   9  0.171144\n",
       "4  11  0.111637"
      ]
     },
     "execution_count": 40,
     "metadata": {},
     "output_type": "execute_result"
    }
   ],
   "source": [
    "df_pred_final.head()"
   ]
  },
  {
   "cell_type": "code",
   "execution_count": 41,
   "metadata": {
    "execution": {
     "iopub.execute_input": "2021-03-11T06:17:21.978836Z",
     "iopub.status.busy": "2021-03-11T06:17:21.977091Z",
     "iopub.status.idle": "2021-03-11T06:17:22.765845Z",
     "shell.execute_reply": "2021-03-11T06:17:22.765233Z"
    },
    "papermill": {
     "duration": 0.845712,
     "end_time": "2021-03-11T06:17:22.766013",
     "exception": false,
     "start_time": "2021-03-11T06:17:21.920301",
     "status": "completed"
    },
    "tags": []
   },
   "outputs": [],
   "source": [
    "df_pred_final.to_csv('submission.csv', index=False)"
   ]
  },
  {
   "cell_type": "code",
   "execution_count": 42,
   "metadata": {
    "execution": {
     "iopub.execute_input": "2021-03-11T06:17:22.876799Z",
     "iopub.status.busy": "2021-03-11T06:17:22.875948Z",
     "iopub.status.idle": "2021-03-11T06:17:22.879374Z",
     "shell.execute_reply": "2021-03-11T06:17:22.879919Z"
    },
    "papermill": {
     "duration": 0.060531,
     "end_time": "2021-03-11T06:17:22.880120",
     "exception": false,
     "start_time": "2021-03-11T06:17:22.819589",
     "status": "completed"
    },
    "tags": []
   },
   "outputs": [
    {
     "data": {
      "text/plain": [
       "array([0.12081153, 0.36200327, 0.02386933, ..., 0.59942974, 0.07801134,\n",
       "       0.52702348])"
      ]
     },
     "execution_count": 42,
     "metadata": {},
     "output_type": "execute_result"
    }
   ],
   "source": [
    "pred"
   ]
  },
  {
   "cell_type": "markdown",
   "metadata": {
    "papermill": {
     "duration": 0.051243,
     "end_time": "2021-03-11T06:17:22.984261",
     "exception": false,
     "start_time": "2021-03-11T06:17:22.933018",
     "status": "completed"
    },
    "tags": []
   },
   "source": [
    "# evaluation local"
   ]
  },
  {
   "cell_type": "code",
   "execution_count": 43,
   "metadata": {
    "execution": {
     "iopub.execute_input": "2021-03-11T06:17:23.096365Z",
     "iopub.status.busy": "2021-03-11T06:17:23.095697Z",
     "iopub.status.idle": "2021-03-11T06:17:23.103055Z",
     "shell.execute_reply": "2021-03-11T06:17:23.102467Z"
    },
    "papermill": {
     "duration": 0.068628,
     "end_time": "2021-03-11T06:17:23.103209",
     "exception": false,
     "start_time": "2021-03-11T06:17:23.034581",
     "status": "completed"
    },
    "tags": []
   },
   "outputs": [],
   "source": [
    "from sklearn.metrics import roc_auc_score"
   ]
  },
  {
   "cell_type": "code",
   "execution_count": 44,
   "metadata": {
    "execution": {
     "iopub.execute_input": "2021-03-11T06:17:23.222323Z",
     "iopub.status.busy": "2021-03-11T06:17:23.221522Z",
     "iopub.status.idle": "2021-03-11T06:17:23.226209Z",
     "shell.execute_reply": "2021-03-11T06:17:23.225391Z"
    },
    "papermill": {
     "duration": 0.066355,
     "end_time": "2021-03-11T06:17:23.226556",
     "exception": false,
     "start_time": "2021-03-11T06:17:23.160201",
     "status": "completed"
    },
    "tags": []
   },
   "outputs": [],
   "source": [
    "# y_test_label = df_test[\"target\"]"
   ]
  },
  {
   "cell_type": "code",
   "execution_count": 45,
   "metadata": {
    "execution": {
     "iopub.execute_input": "2021-03-11T06:17:23.341153Z",
     "iopub.status.busy": "2021-03-11T06:17:23.340480Z",
     "iopub.status.idle": "2021-03-11T06:17:23.343538Z",
     "shell.execute_reply": "2021-03-11T06:17:23.342937Z"
    },
    "papermill": {
     "duration": 0.06239,
     "end_time": "2021-03-11T06:17:23.343711",
     "exception": false,
     "start_time": "2021-03-11T06:17:23.281321",
     "status": "completed"
    },
    "tags": []
   },
   "outputs": [],
   "source": [
    "# roc_auc_score(y_test_label, pred)"
   ]
  },
  {
   "cell_type": "markdown",
   "metadata": {
    "papermill": {
     "duration": 0.049642,
     "end_time": "2021-03-11T06:17:23.446235",
     "exception": false,
     "start_time": "2021-03-11T06:17:23.396593",
     "status": "completed"
    },
    "tags": []
   },
   "source": [
    "# local test result \n",
    "auc = 0.8969435887822527"
   ]
  },
  {
   "cell_type": "code",
   "execution_count": null,
   "metadata": {
    "papermill": {
     "duration": 0.050283,
     "end_time": "2021-03-11T06:17:23.548946",
     "exception": false,
     "start_time": "2021-03-11T06:17:23.498663",
     "status": "completed"
    },
    "tags": []
   },
   "outputs": [],
   "source": []
  }
 ],
 "metadata": {
  "kernelspec": {
   "display_name": "Python 3",
   "language": "python",
   "name": "python3"
  },
  "language_info": {
   "codemirror_mode": {
    "name": "ipython",
    "version": 3
   },
   "file_extension": ".py",
   "mimetype": "text/x-python",
   "name": "python",
   "nbconvert_exporter": "python",
   "pygments_lexer": "ipython3",
   "version": "3.8.1"
  },
  "papermill": {
   "default_parameters": {},
   "duration": 77.832961,
   "end_time": "2021-03-11T06:17:24.319255",
   "environment_variables": {},
   "exception": null,
   "input_path": "__notebook__.ipynb",
   "output_path": "__notebook__.ipynb",
   "parameters": {},
   "start_time": "2021-03-11T06:16:06.486294",
   "version": "2.2.2"
  }
 },
 "nbformat": 4,
 "nbformat_minor": 4
}
