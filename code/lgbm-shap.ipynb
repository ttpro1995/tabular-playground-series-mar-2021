{
 "cells": [
  {
   "cell_type": "code",
   "execution_count": 1,
   "metadata": {
    "_cell_guid": "b1076dfc-b9ad-4769-8c92-a6c4dae69d19",
    "_uuid": "8f2839f25d086af736a60e9eeb907d3b93b6e0e5"
   },
   "outputs": [],
   "source": [
    "# This Python 3 environment comes with many helpful analytics libraries installed\n",
    "# It is defined by the kaggle/python Docker image: https://github.com/kaggle/docker-python\n",
    "# For example, here's several helpful packages to load\n",
    "\n",
    "import numpy as np # linear algebra\n",
    "import pandas as pd # data processing, CSV file I/O (e.g. pd.read_csv)\n",
    "\n",
    "# Input data files are available in the read-only \"../input/\" directory\n",
    "# For example, running this (by clicking run or pressing Shift+Enter) will list all files under the input directory\n",
    "\n",
    "import os\n",
    "for dirname, _, filenames in os.walk('/kaggle/input'):\n",
    "    for filename in filenames:\n",
    "        print(os.path.join(dirname, filename))\n",
    "\n",
    "# You can write up to 20GB to the current directory (/kaggle/working/) that gets preserved as output when you create a version using \"Save & Run All\" \n",
    "# You can also write temporary files to /kaggle/temp/, but they won't be saved outside of the current session"
   ]
  },
  {
   "cell_type": "code",
   "execution_count": 2,
   "metadata": {},
   "outputs": [],
   "source": [
    "train_path = \"./input/train_local.csv\"\n",
    "test_path = \"./input/test_local.csv\""
   ]
  },
  {
   "cell_type": "code",
   "execution_count": null,
   "metadata": {},
   "outputs": [],
   "source": []
  },
  {
   "cell_type": "code",
   "execution_count": 3,
   "metadata": {},
   "outputs": [],
   "source": [
    "import hashlib"
   ]
  },
  {
   "cell_type": "code",
   "execution_count": 4,
   "metadata": {},
   "outputs": [
    {
     "data": {
      "text/plain": [
       "45"
      ]
     },
     "execution_count": 4,
     "metadata": {},
     "output_type": "execute_result"
    }
   ],
   "source": [
    "s=\"A\"\n",
    "int(hashlib.sha256(s.encode('utf-8')).hexdigest(), 16) % 10**2"
   ]
  },
  {
   "cell_type": "code",
   "execution_count": 5,
   "metadata": {},
   "outputs": [],
   "source": [
    "def hash_cat(s):\n",
    "    return int(hashlib.sha256(s.encode('utf-8')).hexdigest(), 16) % 10**3"
   ]
  },
  {
   "cell_type": "code",
   "execution_count": 6,
   "metadata": {},
   "outputs": [],
   "source": [
    "# x = ['A', \"b\"]\n"
   ]
  },
  {
   "cell_type": "code",
   "execution_count": 7,
   "metadata": {},
   "outputs": [],
   "source": [
    "# x.index('c')"
   ]
  },
  {
   "cell_type": "code",
   "execution_count": 8,
   "metadata": {},
   "outputs": [],
   "source": [
    "cat_dict = []\n",
    "def hash_cat_two(s):\n",
    "    if s not in cat_dict:\n",
    "        cat_dict.append(s)\n",
    "    return cat_dict.index(s)"
   ]
  },
  {
   "cell_type": "code",
   "execution_count": 9,
   "metadata": {},
   "outputs": [],
   "source": [
    "import pandas as pd"
   ]
  },
  {
   "cell_type": "code",
   "execution_count": 10,
   "metadata": {},
   "outputs": [],
   "source": [
    "df_train = pd.read_csv(train_path)\n",
    "df_test = pd.read_csv(test_path)\n"
   ]
  },
  {
   "cell_type": "code",
   "execution_count": 11,
   "metadata": {},
   "outputs": [
    {
     "data": {
      "text/plain": [
       "240000"
      ]
     },
     "execution_count": 11,
     "metadata": {},
     "output_type": "execute_result"
    }
   ],
   "source": [
    "len(df_train)"
   ]
  },
  {
   "cell_type": "code",
   "execution_count": 12,
   "metadata": {},
   "outputs": [
    {
     "data": {
      "text/html": [
       "<div>\n",
       "<style scoped>\n",
       "    .dataframe tbody tr th:only-of-type {\n",
       "        vertical-align: middle;\n",
       "    }\n",
       "\n",
       "    .dataframe tbody tr th {\n",
       "        vertical-align: top;\n",
       "    }\n",
       "\n",
       "    .dataframe thead th {\n",
       "        text-align: right;\n",
       "    }\n",
       "</style>\n",
       "<table border=\"1\" class=\"dataframe\">\n",
       "  <thead>\n",
       "    <tr style=\"text-align: right;\">\n",
       "      <th></th>\n",
       "      <th>id</th>\n",
       "      <th>cat0</th>\n",
       "      <th>cat1</th>\n",
       "      <th>cat2</th>\n",
       "      <th>cat3</th>\n",
       "      <th>cat4</th>\n",
       "      <th>cat5</th>\n",
       "      <th>cat6</th>\n",
       "      <th>cat7</th>\n",
       "      <th>cat8</th>\n",
       "      <th>...</th>\n",
       "      <th>cont2</th>\n",
       "      <th>cont3</th>\n",
       "      <th>cont4</th>\n",
       "      <th>cont5</th>\n",
       "      <th>cont6</th>\n",
       "      <th>cont7</th>\n",
       "      <th>cont8</th>\n",
       "      <th>cont9</th>\n",
       "      <th>cont10</th>\n",
       "      <th>target</th>\n",
       "    </tr>\n",
       "  </thead>\n",
       "  <tbody>\n",
       "    <tr>\n",
       "      <th>0</th>\n",
       "      <td>495701</td>\n",
       "      <td>A</td>\n",
       "      <td>J</td>\n",
       "      <td>A</td>\n",
       "      <td>A</td>\n",
       "      <td>F</td>\n",
       "      <td>O</td>\n",
       "      <td>C</td>\n",
       "      <td>E</td>\n",
       "      <td>AX</td>\n",
       "      <td>...</td>\n",
       "      <td>0.387487</td>\n",
       "      <td>0.251159</td>\n",
       "      <td>0.801758</td>\n",
       "      <td>0.553776</td>\n",
       "      <td>0.444780</td>\n",
       "      <td>0.335810</td>\n",
       "      <td>0.345248</td>\n",
       "      <td>0.470157</td>\n",
       "      <td>0.319817</td>\n",
       "      <td>0</td>\n",
       "    </tr>\n",
       "    <tr>\n",
       "      <th>1</th>\n",
       "      <td>475514</td>\n",
       "      <td>A</td>\n",
       "      <td>N</td>\n",
       "      <td>A</td>\n",
       "      <td>A</td>\n",
       "      <td>G</td>\n",
       "      <td>BI</td>\n",
       "      <td>E</td>\n",
       "      <td>AV</td>\n",
       "      <td>AG</td>\n",
       "      <td>...</td>\n",
       "      <td>0.592863</td>\n",
       "      <td>0.250877</td>\n",
       "      <td>0.292144</td>\n",
       "      <td>0.358930</td>\n",
       "      <td>0.562570</td>\n",
       "      <td>0.707359</td>\n",
       "      <td>0.632267</td>\n",
       "      <td>0.284889</td>\n",
       "      <td>0.518947</td>\n",
       "      <td>0</td>\n",
       "    </tr>\n",
       "    <tr>\n",
       "      <th>2</th>\n",
       "      <td>289595</td>\n",
       "      <td>B</td>\n",
       "      <td>F</td>\n",
       "      <td>D</td>\n",
       "      <td>A</td>\n",
       "      <td>E</td>\n",
       "      <td>BI</td>\n",
       "      <td>A</td>\n",
       "      <td>F</td>\n",
       "      <td>L</td>\n",
       "      <td>...</td>\n",
       "      <td>0.835299</td>\n",
       "      <td>0.837267</td>\n",
       "      <td>0.357749</td>\n",
       "      <td>0.678743</td>\n",
       "      <td>0.575143</td>\n",
       "      <td>0.754098</td>\n",
       "      <td>0.642640</td>\n",
       "      <td>0.958589</td>\n",
       "      <td>0.940756</td>\n",
       "      <td>0</td>\n",
       "    </tr>\n",
       "    <tr>\n",
       "      <th>3</th>\n",
       "      <td>290200</td>\n",
       "      <td>B</td>\n",
       "      <td>I</td>\n",
       "      <td>A</td>\n",
       "      <td>A</td>\n",
       "      <td>E</td>\n",
       "      <td>BI</td>\n",
       "      <td>C</td>\n",
       "      <td>K</td>\n",
       "      <td>BM</td>\n",
       "      <td>...</td>\n",
       "      <td>0.369965</td>\n",
       "      <td>0.573459</td>\n",
       "      <td>0.455696</td>\n",
       "      <td>0.800336</td>\n",
       "      <td>0.608690</td>\n",
       "      <td>0.261167</td>\n",
       "      <td>0.493506</td>\n",
       "      <td>0.443034</td>\n",
       "      <td>0.342730</td>\n",
       "      <td>0</td>\n",
       "    </tr>\n",
       "    <tr>\n",
       "      <th>4</th>\n",
       "      <td>3547</td>\n",
       "      <td>A</td>\n",
       "      <td>B</td>\n",
       "      <td>D</td>\n",
       "      <td>A</td>\n",
       "      <td>F</td>\n",
       "      <td>BI</td>\n",
       "      <td>A</td>\n",
       "      <td>AS</td>\n",
       "      <td>AX</td>\n",
       "      <td>...</td>\n",
       "      <td>0.694353</td>\n",
       "      <td>0.577407</td>\n",
       "      <td>0.721532</td>\n",
       "      <td>0.487756</td>\n",
       "      <td>0.610030</td>\n",
       "      <td>0.668544</td>\n",
       "      <td>0.360062</td>\n",
       "      <td>0.763265</td>\n",
       "      <td>0.265792</td>\n",
       "      <td>0</td>\n",
       "    </tr>\n",
       "  </tbody>\n",
       "</table>\n",
       "<p>5 rows × 32 columns</p>\n",
       "</div>"
      ],
      "text/plain": [
       "       id cat0 cat1 cat2 cat3 cat4 cat5 cat6 cat7 cat8  ...     cont2  \\\n",
       "0  495701    A    J    A    A    F    O    C    E   AX  ...  0.387487   \n",
       "1  475514    A    N    A    A    G   BI    E   AV   AG  ...  0.592863   \n",
       "2  289595    B    F    D    A    E   BI    A    F    L  ...  0.835299   \n",
       "3  290200    B    I    A    A    E   BI    C    K   BM  ...  0.369965   \n",
       "4    3547    A    B    D    A    F   BI    A   AS   AX  ...  0.694353   \n",
       "\n",
       "      cont3     cont4     cont5     cont6     cont7     cont8     cont9  \\\n",
       "0  0.251159  0.801758  0.553776  0.444780  0.335810  0.345248  0.470157   \n",
       "1  0.250877  0.292144  0.358930  0.562570  0.707359  0.632267  0.284889   \n",
       "2  0.837267  0.357749  0.678743  0.575143  0.754098  0.642640  0.958589   \n",
       "3  0.573459  0.455696  0.800336  0.608690  0.261167  0.493506  0.443034   \n",
       "4  0.577407  0.721532  0.487756  0.610030  0.668544  0.360062  0.763265   \n",
       "\n",
       "     cont10 target  \n",
       "0  0.319817      0  \n",
       "1  0.518947      0  \n",
       "2  0.940756      0  \n",
       "3  0.342730      0  \n",
       "4  0.265792      0  \n",
       "\n",
       "[5 rows x 32 columns]"
      ]
     },
     "execution_count": 12,
     "metadata": {},
     "output_type": "execute_result"
    }
   ],
   "source": [
    "df_train.head()"
   ]
  },
  {
   "cell_type": "code",
   "execution_count": 13,
   "metadata": {},
   "outputs": [],
   "source": [
    "from sklearn.preprocessing import OrdinalEncoder, LabelEncoder"
   ]
  },
  {
   "cell_type": "code",
   "execution_count": 14,
   "metadata": {},
   "outputs": [
    {
     "data": {
      "text/plain": [
       "Index(['id', 'cat0', 'cat1', 'cat2', 'cat3', 'cat4', 'cat5', 'cat6', 'cat7',\n",
       "       'cat8', 'cat9', 'cat10', 'cat11', 'cat12', 'cat13', 'cat14', 'cat15',\n",
       "       'cat16', 'cat17', 'cat18', 'cont0', 'cont1', 'cont2', 'cont3', 'cont4',\n",
       "       'cont5', 'cont6', 'cont7', 'cont8', 'cont9', 'cont10', 'target'],\n",
       "      dtype='object')"
      ]
     },
     "execution_count": 14,
     "metadata": {},
     "output_type": "execute_result"
    }
   ],
   "source": [
    "df_train.columns"
   ]
  },
  {
   "cell_type": "code",
   "execution_count": 15,
   "metadata": {},
   "outputs": [],
   "source": [
    "from sklearn.model_selection import train_test_split"
   ]
  },
  {
   "cell_type": "code",
   "execution_count": 16,
   "metadata": {},
   "outputs": [],
   "source": [
    "# ?train_test_split"
   ]
  },
  {
   "cell_type": "code",
   "execution_count": 17,
   "metadata": {},
   "outputs": [],
   "source": [
    "cat_col = ['cat0', 'cat1', 'cat2', 'cat3', 'cat4', 'cat5', 'cat6', 'cat7',\n",
    "       'cat8', 'cat9', 'cat10', 'cat11', 'cat12', 'cat13', 'cat14', 'cat15',\n",
    "       'cat16', 'cat17', 'cat18']\n",
    "cont_col = ['cont0', 'cont1', 'cont2', 'cont3', 'cont4',\n",
    "       'cont5', 'cont6', 'cont7', 'cont8', 'cont9', 'cont10']"
   ]
  },
  {
   "cell_type": "code",
   "execution_count": 18,
   "metadata": {},
   "outputs": [
    {
     "name": "stdout",
     "output_type": "stream",
     "text": [
      "done  cat0\n",
      "done  cat1\n",
      "done  cat2\n",
      "done  cat3\n",
      "done  cat4\n",
      "done  cat5\n",
      "done  cat6\n",
      "done  cat7\n",
      "done  cat8\n",
      "done  cat9\n",
      "done  cat10\n",
      "done  cat11\n",
      "done  cat12\n",
      "done  cat13\n",
      "done  cat14\n",
      "done  cat15\n",
      "done  cat16\n",
      "done  cat17\n",
      "done  cat18\n"
     ]
    }
   ],
   "source": [
    "for col in cat_col:\n",
    "    encoder = LabelEncoder()\n",
    "    # encoder.fit(list(df_train[col]) + list(df_test[col]))\n",
    "    encoder.fit(list(df_train[col].values) + list(df_test[col].values))\n",
    "    df_train[col] = encoder.transform(df_train[col].values)\n",
    "    df_test[col] = encoder.transform(df_test[col].values)\n",
    "    print(\"done \", col)"
   ]
  },
  {
   "cell_type": "code",
   "execution_count": 19,
   "metadata": {},
   "outputs": [],
   "source": [
    "X = df_train.drop([\"id\", \"target\"], axis=1)\n",
    "y = df_train[\"target\"]\n"
   ]
  },
  {
   "cell_type": "code",
   "execution_count": 20,
   "metadata": {},
   "outputs": [
    {
     "data": {
      "text/plain": [
       "(240000, 30)"
      ]
     },
     "execution_count": 20,
     "metadata": {},
     "output_type": "execute_result"
    }
   ],
   "source": [
    "X.shape"
   ]
  },
  {
   "cell_type": "code",
   "execution_count": 21,
   "metadata": {},
   "outputs": [
    {
     "data": {
      "text/plain": [
       "(240000,)"
      ]
     },
     "execution_count": 21,
     "metadata": {},
     "output_type": "execute_result"
    }
   ],
   "source": [
    "y.shape"
   ]
  },
  {
   "cell_type": "code",
   "execution_count": 22,
   "metadata": {},
   "outputs": [],
   "source": [
    "X_train, X_test, y_train, y_test = train_test_split(X, y, test_size=0.1, random_state=111)"
   ]
  },
  {
   "cell_type": "code",
   "execution_count": null,
   "metadata": {},
   "outputs": [],
   "source": []
  },
  {
   "cell_type": "code",
   "execution_count": 23,
   "metadata": {},
   "outputs": [],
   "source": [
    "import lightgbm as gbm"
   ]
  },
  {
   "cell_type": "code",
   "execution_count": 24,
   "metadata": {},
   "outputs": [
    {
     "data": {
      "text/plain": [
       "array([0, 1])"
      ]
     },
     "execution_count": 24,
     "metadata": {},
     "output_type": "execute_result"
    }
   ],
   "source": [
    "df_train[\"cat0\"].unique()"
   ]
  },
  {
   "cell_type": "code",
   "execution_count": 25,
   "metadata": {},
   "outputs": [],
   "source": [
    "train_data = gbm.Dataset(X_train, label=y_train, categorical_feature=cat_col)"
   ]
  },
  {
   "cell_type": "code",
   "execution_count": 26,
   "metadata": {},
   "outputs": [],
   "source": [
    "validation_data = gbm.Dataset(X_test, label=y_test, reference=train_data)"
   ]
  },
  {
   "cell_type": "code",
   "execution_count": 27,
   "metadata": {},
   "outputs": [],
   "source": [
    "lgbm_params = {\n",
    "    'boosting': 'gbdt',          # dart (drop out trees) often performs better\n",
    "    'application': 'binary',     # Binary classification\n",
    "    'learning_rate': 0.02,       # Learning rate, controls size of a gradient descent step\n",
    "    'min_data_in_leaf': 20,      # Data set is quite small so reduce this a bit\n",
    "    'feature_fraction': 0.7,     # Proportion of features in each boost, controls overfitting\n",
    "    'num_leaves': 100,            # Controls size of tree since LGBM uses leaf wise splits\n",
    "    'metric': 'auc',  # Area under ROC curve as the evaulation metric\n",
    "}"
   ]
  },
  {
   "cell_type": "markdown",
   "metadata": {},
   "source": [
    "https://www.kaggle.com/sayantansadhu/lgbm-with-hyper-parameter-tuning-using-optuna"
   ]
  },
  {
   "cell_type": "code",
   "execution_count": 28,
   "metadata": {},
   "outputs": [],
   "source": [
    "lgbm_params = {\n",
    "    'boosting': 'gbdt',          # dart (drop out trees) often performs better\n",
    "    'application': 'binary',     # Binary classification\n",
    "    'learning_rate': 0.02,       # Learning rate, controls size of a gradient descent step\n",
    "    'min_data_in_leaf': 100,      # Data set is quite small so reduce this a bit\n",
    "    'feature_fraction': 0.7,     # Proportion of features in each boost, controls overfitting\n",
    "    'metric': 'binary_logloss',  # Area under ROC curve as the evaulation metric,\n",
    "    'lambda_l1': 5e-05, \n",
    "     'lambda_l2': 1.35e-08, \n",
    "     'num_leaves': 216, \n",
    "     'feature_fraction': 0.7458519562366559, \n",
    "     'bagging_fraction': 0.7835116194444349, \n",
    "     'bagging_freq': 2, \n",
    "     'min_child_samples': 95\n",
    "}\n",
    "\n",
    "# {'lambda_l1': 5.7529066102502985e-05, \n",
    "#  'lambda_l2': 1.3522520634637266e-08, \n",
    "#  'num_leaves': 216, \n",
    "#  'feature_fraction': 0.7458519562366559, \n",
    "#  'bagging_fraction': 0.7835116194444349, \n",
    "#  'bagging_freq': 2, \n",
    "#  'min_child_samples': 95}"
   ]
  },
  {
   "cell_type": "code",
   "execution_count": null,
   "metadata": {},
   "outputs": [],
   "source": []
  },
  {
   "cell_type": "code",
   "execution_count": 29,
   "metadata": {},
   "outputs": [
    {
     "name": "stderr",
     "output_type": "stream",
     "text": [
      "/home/cpu11453/miniconda3/envs/nlp/lib/python3.7/site-packages/lightgbm/basic.py:1551: UserWarning: Using categorical_feature in Dataset.\n",
      "  warnings.warn('Using categorical_feature in Dataset.')\n",
      "/home/cpu11453/miniconda3/envs/nlp/lib/python3.7/site-packages/lightgbm/basic.py:1555: UserWarning: categorical_feature in Dataset is overridden.\n",
      "New categorical_feature is ['cat0', 'cat1', 'cat10', 'cat11', 'cat12', 'cat13', 'cat14', 'cat15', 'cat16', 'cat17', 'cat18', 'cat2', 'cat3', 'cat4', 'cat5', 'cat6', 'cat7', 'cat8', 'cat9']\n",
      "  'New categorical_feature is {}'.format(sorted(list(categorical_feature))))\n"
     ]
    },
    {
     "name": "stdout",
     "output_type": "stream",
     "text": [
      "[LightGBM] [Warning] min_data_in_leaf is set=100, min_child_samples=95 will be ignored. Current value: min_data_in_leaf=100\n",
      "[LightGBM] [Warning] min_data_in_leaf is set=100, min_child_samples=95 will be ignored. Current value: min_data_in_leaf=100\n",
      "[LightGBM] [Info] Number of positive: 57309, number of negative: 158691\n",
      "[LightGBM] [Warning] Auto-choosing row-wise multi-threading, the overhead of testing was 0.022074 seconds.\n",
      "You can set `force_row_wise=true` to remove the overhead.\n",
      "And if memory is not enough, you can set `force_col_wise=true`.\n",
      "[LightGBM] [Info] Total Bins 3390\n",
      "[LightGBM] [Info] Number of data points in the train set: 216000, number of used features: 30\n",
      "[LightGBM] [Warning] min_data_in_leaf is set=100, min_child_samples=95 will be ignored. Current value: min_data_in_leaf=100\n",
      "[LightGBM] [Info] [binary:BoostFromScore]: pavg=0.265319 -> initscore=-1.018501\n",
      "[LightGBM] [Info] Start training from score -1.018501\n"
     ]
    },
    {
     "name": "stderr",
     "output_type": "stream",
     "text": [
      "/home/cpu11453/miniconda3/envs/nlp/lib/python3.7/site-packages/lightgbm/basic.py:1286: UserWarning: Overriding the parameters from Reference Dataset.\n",
      "  warnings.warn('Overriding the parameters from Reference Dataset.')\n",
      "/home/cpu11453/miniconda3/envs/nlp/lib/python3.7/site-packages/lightgbm/basic.py:1098: UserWarning: categorical_column in param dict is overridden.\n",
      "  warnings.warn('{} in param dict is overridden.'.format(cat_alias))\n"
     ]
    },
    {
     "name": "stdout",
     "output_type": "stream",
     "text": [
      "Training until validation scores don't improve for 10 rounds\n",
      "[100]\tvalid_0's binary_logloss: 0.365358\n",
      "[200]\tvalid_0's binary_logloss: 0.347848\n",
      "[300]\tvalid_0's binary_logloss: 0.344195\n",
      "[400]\tvalid_0's binary_logloss: 0.342793\n",
      "Early stopping, best iteration is:\n",
      "[453]\tvalid_0's binary_logloss: 0.34251\n"
     ]
    }
   ],
   "source": [
    "num_round = 1000\n",
    "bst = gbm.train(lgbm_params, train_data, num_round, valid_sets=[validation_data], early_stopping_rounds=10, verbose_eval=100)"
   ]
  },
  {
   "cell_type": "code",
   "execution_count": 30,
   "metadata": {},
   "outputs": [],
   "source": [
    "# ?gbm.train"
   ]
  },
  {
   "cell_type": "code",
   "execution_count": 31,
   "metadata": {},
   "outputs": [],
   "source": [
    "# df_test = pd.read_csv(test_path)\n",
    "# df_test.head()"
   ]
  },
  {
   "cell_type": "code",
   "execution_count": 32,
   "metadata": {},
   "outputs": [],
   "source": [
    "df_test2 = df_test.drop([\"id\", \"target\"], axis=1)"
   ]
  },
  {
   "cell_type": "code",
   "execution_count": 33,
   "metadata": {},
   "outputs": [],
   "source": [
    "# for col in cat_col:\n",
    "#     df_test2[col] = df_test2[col].apply(hash_cat_two)\n",
    "#     print(\"done \", col)"
   ]
  },
  {
   "cell_type": "code",
   "execution_count": 34,
   "metadata": {},
   "outputs": [],
   "source": [
    "# ?bst"
   ]
  },
  {
   "cell_type": "code",
   "execution_count": 35,
   "metadata": {},
   "outputs": [
    {
     "data": {
      "text/html": [
       "<div>\n",
       "<style scoped>\n",
       "    .dataframe tbody tr th:only-of-type {\n",
       "        vertical-align: middle;\n",
       "    }\n",
       "\n",
       "    .dataframe tbody tr th {\n",
       "        vertical-align: top;\n",
       "    }\n",
       "\n",
       "    .dataframe thead th {\n",
       "        text-align: right;\n",
       "    }\n",
       "</style>\n",
       "<table border=\"1\" class=\"dataframe\">\n",
       "  <thead>\n",
       "    <tr style=\"text-align: right;\">\n",
       "      <th></th>\n",
       "      <th>cat0</th>\n",
       "      <th>cat1</th>\n",
       "      <th>cat2</th>\n",
       "      <th>cat3</th>\n",
       "      <th>cat4</th>\n",
       "      <th>cat5</th>\n",
       "      <th>cat6</th>\n",
       "      <th>cat7</th>\n",
       "      <th>cat8</th>\n",
       "      <th>cat9</th>\n",
       "      <th>...</th>\n",
       "      <th>cont1</th>\n",
       "      <th>cont2</th>\n",
       "      <th>cont3</th>\n",
       "      <th>cont4</th>\n",
       "      <th>cont5</th>\n",
       "      <th>cont6</th>\n",
       "      <th>cont7</th>\n",
       "      <th>cont8</th>\n",
       "      <th>cont9</th>\n",
       "      <th>cont10</th>\n",
       "    </tr>\n",
       "  </thead>\n",
       "  <tbody>\n",
       "    <tr>\n",
       "      <th>0</th>\n",
       "      <td>0</td>\n",
       "      <td>5</td>\n",
       "      <td>0</td>\n",
       "      <td>0</td>\n",
       "      <td>6</td>\n",
       "      <td>33</td>\n",
       "      <td>0</td>\n",
       "      <td>14</td>\n",
       "      <td>38</td>\n",
       "      <td>4</td>\n",
       "      <td>...</td>\n",
       "      <td>0.616445</td>\n",
       "      <td>0.637685</td>\n",
       "      <td>0.301544</td>\n",
       "      <td>0.790893</td>\n",
       "      <td>0.488015</td>\n",
       "      <td>0.614380</td>\n",
       "      <td>0.539349</td>\n",
       "      <td>0.411866</td>\n",
       "      <td>0.661432</td>\n",
       "      <td>0.486744</td>\n",
       "    </tr>\n",
       "    <tr>\n",
       "      <th>1</th>\n",
       "      <td>0</td>\n",
       "      <td>5</td>\n",
       "      <td>2</td>\n",
       "      <td>0</td>\n",
       "      <td>4</td>\n",
       "      <td>33</td>\n",
       "      <td>2</td>\n",
       "      <td>11</td>\n",
       "      <td>23</td>\n",
       "      <td>0</td>\n",
       "      <td>...</td>\n",
       "      <td>0.350460</td>\n",
       "      <td>0.324491</td>\n",
       "      <td>0.349067</td>\n",
       "      <td>0.786160</td>\n",
       "      <td>0.554579</td>\n",
       "      <td>0.486805</td>\n",
       "      <td>0.390730</td>\n",
       "      <td>0.375106</td>\n",
       "      <td>0.569209</td>\n",
       "      <td>0.459002</td>\n",
       "    </tr>\n",
       "    <tr>\n",
       "      <th>2</th>\n",
       "      <td>0</td>\n",
       "      <td>13</td>\n",
       "      <td>0</td>\n",
       "      <td>0</td>\n",
       "      <td>4</td>\n",
       "      <td>33</td>\n",
       "      <td>2</td>\n",
       "      <td>30</td>\n",
       "      <td>38</td>\n",
       "      <td>9</td>\n",
       "      <td>...</td>\n",
       "      <td>0.323298</td>\n",
       "      <td>0.279434</td>\n",
       "      <td>0.346821</td>\n",
       "      <td>0.208250</td>\n",
       "      <td>0.618792</td>\n",
       "      <td>0.494801</td>\n",
       "      <td>0.367308</td>\n",
       "      <td>0.387041</td>\n",
       "      <td>0.474525</td>\n",
       "      <td>0.402563</td>\n",
       "    </tr>\n",
       "    <tr>\n",
       "      <th>3</th>\n",
       "      <td>0</td>\n",
       "      <td>8</td>\n",
       "      <td>0</td>\n",
       "      <td>0</td>\n",
       "      <td>4</td>\n",
       "      <td>33</td>\n",
       "      <td>0</td>\n",
       "      <td>39</td>\n",
       "      <td>5</td>\n",
       "      <td>4</td>\n",
       "      <td>...</td>\n",
       "      <td>0.331975</td>\n",
       "      <td>0.305931</td>\n",
       "      <td>0.321362</td>\n",
       "      <td>0.596346</td>\n",
       "      <td>0.797107</td>\n",
       "      <td>0.575397</td>\n",
       "      <td>0.326885</td>\n",
       "      <td>0.353614</td>\n",
       "      <td>0.258005</td>\n",
       "      <td>0.357856</td>\n",
       "    </tr>\n",
       "    <tr>\n",
       "      <th>4</th>\n",
       "      <td>0</td>\n",
       "      <td>12</td>\n",
       "      <td>2</td>\n",
       "      <td>0</td>\n",
       "      <td>4</td>\n",
       "      <td>33</td>\n",
       "      <td>6</td>\n",
       "      <td>30</td>\n",
       "      <td>38</td>\n",
       "      <td>0</td>\n",
       "      <td>...</td>\n",
       "      <td>0.240007</td>\n",
       "      <td>0.190550</td>\n",
       "      <td>0.578725</td>\n",
       "      <td>0.777659</td>\n",
       "      <td>0.773500</td>\n",
       "      <td>0.703389</td>\n",
       "      <td>0.239250</td>\n",
       "      <td>0.242388</td>\n",
       "      <td>0.283970</td>\n",
       "      <td>0.311369</td>\n",
       "    </tr>\n",
       "  </tbody>\n",
       "</table>\n",
       "<p>5 rows × 30 columns</p>\n",
       "</div>"
      ],
      "text/plain": [
       "   cat0  cat1  cat2  cat3  cat4  cat5  cat6  cat7  cat8  cat9  ...     cont1  \\\n",
       "0     0     5     0     0     6    33     0    14    38     4  ...  0.616445   \n",
       "1     0     5     2     0     4    33     2    11    23     0  ...  0.350460   \n",
       "2     0    13     0     0     4    33     2    30    38     9  ...  0.323298   \n",
       "3     0     8     0     0     4    33     0    39     5     4  ...  0.331975   \n",
       "4     0    12     2     0     4    33     6    30    38     0  ...  0.240007   \n",
       "\n",
       "      cont2     cont3     cont4     cont5     cont6     cont7     cont8  \\\n",
       "0  0.637685  0.301544  0.790893  0.488015  0.614380  0.539349  0.411866   \n",
       "1  0.324491  0.349067  0.786160  0.554579  0.486805  0.390730  0.375106   \n",
       "2  0.279434  0.346821  0.208250  0.618792  0.494801  0.367308  0.387041   \n",
       "3  0.305931  0.321362  0.596346  0.797107  0.575397  0.326885  0.353614   \n",
       "4  0.190550  0.578725  0.777659  0.773500  0.703389  0.239250  0.242388   \n",
       "\n",
       "      cont9    cont10  \n",
       "0  0.661432  0.486744  \n",
       "1  0.569209  0.459002  \n",
       "2  0.474525  0.402563  \n",
       "3  0.258005  0.357856  \n",
       "4  0.283970  0.311369  \n",
       "\n",
       "[5 rows x 30 columns]"
      ]
     },
     "execution_count": 35,
     "metadata": {},
     "output_type": "execute_result"
    }
   ],
   "source": [
    "df_test2.head()"
   ]
  },
  {
   "cell_type": "code",
   "execution_count": 36,
   "metadata": {},
   "outputs": [],
   "source": [
    "pred = bst.predict(df_test2, num_iteration=bst.best_iteration)"
   ]
  },
  {
   "cell_type": "code",
   "execution_count": 37,
   "metadata": {},
   "outputs": [
    {
     "data": {
      "text/html": [
       "<div>\n",
       "<style scoped>\n",
       "    .dataframe tbody tr th:only-of-type {\n",
       "        vertical-align: middle;\n",
       "    }\n",
       "\n",
       "    .dataframe tbody tr th {\n",
       "        vertical-align: top;\n",
       "    }\n",
       "\n",
       "    .dataframe thead th {\n",
       "        text-align: right;\n",
       "    }\n",
       "</style>\n",
       "<table border=\"1\" class=\"dataframe\">\n",
       "  <thead>\n",
       "    <tr style=\"text-align: right;\">\n",
       "      <th></th>\n",
       "      <th>cat0</th>\n",
       "      <th>cat1</th>\n",
       "      <th>cat2</th>\n",
       "      <th>cat3</th>\n",
       "      <th>cat4</th>\n",
       "      <th>cat5</th>\n",
       "      <th>cat6</th>\n",
       "      <th>cat7</th>\n",
       "      <th>cat8</th>\n",
       "      <th>cat9</th>\n",
       "      <th>...</th>\n",
       "      <th>cont1</th>\n",
       "      <th>cont2</th>\n",
       "      <th>cont3</th>\n",
       "      <th>cont4</th>\n",
       "      <th>cont5</th>\n",
       "      <th>cont6</th>\n",
       "      <th>cont7</th>\n",
       "      <th>cont8</th>\n",
       "      <th>cont9</th>\n",
       "      <th>cont10</th>\n",
       "    </tr>\n",
       "  </thead>\n",
       "  <tbody>\n",
       "    <tr>\n",
       "      <th>0</th>\n",
       "      <td>0</td>\n",
       "      <td>5</td>\n",
       "      <td>0</td>\n",
       "      <td>0</td>\n",
       "      <td>6</td>\n",
       "      <td>33</td>\n",
       "      <td>0</td>\n",
       "      <td>14</td>\n",
       "      <td>38</td>\n",
       "      <td>4</td>\n",
       "      <td>...</td>\n",
       "      <td>0.616445</td>\n",
       "      <td>0.637685</td>\n",
       "      <td>0.301544</td>\n",
       "      <td>0.790893</td>\n",
       "      <td>0.488015</td>\n",
       "      <td>0.614380</td>\n",
       "      <td>0.539349</td>\n",
       "      <td>0.411866</td>\n",
       "      <td>0.661432</td>\n",
       "      <td>0.486744</td>\n",
       "    </tr>\n",
       "    <tr>\n",
       "      <th>1</th>\n",
       "      <td>0</td>\n",
       "      <td>5</td>\n",
       "      <td>2</td>\n",
       "      <td>0</td>\n",
       "      <td>4</td>\n",
       "      <td>33</td>\n",
       "      <td>2</td>\n",
       "      <td>11</td>\n",
       "      <td>23</td>\n",
       "      <td>0</td>\n",
       "      <td>...</td>\n",
       "      <td>0.350460</td>\n",
       "      <td>0.324491</td>\n",
       "      <td>0.349067</td>\n",
       "      <td>0.786160</td>\n",
       "      <td>0.554579</td>\n",
       "      <td>0.486805</td>\n",
       "      <td>0.390730</td>\n",
       "      <td>0.375106</td>\n",
       "      <td>0.569209</td>\n",
       "      <td>0.459002</td>\n",
       "    </tr>\n",
       "    <tr>\n",
       "      <th>2</th>\n",
       "      <td>0</td>\n",
       "      <td>13</td>\n",
       "      <td>0</td>\n",
       "      <td>0</td>\n",
       "      <td>4</td>\n",
       "      <td>33</td>\n",
       "      <td>2</td>\n",
       "      <td>30</td>\n",
       "      <td>38</td>\n",
       "      <td>9</td>\n",
       "      <td>...</td>\n",
       "      <td>0.323298</td>\n",
       "      <td>0.279434</td>\n",
       "      <td>0.346821</td>\n",
       "      <td>0.208250</td>\n",
       "      <td>0.618792</td>\n",
       "      <td>0.494801</td>\n",
       "      <td>0.367308</td>\n",
       "      <td>0.387041</td>\n",
       "      <td>0.474525</td>\n",
       "      <td>0.402563</td>\n",
       "    </tr>\n",
       "    <tr>\n",
       "      <th>3</th>\n",
       "      <td>0</td>\n",
       "      <td>8</td>\n",
       "      <td>0</td>\n",
       "      <td>0</td>\n",
       "      <td>4</td>\n",
       "      <td>33</td>\n",
       "      <td>0</td>\n",
       "      <td>39</td>\n",
       "      <td>5</td>\n",
       "      <td>4</td>\n",
       "      <td>...</td>\n",
       "      <td>0.331975</td>\n",
       "      <td>0.305931</td>\n",
       "      <td>0.321362</td>\n",
       "      <td>0.596346</td>\n",
       "      <td>0.797107</td>\n",
       "      <td>0.575397</td>\n",
       "      <td>0.326885</td>\n",
       "      <td>0.353614</td>\n",
       "      <td>0.258005</td>\n",
       "      <td>0.357856</td>\n",
       "    </tr>\n",
       "    <tr>\n",
       "      <th>4</th>\n",
       "      <td>0</td>\n",
       "      <td>12</td>\n",
       "      <td>2</td>\n",
       "      <td>0</td>\n",
       "      <td>4</td>\n",
       "      <td>33</td>\n",
       "      <td>6</td>\n",
       "      <td>30</td>\n",
       "      <td>38</td>\n",
       "      <td>0</td>\n",
       "      <td>...</td>\n",
       "      <td>0.240007</td>\n",
       "      <td>0.190550</td>\n",
       "      <td>0.578725</td>\n",
       "      <td>0.777659</td>\n",
       "      <td>0.773500</td>\n",
       "      <td>0.703389</td>\n",
       "      <td>0.239250</td>\n",
       "      <td>0.242388</td>\n",
       "      <td>0.283970</td>\n",
       "      <td>0.311369</td>\n",
       "    </tr>\n",
       "    <tr>\n",
       "      <th>...</th>\n",
       "      <td>...</td>\n",
       "      <td>...</td>\n",
       "      <td>...</td>\n",
       "      <td>...</td>\n",
       "      <td>...</td>\n",
       "      <td>...</td>\n",
       "      <td>...</td>\n",
       "      <td>...</td>\n",
       "      <td>...</td>\n",
       "      <td>...</td>\n",
       "      <td>...</td>\n",
       "      <td>...</td>\n",
       "      <td>...</td>\n",
       "      <td>...</td>\n",
       "      <td>...</td>\n",
       "      <td>...</td>\n",
       "      <td>...</td>\n",
       "      <td>...</td>\n",
       "      <td>...</td>\n",
       "      <td>...</td>\n",
       "      <td>...</td>\n",
       "    </tr>\n",
       "    <tr>\n",
       "      <th>59995</th>\n",
       "      <td>1</td>\n",
       "      <td>8</td>\n",
       "      <td>0</td>\n",
       "      <td>0</td>\n",
       "      <td>7</td>\n",
       "      <td>33</td>\n",
       "      <td>0</td>\n",
       "      <td>14</td>\n",
       "      <td>3</td>\n",
       "      <td>4</td>\n",
       "      <td>...</td>\n",
       "      <td>0.699535</td>\n",
       "      <td>0.687533</td>\n",
       "      <td>0.737377</td>\n",
       "      <td>0.206023</td>\n",
       "      <td>0.620642</td>\n",
       "      <td>0.563338</td>\n",
       "      <td>0.735728</td>\n",
       "      <td>0.500539</td>\n",
       "      <td>0.306823</td>\n",
       "      <td>0.620584</td>\n",
       "    </tr>\n",
       "    <tr>\n",
       "      <th>59996</th>\n",
       "      <td>0</td>\n",
       "      <td>1</td>\n",
       "      <td>12</td>\n",
       "      <td>0</td>\n",
       "      <td>5</td>\n",
       "      <td>2</td>\n",
       "      <td>2</td>\n",
       "      <td>8</td>\n",
       "      <td>48</td>\n",
       "      <td>0</td>\n",
       "      <td>...</td>\n",
       "      <td>0.332429</td>\n",
       "      <td>0.280286</td>\n",
       "      <td>0.301266</td>\n",
       "      <td>0.248114</td>\n",
       "      <td>0.553265</td>\n",
       "      <td>0.327081</td>\n",
       "      <td>0.338067</td>\n",
       "      <td>0.381465</td>\n",
       "      <td>0.751954</td>\n",
       "      <td>0.330403</td>\n",
       "    </tr>\n",
       "    <tr>\n",
       "      <th>59997</th>\n",
       "      <td>0</td>\n",
       "      <td>10</td>\n",
       "      <td>6</td>\n",
       "      <td>0</td>\n",
       "      <td>3</td>\n",
       "      <td>33</td>\n",
       "      <td>0</td>\n",
       "      <td>8</td>\n",
       "      <td>51</td>\n",
       "      <td>0</td>\n",
       "      <td>...</td>\n",
       "      <td>0.354513</td>\n",
       "      <td>0.300859</td>\n",
       "      <td>0.302043</td>\n",
       "      <td>0.247338</td>\n",
       "      <td>0.104145</td>\n",
       "      <td>0.429906</td>\n",
       "      <td>0.278451</td>\n",
       "      <td>0.339213</td>\n",
       "      <td>0.384370</td>\n",
       "      <td>0.368506</td>\n",
       "    </tr>\n",
       "    <tr>\n",
       "      <th>59998</th>\n",
       "      <td>0</td>\n",
       "      <td>7</td>\n",
       "      <td>0</td>\n",
       "      <td>0</td>\n",
       "      <td>5</td>\n",
       "      <td>33</td>\n",
       "      <td>0</td>\n",
       "      <td>6</td>\n",
       "      <td>23</td>\n",
       "      <td>0</td>\n",
       "      <td>...</td>\n",
       "      <td>0.369078</td>\n",
       "      <td>0.420645</td>\n",
       "      <td>0.355458</td>\n",
       "      <td>0.202159</td>\n",
       "      <td>0.736260</td>\n",
       "      <td>0.489391</td>\n",
       "      <td>0.351315</td>\n",
       "      <td>0.610873</td>\n",
       "      <td>0.621696</td>\n",
       "      <td>0.454686</td>\n",
       "    </tr>\n",
       "    <tr>\n",
       "      <th>59999</th>\n",
       "      <td>1</td>\n",
       "      <td>5</td>\n",
       "      <td>2</td>\n",
       "      <td>1</td>\n",
       "      <td>4</td>\n",
       "      <td>33</td>\n",
       "      <td>0</td>\n",
       "      <td>19</td>\n",
       "      <td>38</td>\n",
       "      <td>0</td>\n",
       "      <td>...</td>\n",
       "      <td>0.201289</td>\n",
       "      <td>0.231728</td>\n",
       "      <td>0.704894</td>\n",
       "      <td>0.701001</td>\n",
       "      <td>0.739143</td>\n",
       "      <td>0.586320</td>\n",
       "      <td>0.379595</td>\n",
       "      <td>0.323304</td>\n",
       "      <td>0.716428</td>\n",
       "      <td>0.445145</td>\n",
       "    </tr>\n",
       "  </tbody>\n",
       "</table>\n",
       "<p>60000 rows × 30 columns</p>\n",
       "</div>"
      ],
      "text/plain": [
       "       cat0  cat1  cat2  cat3  cat4  cat5  cat6  cat7  cat8  cat9  ...  \\\n",
       "0         0     5     0     0     6    33     0    14    38     4  ...   \n",
       "1         0     5     2     0     4    33     2    11    23     0  ...   \n",
       "2         0    13     0     0     4    33     2    30    38     9  ...   \n",
       "3         0     8     0     0     4    33     0    39     5     4  ...   \n",
       "4         0    12     2     0     4    33     6    30    38     0  ...   \n",
       "...     ...   ...   ...   ...   ...   ...   ...   ...   ...   ...  ...   \n",
       "59995     1     8     0     0     7    33     0    14     3     4  ...   \n",
       "59996     0     1    12     0     5     2     2     8    48     0  ...   \n",
       "59997     0    10     6     0     3    33     0     8    51     0  ...   \n",
       "59998     0     7     0     0     5    33     0     6    23     0  ...   \n",
       "59999     1     5     2     1     4    33     0    19    38     0  ...   \n",
       "\n",
       "          cont1     cont2     cont3     cont4     cont5     cont6     cont7  \\\n",
       "0      0.616445  0.637685  0.301544  0.790893  0.488015  0.614380  0.539349   \n",
       "1      0.350460  0.324491  0.349067  0.786160  0.554579  0.486805  0.390730   \n",
       "2      0.323298  0.279434  0.346821  0.208250  0.618792  0.494801  0.367308   \n",
       "3      0.331975  0.305931  0.321362  0.596346  0.797107  0.575397  0.326885   \n",
       "4      0.240007  0.190550  0.578725  0.777659  0.773500  0.703389  0.239250   \n",
       "...         ...       ...       ...       ...       ...       ...       ...   \n",
       "59995  0.699535  0.687533  0.737377  0.206023  0.620642  0.563338  0.735728   \n",
       "59996  0.332429  0.280286  0.301266  0.248114  0.553265  0.327081  0.338067   \n",
       "59997  0.354513  0.300859  0.302043  0.247338  0.104145  0.429906  0.278451   \n",
       "59998  0.369078  0.420645  0.355458  0.202159  0.736260  0.489391  0.351315   \n",
       "59999  0.201289  0.231728  0.704894  0.701001  0.739143  0.586320  0.379595   \n",
       "\n",
       "          cont8     cont9    cont10  \n",
       "0      0.411866  0.661432  0.486744  \n",
       "1      0.375106  0.569209  0.459002  \n",
       "2      0.387041  0.474525  0.402563  \n",
       "3      0.353614  0.258005  0.357856  \n",
       "4      0.242388  0.283970  0.311369  \n",
       "...         ...       ...       ...  \n",
       "59995  0.500539  0.306823  0.620584  \n",
       "59996  0.381465  0.751954  0.330403  \n",
       "59997  0.339213  0.384370  0.368506  \n",
       "59998  0.610873  0.621696  0.454686  \n",
       "59999  0.323304  0.716428  0.445145  \n",
       "\n",
       "[60000 rows x 30 columns]"
      ]
     },
     "execution_count": 37,
     "metadata": {},
     "output_type": "execute_result"
    }
   ],
   "source": [
    "df_test2"
   ]
  },
  {
   "cell_type": "code",
   "execution_count": 38,
   "metadata": {},
   "outputs": [],
   "source": [
    "df_pred_final = df_test[[\"id\"]]"
   ]
  },
  {
   "cell_type": "code",
   "execution_count": 39,
   "metadata": {},
   "outputs": [
    {
     "name": "stderr",
     "output_type": "stream",
     "text": [
      "/home/cpu11453/miniconda3/envs/nlp/lib/python3.7/site-packages/ipykernel_launcher.py:1: SettingWithCopyWarning: \n",
      "A value is trying to be set on a copy of a slice from a DataFrame.\n",
      "Try using .loc[row_indexer,col_indexer] = value instead\n",
      "\n",
      "See the caveats in the documentation: https://pandas.pydata.org/pandas-docs/stable/user_guide/indexing.html#returning-a-view-versus-a-copy\n",
      "  \"\"\"Entry point for launching an IPython kernel.\n"
     ]
    }
   ],
   "source": [
    "df_pred_final[\"target\"] = pred"
   ]
  },
  {
   "cell_type": "code",
   "execution_count": 40,
   "metadata": {},
   "outputs": [
    {
     "data": {
      "text/html": [
       "<div>\n",
       "<style scoped>\n",
       "    .dataframe tbody tr th:only-of-type {\n",
       "        vertical-align: middle;\n",
       "    }\n",
       "\n",
       "    .dataframe tbody tr th {\n",
       "        vertical-align: top;\n",
       "    }\n",
       "\n",
       "    .dataframe thead th {\n",
       "        text-align: right;\n",
       "    }\n",
       "</style>\n",
       "<table border=\"1\" class=\"dataframe\">\n",
       "  <thead>\n",
       "    <tr style=\"text-align: right;\">\n",
       "      <th></th>\n",
       "      <th>id</th>\n",
       "      <th>target</th>\n",
       "    </tr>\n",
       "  </thead>\n",
       "  <tbody>\n",
       "    <tr>\n",
       "      <th>0</th>\n",
       "      <td>150904</td>\n",
       "      <td>0.042360</td>\n",
       "    </tr>\n",
       "    <tr>\n",
       "      <th>1</th>\n",
       "      <td>168869</td>\n",
       "      <td>0.056568</td>\n",
       "    </tr>\n",
       "    <tr>\n",
       "      <th>2</th>\n",
       "      <td>125842</td>\n",
       "      <td>0.108471</td>\n",
       "    </tr>\n",
       "    <tr>\n",
       "      <th>3</th>\n",
       "      <td>37203</td>\n",
       "      <td>0.146189</td>\n",
       "    </tr>\n",
       "    <tr>\n",
       "      <th>4</th>\n",
       "      <td>353336</td>\n",
       "      <td>0.405677</td>\n",
       "    </tr>\n",
       "  </tbody>\n",
       "</table>\n",
       "</div>"
      ],
      "text/plain": [
       "       id    target\n",
       "0  150904  0.042360\n",
       "1  168869  0.056568\n",
       "2  125842  0.108471\n",
       "3   37203  0.146189\n",
       "4  353336  0.405677"
      ]
     },
     "execution_count": 40,
     "metadata": {},
     "output_type": "execute_result"
    }
   ],
   "source": [
    "df_pred_final.head()"
   ]
  },
  {
   "cell_type": "markdown",
   "metadata": {},
   "source": [
    "# df_pred_final.to_csv('submission.csv', index=False)"
   ]
  },
  {
   "cell_type": "code",
   "execution_count": 42,
   "metadata": {},
   "outputs": [
    {
     "data": {
      "text/plain": [
       "array([0.04236017, 0.05656821, 0.10847092, ..., 0.08119716, 0.88511606,\n",
       "       0.02479363])"
      ]
     },
     "execution_count": 42,
     "metadata": {},
     "output_type": "execute_result"
    }
   ],
   "source": [
    "pred"
   ]
  },
  {
   "cell_type": "markdown",
   "metadata": {},
   "source": [
    "# evaluation local"
   ]
  },
  {
   "cell_type": "code",
   "execution_count": 43,
   "metadata": {},
   "outputs": [],
   "source": [
    "from sklearn.metrics import roc_auc_score"
   ]
  },
  {
   "cell_type": "code",
   "execution_count": 44,
   "metadata": {},
   "outputs": [],
   "source": [
    "y_test_label = df_test[\"target\"]"
   ]
  },
  {
   "cell_type": "code",
   "execution_count": 45,
   "metadata": {},
   "outputs": [
    {
     "data": {
      "text/plain": [
       "0.8969435887822527"
      ]
     },
     "execution_count": 45,
     "metadata": {},
     "output_type": "execute_result"
    }
   ],
   "source": [
    "roc_auc_score(y_test_label, pred)"
   ]
  },
  {
   "cell_type": "code",
   "execution_count": 46,
   "metadata": {},
   "outputs": [],
   "source": [
    "# local test result \n",
    "auc = 0.8969435887822527"
   ]
  },
  {
   "cell_type": "code",
   "execution_count": null,
   "metadata": {},
   "outputs": [],
   "source": []
  }
 ],
 "metadata": {
  "kernelspec": {
   "display_name": "Python 3",
   "language": "python",
   "name": "python3"
  },
  "language_info": {
   "codemirror_mode": {
    "name": "ipython",
    "version": 3
   },
   "file_extension": ".py",
   "mimetype": "text/x-python",
   "name": "python",
   "nbconvert_exporter": "python",
   "pygments_lexer": "ipython3",
   "version": "3.7.9"
  }
 },
 "nbformat": 4,
 "nbformat_minor": 4
}
