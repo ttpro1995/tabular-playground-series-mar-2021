{
 "cells": [
  {
   "cell_type": "code",
   "execution_count": 4,
   "id": "objective-abraham",
   "metadata": {},
   "outputs": [],
   "source": [
    "import pandas as pd\n",
    "from sklearn.model_selection import train_test_split"
   ]
  },
  {
   "cell_type": "code",
   "execution_count": 9,
   "id": "necessary-building",
   "metadata": {},
   "outputs": [],
   "source": [
    "input_train_path = \"../data/train.csv\"\n",
    "output_train_local = \"../data/local_train.csv\"\n",
    "output_test_local = \"../data/local_test.csv\""
   ]
  },
  {
   "cell_type": "code",
   "execution_count": 10,
   "id": "cardiovascular-length",
   "metadata": {},
   "outputs": [],
   "source": [
    "df = pd.read_csv(input_train_path)"
   ]
  },
  {
   "cell_type": "code",
   "execution_count": 11,
   "id": "bacterial-compound",
   "metadata": {},
   "outputs": [],
   "source": [
    "df_train, df_test = train_test_split(df, test_size = 0.4, random_state = 3041975)"
   ]
  },
  {
   "cell_type": "code",
   "execution_count": 12,
   "id": "standard-window",
   "metadata": {},
   "outputs": [],
   "source": [
    "df_train.to_csv(output_train_local, index=False)"
   ]
  },
  {
   "cell_type": "code",
   "execution_count": 13,
   "id": "legal-system",
   "metadata": {},
   "outputs": [],
   "source": [
    "df_test.to_csv(output_test_local, index=False)"
   ]
  },
  {
   "cell_type": "code",
   "execution_count": null,
   "id": "regulation-brunswick",
   "metadata": {},
   "outputs": [],
   "source": []
  }
 ],
 "metadata": {
  "kernelspec": {
   "display_name": "Python 3",
   "language": "python",
   "name": "python3"
  },
  "language_info": {
   "codemirror_mode": {
    "name": "ipython",
    "version": 3
   },
   "file_extension": ".py",
   "mimetype": "text/x-python",
   "name": "python",
   "nbconvert_exporter": "python",
   "pygments_lexer": "ipython3",
   "version": "3.8.1"
  }
 },
 "nbformat": 4,
 "nbformat_minor": 5
}
