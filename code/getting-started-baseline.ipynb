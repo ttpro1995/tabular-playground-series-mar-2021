{
 "cells": [
  {
   "cell_type": "code",
   "execution_count": 1,
   "metadata": {
    "_cell_guid": "b1076dfc-b9ad-4769-8c92-a6c4dae69d19",
    "_uuid": "8f2839f25d086af736a60e9eeb907d3b93b6e0e5"
   },
   "outputs": [],
   "source": [
    "# This Python 3 environment comes with many helpful analytics libraries installed\n",
    "# It is defined by the kaggle/python Docker image: https://github.com/kaggle/docker-python\n",
    "# For example, here's several helpful packages to load\n",
    "\n",
    "import numpy as np # linear algebra\n",
    "import pandas as pd # data processing, CSV file I/O (e.g. pd.read_csv)\n",
    "\n",
    "# Input data files are available in the read-only \"../input/\" directory\n",
    "# For example, running this (by clicking run or pressing Shift+Enter) will list all files under the input directory\n",
    "\n",
    "import os\n",
    "for dirname, _, filenames in os.walk('/kaggle/input'):\n",
    "    for filename in filenames:\n",
    "        print(os.path.join(dirname, filename))\n",
    "\n",
    "# You can write up to 20GB to the current directory (/kaggle/working/) that gets preserved as output when you create a version using \"Save & Run All\" \n",
    "# You can also write temporary files to /kaggle/temp/, but they won't be saved outside of the current session"
   ]
  },
  {
   "cell_type": "code",
   "execution_count": 2,
   "metadata": {},
   "outputs": [],
   "source": [
    "train_path = \"./input/train_local.csv\"\n",
    "test_path = \"./input/test_local.csv\""
   ]
  },
  {
   "cell_type": "code",
   "execution_count": null,
   "metadata": {},
   "outputs": [],
   "source": []
  },
  {
   "cell_type": "code",
   "execution_count": 3,
   "metadata": {},
   "outputs": [],
   "source": [
    "import hashlib"
   ]
  },
  {
   "cell_type": "code",
   "execution_count": 4,
   "metadata": {},
   "outputs": [
    {
     "data": {
      "text/plain": [
       "45"
      ]
     },
     "execution_count": 4,
     "metadata": {},
     "output_type": "execute_result"
    }
   ],
   "source": [
    "s=\"A\"\n",
    "int(hashlib.sha256(s.encode('utf-8')).hexdigest(), 16) % 10**2"
   ]
  },
  {
   "cell_type": "code",
   "execution_count": 5,
   "metadata": {},
   "outputs": [],
   "source": [
    "def hash_cat(s):\n",
    "    return int(hashlib.sha256(s.encode('utf-8')).hexdigest(), 16) % 10**3"
   ]
  },
  {
   "cell_type": "code",
   "execution_count": 6,
   "metadata": {},
   "outputs": [],
   "source": [
    "# x = ['A', \"b\"]\n"
   ]
  },
  {
   "cell_type": "code",
   "execution_count": 7,
   "metadata": {},
   "outputs": [],
   "source": [
    "# x.index('c')"
   ]
  },
  {
   "cell_type": "code",
   "execution_count": 8,
   "metadata": {},
   "outputs": [],
   "source": [
    "cat_dict = []\n",
    "def hash_cat_two(s):\n",
    "    if s not in cat_dict:\n",
    "        cat_dict.append(s)\n",
    "    return cat_dict.index(s)"
   ]
  },
  {
   "cell_type": "code",
   "execution_count": 9,
   "metadata": {},
   "outputs": [],
   "source": [
    "import pandas as pd"
   ]
  },
  {
   "cell_type": "code",
   "execution_count": 10,
   "metadata": {},
   "outputs": [],
   "source": [
    "df_train = pd.read_csv(train_path)"
   ]
  },
  {
   "cell_type": "code",
   "execution_count": 11,
   "metadata": {},
   "outputs": [
    {
     "data": {
      "text/plain": [
       "240000"
      ]
     },
     "execution_count": 11,
     "metadata": {},
     "output_type": "execute_result"
    }
   ],
   "source": [
    "len(df_train)"
   ]
  },
  {
   "cell_type": "code",
   "execution_count": 12,
   "metadata": {},
   "outputs": [
    {
     "data": {
      "text/html": [
       "<div>\n",
       "<style scoped>\n",
       "    .dataframe tbody tr th:only-of-type {\n",
       "        vertical-align: middle;\n",
       "    }\n",
       "\n",
       "    .dataframe tbody tr th {\n",
       "        vertical-align: top;\n",
       "    }\n",
       "\n",
       "    .dataframe thead th {\n",
       "        text-align: right;\n",
       "    }\n",
       "</style>\n",
       "<table border=\"1\" class=\"dataframe\">\n",
       "  <thead>\n",
       "    <tr style=\"text-align: right;\">\n",
       "      <th></th>\n",
       "      <th>id</th>\n",
       "      <th>cat0</th>\n",
       "      <th>cat1</th>\n",
       "      <th>cat2</th>\n",
       "      <th>cat3</th>\n",
       "      <th>cat4</th>\n",
       "      <th>cat5</th>\n",
       "      <th>cat6</th>\n",
       "      <th>cat7</th>\n",
       "      <th>cat8</th>\n",
       "      <th>...</th>\n",
       "      <th>cont2</th>\n",
       "      <th>cont3</th>\n",
       "      <th>cont4</th>\n",
       "      <th>cont5</th>\n",
       "      <th>cont6</th>\n",
       "      <th>cont7</th>\n",
       "      <th>cont8</th>\n",
       "      <th>cont9</th>\n",
       "      <th>cont10</th>\n",
       "      <th>target</th>\n",
       "    </tr>\n",
       "  </thead>\n",
       "  <tbody>\n",
       "    <tr>\n",
       "      <th>0</th>\n",
       "      <td>495701</td>\n",
       "      <td>A</td>\n",
       "      <td>J</td>\n",
       "      <td>A</td>\n",
       "      <td>A</td>\n",
       "      <td>F</td>\n",
       "      <td>O</td>\n",
       "      <td>C</td>\n",
       "      <td>E</td>\n",
       "      <td>AX</td>\n",
       "      <td>...</td>\n",
       "      <td>0.387487</td>\n",
       "      <td>0.251159</td>\n",
       "      <td>0.801758</td>\n",
       "      <td>0.553776</td>\n",
       "      <td>0.444780</td>\n",
       "      <td>0.335810</td>\n",
       "      <td>0.345248</td>\n",
       "      <td>0.470157</td>\n",
       "      <td>0.319817</td>\n",
       "      <td>0</td>\n",
       "    </tr>\n",
       "    <tr>\n",
       "      <th>1</th>\n",
       "      <td>475514</td>\n",
       "      <td>A</td>\n",
       "      <td>N</td>\n",
       "      <td>A</td>\n",
       "      <td>A</td>\n",
       "      <td>G</td>\n",
       "      <td>BI</td>\n",
       "      <td>E</td>\n",
       "      <td>AV</td>\n",
       "      <td>AG</td>\n",
       "      <td>...</td>\n",
       "      <td>0.592863</td>\n",
       "      <td>0.250877</td>\n",
       "      <td>0.292144</td>\n",
       "      <td>0.358930</td>\n",
       "      <td>0.562570</td>\n",
       "      <td>0.707359</td>\n",
       "      <td>0.632267</td>\n",
       "      <td>0.284889</td>\n",
       "      <td>0.518947</td>\n",
       "      <td>0</td>\n",
       "    </tr>\n",
       "    <tr>\n",
       "      <th>2</th>\n",
       "      <td>289595</td>\n",
       "      <td>B</td>\n",
       "      <td>F</td>\n",
       "      <td>D</td>\n",
       "      <td>A</td>\n",
       "      <td>E</td>\n",
       "      <td>BI</td>\n",
       "      <td>A</td>\n",
       "      <td>F</td>\n",
       "      <td>L</td>\n",
       "      <td>...</td>\n",
       "      <td>0.835299</td>\n",
       "      <td>0.837267</td>\n",
       "      <td>0.357749</td>\n",
       "      <td>0.678743</td>\n",
       "      <td>0.575143</td>\n",
       "      <td>0.754098</td>\n",
       "      <td>0.642640</td>\n",
       "      <td>0.958589</td>\n",
       "      <td>0.940756</td>\n",
       "      <td>0</td>\n",
       "    </tr>\n",
       "    <tr>\n",
       "      <th>3</th>\n",
       "      <td>290200</td>\n",
       "      <td>B</td>\n",
       "      <td>I</td>\n",
       "      <td>A</td>\n",
       "      <td>A</td>\n",
       "      <td>E</td>\n",
       "      <td>BI</td>\n",
       "      <td>C</td>\n",
       "      <td>K</td>\n",
       "      <td>BM</td>\n",
       "      <td>...</td>\n",
       "      <td>0.369965</td>\n",
       "      <td>0.573459</td>\n",
       "      <td>0.455696</td>\n",
       "      <td>0.800336</td>\n",
       "      <td>0.608690</td>\n",
       "      <td>0.261167</td>\n",
       "      <td>0.493506</td>\n",
       "      <td>0.443034</td>\n",
       "      <td>0.342730</td>\n",
       "      <td>0</td>\n",
       "    </tr>\n",
       "    <tr>\n",
       "      <th>4</th>\n",
       "      <td>3547</td>\n",
       "      <td>A</td>\n",
       "      <td>B</td>\n",
       "      <td>D</td>\n",
       "      <td>A</td>\n",
       "      <td>F</td>\n",
       "      <td>BI</td>\n",
       "      <td>A</td>\n",
       "      <td>AS</td>\n",
       "      <td>AX</td>\n",
       "      <td>...</td>\n",
       "      <td>0.694353</td>\n",
       "      <td>0.577407</td>\n",
       "      <td>0.721532</td>\n",
       "      <td>0.487756</td>\n",
       "      <td>0.610030</td>\n",
       "      <td>0.668544</td>\n",
       "      <td>0.360062</td>\n",
       "      <td>0.763265</td>\n",
       "      <td>0.265792</td>\n",
       "      <td>0</td>\n",
       "    </tr>\n",
       "  </tbody>\n",
       "</table>\n",
       "<p>5 rows × 32 columns</p>\n",
       "</div>"
      ],
      "text/plain": [
       "       id cat0 cat1 cat2 cat3 cat4 cat5 cat6 cat7 cat8  ...     cont2  \\\n",
       "0  495701    A    J    A    A    F    O    C    E   AX  ...  0.387487   \n",
       "1  475514    A    N    A    A    G   BI    E   AV   AG  ...  0.592863   \n",
       "2  289595    B    F    D    A    E   BI    A    F    L  ...  0.835299   \n",
       "3  290200    B    I    A    A    E   BI    C    K   BM  ...  0.369965   \n",
       "4    3547    A    B    D    A    F   BI    A   AS   AX  ...  0.694353   \n",
       "\n",
       "      cont3     cont4     cont5     cont6     cont7     cont8     cont9  \\\n",
       "0  0.251159  0.801758  0.553776  0.444780  0.335810  0.345248  0.470157   \n",
       "1  0.250877  0.292144  0.358930  0.562570  0.707359  0.632267  0.284889   \n",
       "2  0.837267  0.357749  0.678743  0.575143  0.754098  0.642640  0.958589   \n",
       "3  0.573459  0.455696  0.800336  0.608690  0.261167  0.493506  0.443034   \n",
       "4  0.577407  0.721532  0.487756  0.610030  0.668544  0.360062  0.763265   \n",
       "\n",
       "     cont10 target  \n",
       "0  0.319817      0  \n",
       "1  0.518947      0  \n",
       "2  0.940756      0  \n",
       "3  0.342730      0  \n",
       "4  0.265792      0  \n",
       "\n",
       "[5 rows x 32 columns]"
      ]
     },
     "execution_count": 12,
     "metadata": {},
     "output_type": "execute_result"
    }
   ],
   "source": [
    "df_train.head()"
   ]
  },
  {
   "cell_type": "code",
   "execution_count": null,
   "metadata": {},
   "outputs": [],
   "source": []
  },
  {
   "cell_type": "code",
   "execution_count": 13,
   "metadata": {},
   "outputs": [
    {
     "data": {
      "text/plain": [
       "Index(['id', 'cat0', 'cat1', 'cat2', 'cat3', 'cat4', 'cat5', 'cat6', 'cat7',\n",
       "       'cat8', 'cat9', 'cat10', 'cat11', 'cat12', 'cat13', 'cat14', 'cat15',\n",
       "       'cat16', 'cat17', 'cat18', 'cont0', 'cont1', 'cont2', 'cont3', 'cont4',\n",
       "       'cont5', 'cont6', 'cont7', 'cont8', 'cont9', 'cont10', 'target'],\n",
       "      dtype='object')"
      ]
     },
     "execution_count": 13,
     "metadata": {},
     "output_type": "execute_result"
    }
   ],
   "source": [
    "df_train.columns"
   ]
  },
  {
   "cell_type": "code",
   "execution_count": 14,
   "metadata": {},
   "outputs": [],
   "source": [
    "from sklearn.model_selection import train_test_split"
   ]
  },
  {
   "cell_type": "code",
   "execution_count": 15,
   "metadata": {},
   "outputs": [
    {
     "data": {
      "text/plain": [
       "\u001b[0;31mSignature:\u001b[0m \u001b[0mtrain_test_split\u001b[0m\u001b[0;34m(\u001b[0m\u001b[0;34m*\u001b[0m\u001b[0marrays\u001b[0m\u001b[0;34m,\u001b[0m \u001b[0;34m**\u001b[0m\u001b[0moptions\u001b[0m\u001b[0;34m)\u001b[0m\u001b[0;34m\u001b[0m\u001b[0;34m\u001b[0m\u001b[0m\n",
       "\u001b[0;31mDocstring:\u001b[0m\n",
       "Split arrays or matrices into random train and test subsets\n",
       "\n",
       "Quick utility that wraps input validation and\n",
       "``next(ShuffleSplit().split(X, y))`` and application to input data\n",
       "into a single call for splitting (and optionally subsampling) data in a\n",
       "oneliner.\n",
       "\n",
       "Read more in the :ref:`User Guide <cross_validation>`.\n",
       "\n",
       "Parameters\n",
       "----------\n",
       "*arrays : sequence of indexables with same length / shape[0]\n",
       "    Allowed inputs are lists, numpy arrays, scipy-sparse\n",
       "    matrices or pandas dataframes.\n",
       "\n",
       "test_size : float or int, default=None\n",
       "    If float, should be between 0.0 and 1.0 and represent the proportion\n",
       "    of the dataset to include in the test split. If int, represents the\n",
       "    absolute number of test samples. If None, the value is set to the\n",
       "    complement of the train size. If ``train_size`` is also None, it will\n",
       "    be set to 0.25.\n",
       "\n",
       "train_size : float or int, default=None\n",
       "    If float, should be between 0.0 and 1.0 and represent the\n",
       "    proportion of the dataset to include in the train split. If\n",
       "    int, represents the absolute number of train samples. If None,\n",
       "    the value is automatically set to the complement of the test size.\n",
       "\n",
       "random_state : int or RandomState instance, default=None\n",
       "    Controls the shuffling applied to the data before applying the split.\n",
       "    Pass an int for reproducible output across multiple function calls.\n",
       "    See :term:`Glossary <random_state>`.\n",
       "\n",
       "\n",
       "shuffle : bool, default=True\n",
       "    Whether or not to shuffle the data before splitting. If shuffle=False\n",
       "    then stratify must be None.\n",
       "\n",
       "stratify : array-like, default=None\n",
       "    If not None, data is split in a stratified fashion, using this as\n",
       "    the class labels.\n",
       "\n",
       "Returns\n",
       "-------\n",
       "splitting : list, length=2 * len(arrays)\n",
       "    List containing train-test split of inputs.\n",
       "\n",
       "    .. versionadded:: 0.16\n",
       "        If the input is sparse, the output will be a\n",
       "        ``scipy.sparse.csr_matrix``. Else, output type is the same as the\n",
       "        input type.\n",
       "\n",
       "Examples\n",
       "--------\n",
       ">>> import numpy as np\n",
       ">>> from sklearn.model_selection import train_test_split\n",
       ">>> X, y = np.arange(10).reshape((5, 2)), range(5)\n",
       ">>> X\n",
       "array([[0, 1],\n",
       "       [2, 3],\n",
       "       [4, 5],\n",
       "       [6, 7],\n",
       "       [8, 9]])\n",
       ">>> list(y)\n",
       "[0, 1, 2, 3, 4]\n",
       "\n",
       ">>> X_train, X_test, y_train, y_test = train_test_split(\n",
       "...     X, y, test_size=0.33, random_state=42)\n",
       "...\n",
       ">>> X_train\n",
       "array([[4, 5],\n",
       "       [0, 1],\n",
       "       [6, 7]])\n",
       ">>> y_train\n",
       "[2, 0, 3]\n",
       ">>> X_test\n",
       "array([[2, 3],\n",
       "       [8, 9]])\n",
       ">>> y_test\n",
       "[1, 4]\n",
       "\n",
       ">>> train_test_split(y, shuffle=False)\n",
       "[[0, 1, 2], [3, 4]]\n",
       "\u001b[0;31mFile:\u001b[0m      ~/miniconda3/envs/nlp/lib/python3.7/site-packages/sklearn/model_selection/_split.py\n",
       "\u001b[0;31mType:\u001b[0m      function\n"
      ]
     },
     "metadata": {},
     "output_type": "display_data"
    }
   ],
   "source": [
    "?train_test_split"
   ]
  },
  {
   "cell_type": "code",
   "execution_count": 16,
   "metadata": {},
   "outputs": [],
   "source": [
    "cat_col = ['cat0', 'cat1', 'cat2', 'cat3', 'cat4', 'cat5', 'cat6', 'cat7',\n",
    "       'cat8', 'cat9', 'cat10', 'cat11', 'cat12', 'cat13', 'cat14', 'cat15',\n",
    "       'cat16', 'cat17', 'cat18']\n",
    "cont_col = ['cont0', 'cont1', 'cont2', 'cont3', 'cont4',\n",
    "       'cont5', 'cont6', 'cont7', 'cont8', 'cont9', 'cont10']"
   ]
  },
  {
   "cell_type": "code",
   "execution_count": 17,
   "metadata": {},
   "outputs": [
    {
     "name": "stdout",
     "output_type": "stream",
     "text": [
      "done  cat0\n",
      "done  cat1\n",
      "done  cat2\n",
      "done  cat3\n",
      "done  cat4\n",
      "done  cat5\n",
      "done  cat6\n",
      "done  cat7\n",
      "done  cat8\n",
      "done  cat9\n",
      "done  cat10\n",
      "done  cat11\n",
      "done  cat12\n",
      "done  cat13\n",
      "done  cat14\n",
      "done  cat15\n",
      "done  cat16\n",
      "done  cat17\n",
      "done  cat18\n"
     ]
    }
   ],
   "source": [
    "for col in cat_col:\n",
    "    df_train[col] = df_train[col].apply(hash_cat_two)\n",
    "    print(\"done \", col)"
   ]
  },
  {
   "cell_type": "code",
   "execution_count": 18,
   "metadata": {},
   "outputs": [],
   "source": [
    "X = df_train.drop([\"id\", \"target\"], axis=1)\n",
    "y = df_train[\"target\"]\n"
   ]
  },
  {
   "cell_type": "code",
   "execution_count": 19,
   "metadata": {},
   "outputs": [
    {
     "data": {
      "text/plain": [
       "(240000, 30)"
      ]
     },
     "execution_count": 19,
     "metadata": {},
     "output_type": "execute_result"
    }
   ],
   "source": [
    "X.shape"
   ]
  },
  {
   "cell_type": "code",
   "execution_count": 20,
   "metadata": {},
   "outputs": [
    {
     "data": {
      "text/plain": [
       "(240000,)"
      ]
     },
     "execution_count": 20,
     "metadata": {},
     "output_type": "execute_result"
    }
   ],
   "source": [
    "y.shape"
   ]
  },
  {
   "cell_type": "code",
   "execution_count": 21,
   "metadata": {},
   "outputs": [],
   "source": [
    "X_train, X_test, y_train, y_test = train_test_split(X, y, test_size=0.1, random_state=111)"
   ]
  },
  {
   "cell_type": "code",
   "execution_count": null,
   "metadata": {},
   "outputs": [],
   "source": []
  },
  {
   "cell_type": "code",
   "execution_count": 23,
   "metadata": {},
   "outputs": [],
   "source": [
    "import lightgbm as gbm"
   ]
  },
  {
   "cell_type": "code",
   "execution_count": 24,
   "metadata": {},
   "outputs": [
    {
     "data": {
      "text/plain": [
       "array([0, 1])"
      ]
     },
     "execution_count": 24,
     "metadata": {},
     "output_type": "execute_result"
    }
   ],
   "source": [
    "df_train[\"cat0\"].unique()"
   ]
  },
  {
   "cell_type": "code",
   "execution_count": 25,
   "metadata": {},
   "outputs": [],
   "source": [
    "train_data = gbm.Dataset(X_train, label=y_train, categorical_feature=cat_col)"
   ]
  },
  {
   "cell_type": "code",
   "execution_count": 26,
   "metadata": {},
   "outputs": [],
   "source": [
    "validation_data = gbm.Dataset(X_test, label=y_test, reference=train_data)"
   ]
  },
  {
   "cell_type": "code",
   "execution_count": 27,
   "metadata": {},
   "outputs": [],
   "source": [
    "lgbm_params = {\n",
    "    'boosting': 'gbdt',          # dart (drop out trees) often performs better\n",
    "    'application': 'binary',     # Binary classification\n",
    "    'learning_rate': 0.02,       # Learning rate, controls size of a gradient descent step\n",
    "    'min_data_in_leaf': 20,      # Data set is quite small so reduce this a bit\n",
    "    'feature_fraction': 0.7,     # Proportion of features in each boost, controls overfitting\n",
    "    'num_leaves': 100,            # Controls size of tree since LGBM uses leaf wise splits\n",
    "    'metric': 'auc',  # Area under ROC curve as the evaulation metric\n",
    "}"
   ]
  },
  {
   "cell_type": "code",
   "execution_count": 28,
   "metadata": {},
   "outputs": [
    {
     "name": "stderr",
     "output_type": "stream",
     "text": [
      "/home/cpu11453/miniconda3/envs/nlp/lib/python3.7/site-packages/lightgbm/basic.py:1551: UserWarning: Using categorical_feature in Dataset.\n",
      "  warnings.warn('Using categorical_feature in Dataset.')\n",
      "/home/cpu11453/miniconda3/envs/nlp/lib/python3.7/site-packages/lightgbm/basic.py:1555: UserWarning: categorical_feature in Dataset is overridden.\n",
      "New categorical_feature is ['cat0', 'cat1', 'cat10', 'cat11', 'cat12', 'cat13', 'cat14', 'cat15', 'cat16', 'cat17', 'cat18', 'cat2', 'cat3', 'cat4', 'cat5', 'cat6', 'cat7', 'cat8', 'cat9']\n",
      "  'New categorical_feature is {}'.format(sorted(list(categorical_feature))))\n"
     ]
    },
    {
     "name": "stdout",
     "output_type": "stream",
     "text": [
      "[LightGBM] [Info] Number of positive: 57309, number of negative: 158691\n",
      "[LightGBM] [Warning] Auto-choosing col-wise multi-threading, the overhead of testing was 0.080287 seconds.\n",
      "You can set `force_col_wise=true` to remove the overhead.\n",
      "[LightGBM] [Info] Total Bins 3390\n",
      "[LightGBM] [Info] Number of data points in the train set: 216000, number of used features: 30\n",
      "[LightGBM] [Info] [binary:BoostFromScore]: pavg=0.265319 -> initscore=-1.018501\n",
      "[LightGBM] [Info] Start training from score -1.018501\n",
      "Training until validation scores don't improve for 10 rounds\n"
     ]
    },
    {
     "name": "stderr",
     "output_type": "stream",
     "text": [
      "/home/cpu11453/miniconda3/envs/nlp/lib/python3.7/site-packages/lightgbm/basic.py:1286: UserWarning: Overriding the parameters from Reference Dataset.\n",
      "  warnings.warn('Overriding the parameters from Reference Dataset.')\n",
      "/home/cpu11453/miniconda3/envs/nlp/lib/python3.7/site-packages/lightgbm/basic.py:1098: UserWarning: categorical_column in param dict is overridden.\n",
      "  warnings.warn('{} in param dict is overridden.'.format(cat_alias))\n"
     ]
    },
    {
     "name": "stdout",
     "output_type": "stream",
     "text": [
      "[100]\tvalid_0's auc: 0.887654\n",
      "[200]\tvalid_0's auc: 0.891046\n",
      "[300]\tvalid_0's auc: 0.893012\n",
      "[400]\tvalid_0's auc: 0.893849\n",
      "Early stopping, best iteration is:\n",
      "[424]\tvalid_0's auc: 0.893912\n"
     ]
    }
   ],
   "source": [
    "num_round = 1000\n",
    "bst = gbm.train(lgbm_params, train_data, num_round, valid_sets=[validation_data], early_stopping_rounds=10, verbose_eval=100)"
   ]
  },
  {
   "cell_type": "code",
   "execution_count": 29,
   "metadata": {},
   "outputs": [],
   "source": [
    "# ?gbm.train"
   ]
  },
  {
   "cell_type": "code",
   "execution_count": 30,
   "metadata": {},
   "outputs": [
    {
     "data": {
      "text/html": [
       "<div>\n",
       "<style scoped>\n",
       "    .dataframe tbody tr th:only-of-type {\n",
       "        vertical-align: middle;\n",
       "    }\n",
       "\n",
       "    .dataframe tbody tr th {\n",
       "        vertical-align: top;\n",
       "    }\n",
       "\n",
       "    .dataframe thead th {\n",
       "        text-align: right;\n",
       "    }\n",
       "</style>\n",
       "<table border=\"1\" class=\"dataframe\">\n",
       "  <thead>\n",
       "    <tr style=\"text-align: right;\">\n",
       "      <th></th>\n",
       "      <th>id</th>\n",
       "      <th>cat0</th>\n",
       "      <th>cat1</th>\n",
       "      <th>cat2</th>\n",
       "      <th>cat3</th>\n",
       "      <th>cat4</th>\n",
       "      <th>cat5</th>\n",
       "      <th>cat6</th>\n",
       "      <th>cat7</th>\n",
       "      <th>cat8</th>\n",
       "      <th>...</th>\n",
       "      <th>cont2</th>\n",
       "      <th>cont3</th>\n",
       "      <th>cont4</th>\n",
       "      <th>cont5</th>\n",
       "      <th>cont6</th>\n",
       "      <th>cont7</th>\n",
       "      <th>cont8</th>\n",
       "      <th>cont9</th>\n",
       "      <th>cont10</th>\n",
       "      <th>target</th>\n",
       "    </tr>\n",
       "  </thead>\n",
       "  <tbody>\n",
       "    <tr>\n",
       "      <th>0</th>\n",
       "      <td>150904</td>\n",
       "      <td>A</td>\n",
       "      <td>F</td>\n",
       "      <td>A</td>\n",
       "      <td>A</td>\n",
       "      <td>G</td>\n",
       "      <td>BI</td>\n",
       "      <td>A</td>\n",
       "      <td>AN</td>\n",
       "      <td>BM</td>\n",
       "      <td>...</td>\n",
       "      <td>0.637685</td>\n",
       "      <td>0.301544</td>\n",
       "      <td>0.790893</td>\n",
       "      <td>0.488015</td>\n",
       "      <td>0.614380</td>\n",
       "      <td>0.539349</td>\n",
       "      <td>0.411866</td>\n",
       "      <td>0.661432</td>\n",
       "      <td>0.486744</td>\n",
       "      <td>0</td>\n",
       "    </tr>\n",
       "    <tr>\n",
       "      <th>1</th>\n",
       "      <td>168869</td>\n",
       "      <td>A</td>\n",
       "      <td>F</td>\n",
       "      <td>C</td>\n",
       "      <td>A</td>\n",
       "      <td>E</td>\n",
       "      <td>BI</td>\n",
       "      <td>C</td>\n",
       "      <td>AK</td>\n",
       "      <td>AX</td>\n",
       "      <td>...</td>\n",
       "      <td>0.324491</td>\n",
       "      <td>0.349067</td>\n",
       "      <td>0.786160</td>\n",
       "      <td>0.554579</td>\n",
       "      <td>0.486805</td>\n",
       "      <td>0.390730</td>\n",
       "      <td>0.375106</td>\n",
       "      <td>0.569209</td>\n",
       "      <td>0.459002</td>\n",
       "      <td>0</td>\n",
       "    </tr>\n",
       "    <tr>\n",
       "      <th>2</th>\n",
       "      <td>125842</td>\n",
       "      <td>A</td>\n",
       "      <td>N</td>\n",
       "      <td>A</td>\n",
       "      <td>A</td>\n",
       "      <td>E</td>\n",
       "      <td>BI</td>\n",
       "      <td>C</td>\n",
       "      <td>E</td>\n",
       "      <td>BM</td>\n",
       "      <td>...</td>\n",
       "      <td>0.279434</td>\n",
       "      <td>0.346821</td>\n",
       "      <td>0.208250</td>\n",
       "      <td>0.618792</td>\n",
       "      <td>0.494801</td>\n",
       "      <td>0.367308</td>\n",
       "      <td>0.387041</td>\n",
       "      <td>0.474525</td>\n",
       "      <td>0.402563</td>\n",
       "      <td>0</td>\n",
       "    </tr>\n",
       "    <tr>\n",
       "      <th>3</th>\n",
       "      <td>37203</td>\n",
       "      <td>A</td>\n",
       "      <td>I</td>\n",
       "      <td>A</td>\n",
       "      <td>A</td>\n",
       "      <td>E</td>\n",
       "      <td>BI</td>\n",
       "      <td>A</td>\n",
       "      <td>N</td>\n",
       "      <td>AF</td>\n",
       "      <td>...</td>\n",
       "      <td>0.305931</td>\n",
       "      <td>0.321362</td>\n",
       "      <td>0.596346</td>\n",
       "      <td>0.797107</td>\n",
       "      <td>0.575397</td>\n",
       "      <td>0.326885</td>\n",
       "      <td>0.353614</td>\n",
       "      <td>0.258005</td>\n",
       "      <td>0.357856</td>\n",
       "      <td>0</td>\n",
       "    </tr>\n",
       "    <tr>\n",
       "      <th>4</th>\n",
       "      <td>353336</td>\n",
       "      <td>A</td>\n",
       "      <td>M</td>\n",
       "      <td>C</td>\n",
       "      <td>A</td>\n",
       "      <td>E</td>\n",
       "      <td>BI</td>\n",
       "      <td>G</td>\n",
       "      <td>E</td>\n",
       "      <td>BM</td>\n",
       "      <td>...</td>\n",
       "      <td>0.190550</td>\n",
       "      <td>0.578725</td>\n",
       "      <td>0.777659</td>\n",
       "      <td>0.773500</td>\n",
       "      <td>0.703389</td>\n",
       "      <td>0.239250</td>\n",
       "      <td>0.242388</td>\n",
       "      <td>0.283970</td>\n",
       "      <td>0.311369</td>\n",
       "      <td>1</td>\n",
       "    </tr>\n",
       "  </tbody>\n",
       "</table>\n",
       "<p>5 rows × 32 columns</p>\n",
       "</div>"
      ],
      "text/plain": [
       "       id cat0 cat1 cat2 cat3 cat4 cat5 cat6 cat7 cat8  ...     cont2  \\\n",
       "0  150904    A    F    A    A    G   BI    A   AN   BM  ...  0.637685   \n",
       "1  168869    A    F    C    A    E   BI    C   AK   AX  ...  0.324491   \n",
       "2  125842    A    N    A    A    E   BI    C    E   BM  ...  0.279434   \n",
       "3   37203    A    I    A    A    E   BI    A    N   AF  ...  0.305931   \n",
       "4  353336    A    M    C    A    E   BI    G    E   BM  ...  0.190550   \n",
       "\n",
       "      cont3     cont4     cont5     cont6     cont7     cont8     cont9  \\\n",
       "0  0.301544  0.790893  0.488015  0.614380  0.539349  0.411866  0.661432   \n",
       "1  0.349067  0.786160  0.554579  0.486805  0.390730  0.375106  0.569209   \n",
       "2  0.346821  0.208250  0.618792  0.494801  0.367308  0.387041  0.474525   \n",
       "3  0.321362  0.596346  0.797107  0.575397  0.326885  0.353614  0.258005   \n",
       "4  0.578725  0.777659  0.773500  0.703389  0.239250  0.242388  0.283970   \n",
       "\n",
       "     cont10 target  \n",
       "0  0.486744      0  \n",
       "1  0.459002      0  \n",
       "2  0.402563      0  \n",
       "3  0.357856      0  \n",
       "4  0.311369      1  \n",
       "\n",
       "[5 rows x 32 columns]"
      ]
     },
     "execution_count": 30,
     "metadata": {},
     "output_type": "execute_result"
    }
   ],
   "source": [
    "df_test = pd.read_csv(test_path)\n",
    "df_test.head()"
   ]
  },
  {
   "cell_type": "code",
   "execution_count": 36,
   "metadata": {},
   "outputs": [],
   "source": [
    "df_test2 = df_test.drop([\"id\", \"target\"], axis=1)"
   ]
  },
  {
   "cell_type": "code",
   "execution_count": 37,
   "metadata": {},
   "outputs": [
    {
     "name": "stdout",
     "output_type": "stream",
     "text": [
      "done  cat0\n",
      "done  cat1\n",
      "done  cat2\n",
      "done  cat3\n",
      "done  cat4\n",
      "done  cat5\n",
      "done  cat6\n",
      "done  cat7\n",
      "done  cat8\n",
      "done  cat9\n",
      "done  cat10\n",
      "done  cat11\n",
      "done  cat12\n",
      "done  cat13\n",
      "done  cat14\n",
      "done  cat15\n",
      "done  cat16\n",
      "done  cat17\n",
      "done  cat18\n"
     ]
    }
   ],
   "source": [
    "for col in cat_col:\n",
    "    df_test2[col] = df_test2[col].apply(hash_cat_two)\n",
    "    print(\"done \", col)"
   ]
  },
  {
   "cell_type": "code",
   "execution_count": 38,
   "metadata": {},
   "outputs": [],
   "source": [
    "# ?bst"
   ]
  },
  {
   "cell_type": "code",
   "execution_count": 39,
   "metadata": {},
   "outputs": [
    {
     "data": {
      "text/html": [
       "<div>\n",
       "<style scoped>\n",
       "    .dataframe tbody tr th:only-of-type {\n",
       "        vertical-align: middle;\n",
       "    }\n",
       "\n",
       "    .dataframe tbody tr th {\n",
       "        vertical-align: top;\n",
       "    }\n",
       "\n",
       "    .dataframe thead th {\n",
       "        text-align: right;\n",
       "    }\n",
       "</style>\n",
       "<table border=\"1\" class=\"dataframe\">\n",
       "  <thead>\n",
       "    <tr style=\"text-align: right;\">\n",
       "      <th></th>\n",
       "      <th>cat0</th>\n",
       "      <th>cat1</th>\n",
       "      <th>cat2</th>\n",
       "      <th>cat3</th>\n",
       "      <th>cat4</th>\n",
       "      <th>cat5</th>\n",
       "      <th>cat6</th>\n",
       "      <th>cat7</th>\n",
       "      <th>cat8</th>\n",
       "      <th>cat9</th>\n",
       "      <th>...</th>\n",
       "      <th>cont1</th>\n",
       "      <th>cont2</th>\n",
       "      <th>cont3</th>\n",
       "      <th>cont4</th>\n",
       "      <th>cont5</th>\n",
       "      <th>cont6</th>\n",
       "      <th>cont7</th>\n",
       "      <th>cont8</th>\n",
       "      <th>cont9</th>\n",
       "      <th>cont10</th>\n",
       "    </tr>\n",
       "  </thead>\n",
       "  <tbody>\n",
       "    <tr>\n",
       "      <th>0</th>\n",
       "      <td>0</td>\n",
       "      <td>4</td>\n",
       "      <td>0</td>\n",
       "      <td>0</td>\n",
       "      <td>9</td>\n",
       "      <td>21</td>\n",
       "      <td>0</td>\n",
       "      <td>51</td>\n",
       "      <td>70</td>\n",
       "      <td>14</td>\n",
       "      <td>...</td>\n",
       "      <td>0.616445</td>\n",
       "      <td>0.637685</td>\n",
       "      <td>0.301544</td>\n",
       "      <td>0.790893</td>\n",
       "      <td>0.488015</td>\n",
       "      <td>0.614380</td>\n",
       "      <td>0.539349</td>\n",
       "      <td>0.411866</td>\n",
       "      <td>0.661432</td>\n",
       "      <td>0.486744</td>\n",
       "    </tr>\n",
       "    <tr>\n",
       "      <th>1</th>\n",
       "      <td>0</td>\n",
       "      <td>4</td>\n",
       "      <td>12</td>\n",
       "      <td>0</td>\n",
       "      <td>14</td>\n",
       "      <td>21</td>\n",
       "      <td>12</td>\n",
       "      <td>79</td>\n",
       "      <td>55</td>\n",
       "      <td>0</td>\n",
       "      <td>...</td>\n",
       "      <td>0.350460</td>\n",
       "      <td>0.324491</td>\n",
       "      <td>0.349067</td>\n",
       "      <td>0.786160</td>\n",
       "      <td>0.554579</td>\n",
       "      <td>0.486805</td>\n",
       "      <td>0.390730</td>\n",
       "      <td>0.375106</td>\n",
       "      <td>0.569209</td>\n",
       "      <td>0.459002</td>\n",
       "    </tr>\n",
       "    <tr>\n",
       "      <th>2</th>\n",
       "      <td>0</td>\n",
       "      <td>3</td>\n",
       "      <td>0</td>\n",
       "      <td>0</td>\n",
       "      <td>14</td>\n",
       "      <td>21</td>\n",
       "      <td>12</td>\n",
       "      <td>14</td>\n",
       "      <td>70</td>\n",
       "      <td>6</td>\n",
       "      <td>...</td>\n",
       "      <td>0.323298</td>\n",
       "      <td>0.279434</td>\n",
       "      <td>0.346821</td>\n",
       "      <td>0.208250</td>\n",
       "      <td>0.618792</td>\n",
       "      <td>0.494801</td>\n",
       "      <td>0.367308</td>\n",
       "      <td>0.387041</td>\n",
       "      <td>0.474525</td>\n",
       "      <td>0.402563</td>\n",
       "    </tr>\n",
       "    <tr>\n",
       "      <th>3</th>\n",
       "      <td>0</td>\n",
       "      <td>5</td>\n",
       "      <td>0</td>\n",
       "      <td>0</td>\n",
       "      <td>14</td>\n",
       "      <td>21</td>\n",
       "      <td>0</td>\n",
       "      <td>3</td>\n",
       "      <td>47</td>\n",
       "      <td>14</td>\n",
       "      <td>...</td>\n",
       "      <td>0.331975</td>\n",
       "      <td>0.305931</td>\n",
       "      <td>0.321362</td>\n",
       "      <td>0.596346</td>\n",
       "      <td>0.797107</td>\n",
       "      <td>0.575397</td>\n",
       "      <td>0.326885</td>\n",
       "      <td>0.353614</td>\n",
       "      <td>0.258005</td>\n",
       "      <td>0.357856</td>\n",
       "    </tr>\n",
       "    <tr>\n",
       "      <th>4</th>\n",
       "      <td>0</td>\n",
       "      <td>11</td>\n",
       "      <td>12</td>\n",
       "      <td>0</td>\n",
       "      <td>14</td>\n",
       "      <td>21</td>\n",
       "      <td>9</td>\n",
       "      <td>14</td>\n",
       "      <td>70</td>\n",
       "      <td>0</td>\n",
       "      <td>...</td>\n",
       "      <td>0.240007</td>\n",
       "      <td>0.190550</td>\n",
       "      <td>0.578725</td>\n",
       "      <td>0.777659</td>\n",
       "      <td>0.773500</td>\n",
       "      <td>0.703389</td>\n",
       "      <td>0.239250</td>\n",
       "      <td>0.242388</td>\n",
       "      <td>0.283970</td>\n",
       "      <td>0.311369</td>\n",
       "    </tr>\n",
       "  </tbody>\n",
       "</table>\n",
       "<p>5 rows × 30 columns</p>\n",
       "</div>"
      ],
      "text/plain": [
       "   cat0  cat1  cat2  cat3  cat4  cat5  cat6  cat7  cat8  cat9  ...     cont1  \\\n",
       "0     0     4     0     0     9    21     0    51    70    14  ...  0.616445   \n",
       "1     0     4    12     0    14    21    12    79    55     0  ...  0.350460   \n",
       "2     0     3     0     0    14    21    12    14    70     6  ...  0.323298   \n",
       "3     0     5     0     0    14    21     0     3    47    14  ...  0.331975   \n",
       "4     0    11    12     0    14    21     9    14    70     0  ...  0.240007   \n",
       "\n",
       "      cont2     cont3     cont4     cont5     cont6     cont7     cont8  \\\n",
       "0  0.637685  0.301544  0.790893  0.488015  0.614380  0.539349  0.411866   \n",
       "1  0.324491  0.349067  0.786160  0.554579  0.486805  0.390730  0.375106   \n",
       "2  0.279434  0.346821  0.208250  0.618792  0.494801  0.367308  0.387041   \n",
       "3  0.305931  0.321362  0.596346  0.797107  0.575397  0.326885  0.353614   \n",
       "4  0.190550  0.578725  0.777659  0.773500  0.703389  0.239250  0.242388   \n",
       "\n",
       "      cont9    cont10  \n",
       "0  0.661432  0.486744  \n",
       "1  0.569209  0.459002  \n",
       "2  0.474525  0.402563  \n",
       "3  0.258005  0.357856  \n",
       "4  0.283970  0.311369  \n",
       "\n",
       "[5 rows x 30 columns]"
      ]
     },
     "execution_count": 39,
     "metadata": {},
     "output_type": "execute_result"
    }
   ],
   "source": [
    "df_test2.head()"
   ]
  },
  {
   "cell_type": "code",
   "execution_count": 40,
   "metadata": {},
   "outputs": [],
   "source": [
    "pred = bst.predict(df_test2, num_iteration=bst.best_iteration)"
   ]
  },
  {
   "cell_type": "code",
   "execution_count": 41,
   "metadata": {},
   "outputs": [],
   "source": [
    "df_pred_final = df_test[[\"id\"]]"
   ]
  },
  {
   "cell_type": "code",
   "execution_count": 42,
   "metadata": {},
   "outputs": [
    {
     "name": "stderr",
     "output_type": "stream",
     "text": [
      "/home/cpu11453/miniconda3/envs/nlp/lib/python3.7/site-packages/ipykernel_launcher.py:1: SettingWithCopyWarning: \n",
      "A value is trying to be set on a copy of a slice from a DataFrame.\n",
      "Try using .loc[row_indexer,col_indexer] = value instead\n",
      "\n",
      "See the caveats in the documentation: https://pandas.pydata.org/pandas-docs/stable/user_guide/indexing.html#returning-a-view-versus-a-copy\n",
      "  \"\"\"Entry point for launching an IPython kernel.\n"
     ]
    }
   ],
   "source": [
    "df_pred_final[\"target\"] = pred"
   ]
  },
  {
   "cell_type": "code",
   "execution_count": 43,
   "metadata": {},
   "outputs": [
    {
     "data": {
      "text/html": [
       "<div>\n",
       "<style scoped>\n",
       "    .dataframe tbody tr th:only-of-type {\n",
       "        vertical-align: middle;\n",
       "    }\n",
       "\n",
       "    .dataframe tbody tr th {\n",
       "        vertical-align: top;\n",
       "    }\n",
       "\n",
       "    .dataframe thead th {\n",
       "        text-align: right;\n",
       "    }\n",
       "</style>\n",
       "<table border=\"1\" class=\"dataframe\">\n",
       "  <thead>\n",
       "    <tr style=\"text-align: right;\">\n",
       "      <th></th>\n",
       "      <th>id</th>\n",
       "      <th>target</th>\n",
       "    </tr>\n",
       "  </thead>\n",
       "  <tbody>\n",
       "    <tr>\n",
       "      <th>0</th>\n",
       "      <td>150904</td>\n",
       "      <td>0.055263</td>\n",
       "    </tr>\n",
       "    <tr>\n",
       "      <th>1</th>\n",
       "      <td>168869</td>\n",
       "      <td>0.060864</td>\n",
       "    </tr>\n",
       "    <tr>\n",
       "      <th>2</th>\n",
       "      <td>125842</td>\n",
       "      <td>0.106717</td>\n",
       "    </tr>\n",
       "    <tr>\n",
       "      <th>3</th>\n",
       "      <td>37203</td>\n",
       "      <td>0.152398</td>\n",
       "    </tr>\n",
       "    <tr>\n",
       "      <th>4</th>\n",
       "      <td>353336</td>\n",
       "      <td>0.489305</td>\n",
       "    </tr>\n",
       "  </tbody>\n",
       "</table>\n",
       "</div>"
      ],
      "text/plain": [
       "       id    target\n",
       "0  150904  0.055263\n",
       "1  168869  0.060864\n",
       "2  125842  0.106717\n",
       "3   37203  0.152398\n",
       "4  353336  0.489305"
      ]
     },
     "execution_count": 43,
     "metadata": {},
     "output_type": "execute_result"
    }
   ],
   "source": [
    "df_pred_final.head()"
   ]
  },
  {
   "cell_type": "code",
   "execution_count": null,
   "metadata": {},
   "outputs": [],
   "source": [
    "# df_pred_final.to_csv('submission.csv', index=False)"
   ]
  },
  {
   "cell_type": "code",
   "execution_count": 44,
   "metadata": {},
   "outputs": [
    {
     "data": {
      "text/plain": [
       "array([0.05526269, 0.06086388, 0.10671689, ..., 0.08300336, 0.84886748,\n",
       "       0.02742586])"
      ]
     },
     "execution_count": 44,
     "metadata": {},
     "output_type": "execute_result"
    }
   ],
   "source": [
    "pred"
   ]
  },
  {
   "cell_type": "markdown",
   "metadata": {},
   "source": [
    "# evaluation "
   ]
  },
  {
   "cell_type": "code",
   "execution_count": 47,
   "metadata": {},
   "outputs": [],
   "source": [
    "from sklearn.metrics import roc_auc_score"
   ]
  },
  {
   "cell_type": "code",
   "execution_count": 48,
   "metadata": {},
   "outputs": [],
   "source": [
    "y_test_label = df_test[\"target\"]"
   ]
  },
  {
   "cell_type": "code",
   "execution_count": 49,
   "metadata": {},
   "outputs": [
    {
     "data": {
      "text/plain": [
       "0.8961625009603029"
      ]
     },
     "execution_count": 49,
     "metadata": {},
     "output_type": "execute_result"
    }
   ],
   "source": [
    "roc_auc_score(y_test_local, pred)"
   ]
  },
  {
   "cell_type": "code",
   "execution_count": null,
   "metadata": {},
   "outputs": [],
   "source": []
  }
 ],
 "metadata": {
  "kernelspec": {
   "display_name": "Python 3",
   "language": "python",
   "name": "python3"
  },
  "language_info": {
   "codemirror_mode": {
    "name": "ipython",
    "version": 3
   },
   "file_extension": ".py",
   "mimetype": "text/x-python",
   "name": "python",
   "nbconvert_exporter": "python",
   "pygments_lexer": "ipython3",
   "version": "3.7.9"
  }
 },
 "nbformat": 4,
 "nbformat_minor": 4
}
