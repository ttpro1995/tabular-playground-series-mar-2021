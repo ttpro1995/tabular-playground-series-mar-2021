{
 "cells": [
  {
   "cell_type": "code",
   "execution_count": 1,
   "metadata": {
    "_cell_guid": "b1076dfc-b9ad-4769-8c92-a6c4dae69d19",
    "_uuid": "8f2839f25d086af736a60e9eeb907d3b93b6e0e5"
   },
   "outputs": [],
   "source": [
    "# This Python 3 environment comes with many helpful analytics libraries installed\n",
    "# It is defined by the kaggle/python Docker image: https://github.com/kaggle/docker-python\n",
    "# For example, here's several helpful packages to load\n",
    "\n",
    "import numpy as np # linear algebra\n",
    "import pandas as pd # data processing, CSV file I/O (e.g. pd.read_csv)\n",
    "\n",
    "# Input data files are available in the read-only \"../input/\" directory\n",
    "# For example, running this (by clicking run or pressing Shift+Enter) will list all files under the input directory\n",
    "\n",
    "import os\n",
    "for dirname, _, filenames in os.walk('/kaggle/input'):\n",
    "    for filename in filenames:\n",
    "        print(os.path.join(dirname, filename))\n",
    "\n",
    "# You can write up to 20GB to the current directory (/kaggle/working/) that gets preserved as output when you create a version using \"Save & Run All\" \n",
    "# You can also write temporary files to /kaggle/temp/, but they won't be saved outside of the current session"
   ]
  },
  {
   "cell_type": "code",
   "execution_count": null,
   "metadata": {},
   "outputs": [],
   "source": []
  },
  {
   "cell_type": "code",
   "execution_count": 2,
   "metadata": {},
   "outputs": [],
   "source": [
    "from sklearn.model_selection import train_test_split"
   ]
  },
  {
   "cell_type": "code",
   "execution_count": 3,
   "metadata": {},
   "outputs": [],
   "source": [
    "import shap "
   ]
  },
  {
   "cell_type": "code",
   "execution_count": 4,
   "metadata": {},
   "outputs": [],
   "source": [
    "train_path = \"../data/local_train.csv\"\n",
    "test_path = \"../data/local_test.csv\""
   ]
  },
  {
   "cell_type": "code",
   "execution_count": 5,
   "metadata": {},
   "outputs": [],
   "source": [
    "from lightgbm import LGBMClassifier"
   ]
  },
  {
   "cell_type": "code",
   "execution_count": 6,
   "metadata": {},
   "outputs": [],
   "source": [
    "import hashlib"
   ]
  },
  {
   "cell_type": "code",
   "execution_count": 7,
   "metadata": {},
   "outputs": [
    {
     "data": {
      "text/plain": [
       "45"
      ]
     },
     "execution_count": 7,
     "metadata": {},
     "output_type": "execute_result"
    }
   ],
   "source": [
    "s=\"A\"\n",
    "int(hashlib.sha256(s.encode('utf-8')).hexdigest(), 16) % 10**2"
   ]
  },
  {
   "cell_type": "code",
   "execution_count": 8,
   "metadata": {},
   "outputs": [],
   "source": [
    "def hash_cat(s):\n",
    "    return int(hashlib.sha256(s.encode('utf-8')).hexdigest(), 16) % 10**3"
   ]
  },
  {
   "cell_type": "code",
   "execution_count": 9,
   "metadata": {},
   "outputs": [],
   "source": [
    "# x = ['A', \"b\"]\n"
   ]
  },
  {
   "cell_type": "code",
   "execution_count": 10,
   "metadata": {},
   "outputs": [],
   "source": [
    "# x.index('c')"
   ]
  },
  {
   "cell_type": "code",
   "execution_count": 11,
   "metadata": {},
   "outputs": [],
   "source": [
    "cat_dict = []\n",
    "def hash_cat_two(s):\n",
    "    if s not in cat_dict:\n",
    "        cat_dict.append(s)\n",
    "    return cat_dict.index(s)"
   ]
  },
  {
   "cell_type": "code",
   "execution_count": 12,
   "metadata": {},
   "outputs": [],
   "source": [
    "import pandas as pd"
   ]
  },
  {
   "cell_type": "code",
   "execution_count": 13,
   "metadata": {},
   "outputs": [
    {
     "name": "stdout",
     "output_type": "stream",
     "text": [
      "local_test.csv\tlocal_train.csv  sample_submission.csv\ttest.csv  train.csv\n"
     ]
    }
   ],
   "source": [
    "!ls ../data/"
   ]
  },
  {
   "cell_type": "code",
   "execution_count": 14,
   "metadata": {},
   "outputs": [],
   "source": [
    "df_train = pd.read_csv(train_path)\n",
    "df_test = pd.read_csv(test_path)\n"
   ]
  },
  {
   "cell_type": "code",
   "execution_count": 15,
   "metadata": {},
   "outputs": [
    {
     "data": {
      "text/plain": [
       "180000"
      ]
     },
     "execution_count": 15,
     "metadata": {},
     "output_type": "execute_result"
    }
   ],
   "source": [
    "len(df_train)"
   ]
  },
  {
   "cell_type": "code",
   "execution_count": 16,
   "metadata": {},
   "outputs": [
    {
     "data": {
      "text/html": [
       "<div>\n",
       "<style scoped>\n",
       "    .dataframe tbody tr th:only-of-type {\n",
       "        vertical-align: middle;\n",
       "    }\n",
       "\n",
       "    .dataframe tbody tr th {\n",
       "        vertical-align: top;\n",
       "    }\n",
       "\n",
       "    .dataframe thead th {\n",
       "        text-align: right;\n",
       "    }\n",
       "</style>\n",
       "<table border=\"1\" class=\"dataframe\">\n",
       "  <thead>\n",
       "    <tr style=\"text-align: right;\">\n",
       "      <th></th>\n",
       "      <th>id</th>\n",
       "      <th>cat0</th>\n",
       "      <th>cat1</th>\n",
       "      <th>cat2</th>\n",
       "      <th>cat3</th>\n",
       "      <th>cat4</th>\n",
       "      <th>cat5</th>\n",
       "      <th>cat6</th>\n",
       "      <th>cat7</th>\n",
       "      <th>cat8</th>\n",
       "      <th>...</th>\n",
       "      <th>cont2</th>\n",
       "      <th>cont3</th>\n",
       "      <th>cont4</th>\n",
       "      <th>cont5</th>\n",
       "      <th>cont6</th>\n",
       "      <th>cont7</th>\n",
       "      <th>cont8</th>\n",
       "      <th>cont9</th>\n",
       "      <th>cont10</th>\n",
       "      <th>target</th>\n",
       "    </tr>\n",
       "  </thead>\n",
       "  <tbody>\n",
       "    <tr>\n",
       "      <th>0</th>\n",
       "      <td>4700</td>\n",
       "      <td>B</td>\n",
       "      <td>F</td>\n",
       "      <td>A</td>\n",
       "      <td>B</td>\n",
       "      <td>E</td>\n",
       "      <td>BQ</td>\n",
       "      <td>A</td>\n",
       "      <td>N</td>\n",
       "      <td>BL</td>\n",
       "      <td>...</td>\n",
       "      <td>0.236103</td>\n",
       "      <td>0.316480</td>\n",
       "      <td>0.600188</td>\n",
       "      <td>0.192628</td>\n",
       "      <td>0.423268</td>\n",
       "      <td>0.176169</td>\n",
       "      <td>0.288662</td>\n",
       "      <td>0.793823</td>\n",
       "      <td>0.315937</td>\n",
       "      <td>0</td>\n",
       "    </tr>\n",
       "    <tr>\n",
       "      <th>1</th>\n",
       "      <td>453468</td>\n",
       "      <td>A</td>\n",
       "      <td>F</td>\n",
       "      <td>G</td>\n",
       "      <td>C</td>\n",
       "      <td>G</td>\n",
       "      <td>BI</td>\n",
       "      <td>A</td>\n",
       "      <td>U</td>\n",
       "      <td>AE</td>\n",
       "      <td>...</td>\n",
       "      <td>0.627595</td>\n",
       "      <td>0.657871</td>\n",
       "      <td>0.285636</td>\n",
       "      <td>0.735430</td>\n",
       "      <td>0.624774</td>\n",
       "      <td>0.624786</td>\n",
       "      <td>0.702093</td>\n",
       "      <td>0.305428</td>\n",
       "      <td>0.509672</td>\n",
       "      <td>0</td>\n",
       "    </tr>\n",
       "    <tr>\n",
       "      <th>2</th>\n",
       "      <td>369751</td>\n",
       "      <td>A</td>\n",
       "      <td>K</td>\n",
       "      <td>G</td>\n",
       "      <td>A</td>\n",
       "      <td>D</td>\n",
       "      <td>BU</td>\n",
       "      <td>A</td>\n",
       "      <td>E</td>\n",
       "      <td>Y</td>\n",
       "      <td>...</td>\n",
       "      <td>0.568753</td>\n",
       "      <td>0.790244</td>\n",
       "      <td>0.829496</td>\n",
       "      <td>0.015555</td>\n",
       "      <td>0.201568</td>\n",
       "      <td>0.786024</td>\n",
       "      <td>0.385816</td>\n",
       "      <td>0.431418</td>\n",
       "      <td>0.953504</td>\n",
       "      <td>0</td>\n",
       "    </tr>\n",
       "    <tr>\n",
       "      <th>3</th>\n",
       "      <td>69873</td>\n",
       "      <td>B</td>\n",
       "      <td>I</td>\n",
       "      <td>A</td>\n",
       "      <td>A</td>\n",
       "      <td>E</td>\n",
       "      <td>BI</td>\n",
       "      <td>A</td>\n",
       "      <td>Y</td>\n",
       "      <td>AU</td>\n",
       "      <td>...</td>\n",
       "      <td>0.775825</td>\n",
       "      <td>0.822142</td>\n",
       "      <td>0.796378</td>\n",
       "      <td>0.680048</td>\n",
       "      <td>0.246919</td>\n",
       "      <td>0.877006</td>\n",
       "      <td>0.611704</td>\n",
       "      <td>0.839066</td>\n",
       "      <td>0.934136</td>\n",
       "      <td>0</td>\n",
       "    </tr>\n",
       "    <tr>\n",
       "      <th>4</th>\n",
       "      <td>170717</td>\n",
       "      <td>A</td>\n",
       "      <td>M</td>\n",
       "      <td>A</td>\n",
       "      <td>B</td>\n",
       "      <td>F</td>\n",
       "      <td>BI</td>\n",
       "      <td>I</td>\n",
       "      <td>AH</td>\n",
       "      <td>BM</td>\n",
       "      <td>...</td>\n",
       "      <td>0.256564</td>\n",
       "      <td>0.579400</td>\n",
       "      <td>0.291327</td>\n",
       "      <td>0.737406</td>\n",
       "      <td>0.579729</td>\n",
       "      <td>0.290138</td>\n",
       "      <td>0.351962</td>\n",
       "      <td>0.269911</td>\n",
       "      <td>0.308573</td>\n",
       "      <td>1</td>\n",
       "    </tr>\n",
       "  </tbody>\n",
       "</table>\n",
       "<p>5 rows × 32 columns</p>\n",
       "</div>"
      ],
      "text/plain": [
       "       id cat0 cat1 cat2 cat3 cat4 cat5 cat6 cat7 cat8  ...     cont2  \\\n",
       "0    4700    B    F    A    B    E   BQ    A    N   BL  ...  0.236103   \n",
       "1  453468    A    F    G    C    G   BI    A    U   AE  ...  0.627595   \n",
       "2  369751    A    K    G    A    D   BU    A    E    Y  ...  0.568753   \n",
       "3   69873    B    I    A    A    E   BI    A    Y   AU  ...  0.775825   \n",
       "4  170717    A    M    A    B    F   BI    I   AH   BM  ...  0.256564   \n",
       "\n",
       "      cont3     cont4     cont5     cont6     cont7     cont8     cont9  \\\n",
       "0  0.316480  0.600188  0.192628  0.423268  0.176169  0.288662  0.793823   \n",
       "1  0.657871  0.285636  0.735430  0.624774  0.624786  0.702093  0.305428   \n",
       "2  0.790244  0.829496  0.015555  0.201568  0.786024  0.385816  0.431418   \n",
       "3  0.822142  0.796378  0.680048  0.246919  0.877006  0.611704  0.839066   \n",
       "4  0.579400  0.291327  0.737406  0.579729  0.290138  0.351962  0.269911   \n",
       "\n",
       "     cont10 target  \n",
       "0  0.315937      0  \n",
       "1  0.509672      0  \n",
       "2  0.953504      0  \n",
       "3  0.934136      0  \n",
       "4  0.308573      1  \n",
       "\n",
       "[5 rows x 32 columns]"
      ]
     },
     "execution_count": 16,
     "metadata": {},
     "output_type": "execute_result"
    }
   ],
   "source": [
    "df_train.head()"
   ]
  },
  {
   "cell_type": "code",
   "execution_count": 17,
   "metadata": {},
   "outputs": [],
   "source": [
    "from sklearn.preprocessing import OrdinalEncoder, LabelEncoder"
   ]
  },
  {
   "cell_type": "code",
   "execution_count": 18,
   "metadata": {},
   "outputs": [
    {
     "data": {
      "text/plain": [
       "Index(['id', 'cat0', 'cat1', 'cat2', 'cat3', 'cat4', 'cat5', 'cat6', 'cat7',\n",
       "       'cat8', 'cat9', 'cat10', 'cat11', 'cat12', 'cat13', 'cat14', 'cat15',\n",
       "       'cat16', 'cat17', 'cat18', 'cont0', 'cont1', 'cont2', 'cont3', 'cont4',\n",
       "       'cont5', 'cont6', 'cont7', 'cont8', 'cont9', 'cont10', 'target'],\n",
       "      dtype='object')"
      ]
     },
     "execution_count": 18,
     "metadata": {},
     "output_type": "execute_result"
    }
   ],
   "source": [
    "df_train.columns"
   ]
  },
  {
   "cell_type": "code",
   "execution_count": 19,
   "metadata": {},
   "outputs": [],
   "source": [
    "from sklearn.model_selection import train_test_split"
   ]
  },
  {
   "cell_type": "code",
   "execution_count": 20,
   "metadata": {},
   "outputs": [],
   "source": [
    "# ?train_test_split"
   ]
  },
  {
   "cell_type": "code",
   "execution_count": 21,
   "metadata": {},
   "outputs": [],
   "source": [
    "cat_col = ['cat0', 'cat1', 'cat2', 'cat3', 'cat4', 'cat5', 'cat6', 'cat7',\n",
    "       'cat8', 'cat9', 'cat10', 'cat11', 'cat12', 'cat13', 'cat14', 'cat15',\n",
    "       'cat16', 'cat17', 'cat18']\n",
    "cont_col = ['cont0', 'cont1', 'cont2', 'cont3', 'cont4',\n",
    "       'cont5', 'cont6', 'cont7', 'cont8', 'cont9', 'cont10']"
   ]
  },
  {
   "cell_type": "code",
   "execution_count": 22,
   "metadata": {},
   "outputs": [
    {
     "name": "stdout",
     "output_type": "stream",
     "text": [
      "done  cat0\n",
      "done  cat1\n",
      "done  cat2\n",
      "done  cat3\n",
      "done  cat4\n",
      "done  cat5\n",
      "done  cat6\n",
      "done  cat7\n",
      "done  cat8\n",
      "done  cat9\n",
      "done  cat10\n",
      "done  cat11\n",
      "done  cat12\n",
      "done  cat13\n",
      "done  cat14\n",
      "done  cat15\n",
      "done  cat16\n",
      "done  cat17\n",
      "done  cat18\n"
     ]
    }
   ],
   "source": [
    "for col in cat_col:\n",
    "    encoder = LabelEncoder()\n",
    "    # encoder.fit(list(df_train[col]) + list(df_test[col]))\n",
    "    encoder.fit(list(df_train[col].values) + list(df_test[col].values))\n",
    "    df_train[col] = encoder.transform(df_train[col].values)\n",
    "    df_test[col] = encoder.transform(df_test[col].values)\n",
    "    print(\"done \", col)"
   ]
  },
  {
   "cell_type": "code",
   "execution_count": 23,
   "metadata": {},
   "outputs": [],
   "source": [
    "X = df_train.drop([\"id\", \"target\"], axis=1)\n",
    "y = df_train[\"target\"]\n"
   ]
  },
  {
   "cell_type": "code",
   "execution_count": 24,
   "metadata": {},
   "outputs": [
    {
     "data": {
      "text/plain": [
       "(180000, 30)"
      ]
     },
     "execution_count": 24,
     "metadata": {},
     "output_type": "execute_result"
    }
   ],
   "source": [
    "X.shape"
   ]
  },
  {
   "cell_type": "code",
   "execution_count": 25,
   "metadata": {},
   "outputs": [
    {
     "data": {
      "text/plain": [
       "(180000,)"
      ]
     },
     "execution_count": 25,
     "metadata": {},
     "output_type": "execute_result"
    }
   ],
   "source": [
    "y.shape"
   ]
  },
  {
   "cell_type": "code",
   "execution_count": 26,
   "metadata": {},
   "outputs": [],
   "source": [
    "X_train, X_test, y_train, y_test = train_test_split(X, y, test_size=0.1, random_state=111)"
   ]
  },
  {
   "cell_type": "code",
   "execution_count": null,
   "metadata": {},
   "outputs": [],
   "source": []
  },
  {
   "cell_type": "code",
   "execution_count": 27,
   "metadata": {},
   "outputs": [],
   "source": [
    "import lightgbm as gbm"
   ]
  },
  {
   "cell_type": "code",
   "execution_count": 28,
   "metadata": {},
   "outputs": [
    {
     "data": {
      "text/plain": [
       "array([1, 0])"
      ]
     },
     "execution_count": 28,
     "metadata": {},
     "output_type": "execute_result"
    }
   ],
   "source": [
    "df_train[\"cat0\"].unique()"
   ]
  },
  {
   "cell_type": "markdown",
   "metadata": {},
   "source": [
    "https://www.kaggle.com/sayantansadhu/lgbm-with-hyper-parameter-tuning-using-optuna"
   ]
  },
  {
   "cell_type": "code",
   "execution_count": 29,
   "metadata": {},
   "outputs": [],
   "source": [
    "lgbm_params = {\n",
    "    'boosting': 'gbdt',          # dart (drop out trees) often performs better\n",
    "    'application': 'binary',     # Binary classification\n",
    "    'learning_rate': 0.02,       # Learning rate, controls size of a gradient descent step\n",
    "    'min_data_in_leaf': 100,      # Data set is quite small so reduce this a bit\n",
    "    'feature_fraction': 0.7,     # Proportion of features in each boost, controls overfitting\n",
    "    'metric': 'binary_logloss',  # Area under ROC curve as the evaulation metric,\n",
    "    'lambda_l1': 5e-05, \n",
    "     'lambda_l2': 1.35e-08, \n",
    "     'num_leaves': 216, \n",
    "     'feature_fraction': 0.7458519562366559, \n",
    "     'bagging_fraction': 0.7835116194444349, \n",
    "     'bagging_freq': 2, \n",
    "     'min_child_samples': 95,\n",
    "    'n_estimators':300\n",
    "}\n",
    "\n",
    "# {'lambda_l1': 5.7529066102502985e-05, \n",
    "#  'lambda_l2': 1.3522520634637266e-08, \n",
    "#  'num_leaves': 216, \n",
    "#  'feature_fraction': 0.7458519562366559, \n",
    "#  'bagging_fraction': 0.7835116194444349, \n",
    "#  'bagging_freq': 2, \n",
    "#  'min_child_samples': 95}"
   ]
  },
  {
   "cell_type": "code",
   "execution_count": 30,
   "metadata": {},
   "outputs": [],
   "source": [
    "model = LGBMClassifier(**lgbm_params)"
   ]
  },
  {
   "cell_type": "code",
   "execution_count": 31,
   "metadata": {},
   "outputs": [
    {
     "name": "stdout",
     "output_type": "stream",
     "text": [
      "[LightGBM] [Warning] lambda_l1 is set=5e-05, reg_alpha=0.0 will be ignored. Current value: lambda_l1=5e-05\n",
      "[LightGBM] [Warning] bagging_fraction is set=0.7835116194444349, subsample=1.0 will be ignored. Current value: bagging_fraction=0.7835116194444349\n",
      "[LightGBM] [Warning] lambda_l2 is set=1.35e-08, reg_lambda=0.0 will be ignored. Current value: lambda_l2=1.35e-08\n",
      "[LightGBM] [Warning] boosting is set=gbdt, boosting_type=gbdt will be ignored. Current value: boosting=gbdt\n",
      "[LightGBM] [Warning] feature_fraction is set=0.7458519562366559, colsample_bytree=1.0 will be ignored. Current value: feature_fraction=0.7458519562366559\n",
      "[LightGBM] [Warning] min_data_in_leaf is set=100, min_child_samples=95 will be ignored. Current value: min_data_in_leaf=100\n",
      "[LightGBM] [Warning] bagging_freq is set=2, subsample_freq=0 will be ignored. Current value: bagging_freq=2\n"
     ]
    },
    {
     "data": {
      "text/plain": [
       "LGBMClassifier(application='binary', bagging_fraction=0.7835116194444349,\n",
       "               bagging_freq=2, boosting='gbdt',\n",
       "               feature_fraction=0.7458519562366559, lambda_l1=5e-05,\n",
       "               lambda_l2=1.35e-08, learning_rate=0.02, metric='binary_logloss',\n",
       "               min_child_samples=95, min_data_in_leaf=100, n_estimators=300,\n",
       "               num_leaves=216)"
      ]
     },
     "execution_count": 31,
     "metadata": {},
     "output_type": "execute_result"
    }
   ],
   "source": [
    "model.fit(X_train, y_train)"
   ]
  },
  {
   "cell_type": "code",
   "execution_count": 32,
   "metadata": {},
   "outputs": [],
   "source": [
    "# num_round = 1000\n",
    "# bst = gbm.train(lgbm_params, train_data, num_round, valid_sets=[validation_data], early_stopping_rounds=10, verbose_eval=100)"
   ]
  },
  {
   "cell_type": "code",
   "execution_count": 33,
   "metadata": {},
   "outputs": [],
   "source": [
    "# ?gbm.train"
   ]
  },
  {
   "cell_type": "code",
   "execution_count": 34,
   "metadata": {},
   "outputs": [],
   "source": [
    "# df_test = pd.read_csv(test_path)\n",
    "# df_test.head()"
   ]
  },
  {
   "cell_type": "code",
   "execution_count": 35,
   "metadata": {},
   "outputs": [],
   "source": [
    "df_test2 = df_test.drop([\"id\", \"target\"], axis=1)"
   ]
  },
  {
   "cell_type": "code",
   "execution_count": 36,
   "metadata": {},
   "outputs": [],
   "source": [
    "# for col in cat_col:\n",
    "#     df_test2[col] = df_test2[col].apply(hash_cat_two)\n",
    "#     print(\"done \", col)"
   ]
  },
  {
   "cell_type": "code",
   "execution_count": 37,
   "metadata": {},
   "outputs": [],
   "source": [
    "# ?bst"
   ]
  },
  {
   "cell_type": "code",
   "execution_count": 38,
   "metadata": {},
   "outputs": [
    {
     "data": {
      "text/html": [
       "<div>\n",
       "<style scoped>\n",
       "    .dataframe tbody tr th:only-of-type {\n",
       "        vertical-align: middle;\n",
       "    }\n",
       "\n",
       "    .dataframe tbody tr th {\n",
       "        vertical-align: top;\n",
       "    }\n",
       "\n",
       "    .dataframe thead th {\n",
       "        text-align: right;\n",
       "    }\n",
       "</style>\n",
       "<table border=\"1\" class=\"dataframe\">\n",
       "  <thead>\n",
       "    <tr style=\"text-align: right;\">\n",
       "      <th></th>\n",
       "      <th>cat0</th>\n",
       "      <th>cat1</th>\n",
       "      <th>cat2</th>\n",
       "      <th>cat3</th>\n",
       "      <th>cat4</th>\n",
       "      <th>cat5</th>\n",
       "      <th>cat6</th>\n",
       "      <th>cat7</th>\n",
       "      <th>cat8</th>\n",
       "      <th>cat9</th>\n",
       "      <th>...</th>\n",
       "      <th>cont1</th>\n",
       "      <th>cont2</th>\n",
       "      <th>cont3</th>\n",
       "      <th>cont4</th>\n",
       "      <th>cont5</th>\n",
       "      <th>cont6</th>\n",
       "      <th>cont7</th>\n",
       "      <th>cont8</th>\n",
       "      <th>cont9</th>\n",
       "      <th>cont10</th>\n",
       "    </tr>\n",
       "  </thead>\n",
       "  <tbody>\n",
       "    <tr>\n",
       "      <th>0</th>\n",
       "      <td>0</td>\n",
       "      <td>1</td>\n",
       "      <td>0</td>\n",
       "      <td>1</td>\n",
       "      <td>7</td>\n",
       "      <td>33</td>\n",
       "      <td>6</td>\n",
       "      <td>31</td>\n",
       "      <td>0</td>\n",
       "      <td>0</td>\n",
       "      <td>...</td>\n",
       "      <td>0.832036</td>\n",
       "      <td>0.936027</td>\n",
       "      <td>0.277879</td>\n",
       "      <td>0.677056</td>\n",
       "      <td>0.556303</td>\n",
       "      <td>0.861982</td>\n",
       "      <td>0.880029</td>\n",
       "      <td>0.700449</td>\n",
       "      <td>0.408714</td>\n",
       "      <td>0.457853</td>\n",
       "    </tr>\n",
       "    <tr>\n",
       "      <th>1</th>\n",
       "      <td>0</td>\n",
       "      <td>8</td>\n",
       "      <td>0</td>\n",
       "      <td>0</td>\n",
       "      <td>3</td>\n",
       "      <td>2</td>\n",
       "      <td>12</td>\n",
       "      <td>8</td>\n",
       "      <td>12</td>\n",
       "      <td>0</td>\n",
       "      <td>...</td>\n",
       "      <td>0.461403</td>\n",
       "      <td>0.465581</td>\n",
       "      <td>0.773081</td>\n",
       "      <td>0.257367</td>\n",
       "      <td>0.118800</td>\n",
       "      <td>0.076394</td>\n",
       "      <td>0.617704</td>\n",
       "      <td>0.786615</td>\n",
       "      <td>0.463401</td>\n",
       "      <td>0.534980</td>\n",
       "    </tr>\n",
       "    <tr>\n",
       "      <th>2</th>\n",
       "      <td>0</td>\n",
       "      <td>5</td>\n",
       "      <td>0</td>\n",
       "      <td>0</td>\n",
       "      <td>4</td>\n",
       "      <td>33</td>\n",
       "      <td>0</td>\n",
       "      <td>32</td>\n",
       "      <td>60</td>\n",
       "      <td>0</td>\n",
       "      <td>...</td>\n",
       "      <td>0.727531</td>\n",
       "      <td>0.799496</td>\n",
       "      <td>0.792766</td>\n",
       "      <td>0.574415</td>\n",
       "      <td>0.240725</td>\n",
       "      <td>0.263741</td>\n",
       "      <td>1.005591</td>\n",
       "      <td>0.710779</td>\n",
       "      <td>0.878274</td>\n",
       "      <td>0.967304</td>\n",
       "    </tr>\n",
       "    <tr>\n",
       "      <th>3</th>\n",
       "      <td>1</td>\n",
       "      <td>8</td>\n",
       "      <td>5</td>\n",
       "      <td>1</td>\n",
       "      <td>5</td>\n",
       "      <td>33</td>\n",
       "      <td>0</td>\n",
       "      <td>14</td>\n",
       "      <td>45</td>\n",
       "      <td>0</td>\n",
       "      <td>...</td>\n",
       "      <td>0.294513</td>\n",
       "      <td>0.301259</td>\n",
       "      <td>0.340367</td>\n",
       "      <td>0.385370</td>\n",
       "      <td>0.555850</td>\n",
       "      <td>0.486549</td>\n",
       "      <td>0.338415</td>\n",
       "      <td>0.392193</td>\n",
       "      <td>0.255491</td>\n",
       "      <td>0.398400</td>\n",
       "    </tr>\n",
       "    <tr>\n",
       "      <th>4</th>\n",
       "      <td>0</td>\n",
       "      <td>10</td>\n",
       "      <td>0</td>\n",
       "      <td>0</td>\n",
       "      <td>4</td>\n",
       "      <td>33</td>\n",
       "      <td>2</td>\n",
       "      <td>26</td>\n",
       "      <td>38</td>\n",
       "      <td>5</td>\n",
       "      <td>...</td>\n",
       "      <td>0.354699</td>\n",
       "      <td>0.317978</td>\n",
       "      <td>0.590793</td>\n",
       "      <td>0.207941</td>\n",
       "      <td>0.734811</td>\n",
       "      <td>0.569722</td>\n",
       "      <td>0.569788</td>\n",
       "      <td>0.477121</td>\n",
       "      <td>0.530924</td>\n",
       "      <td>0.349163</td>\n",
       "    </tr>\n",
       "  </tbody>\n",
       "</table>\n",
       "<p>5 rows × 30 columns</p>\n",
       "</div>"
      ],
      "text/plain": [
       "   cat0  cat1  cat2  cat3  cat4  cat5  cat6  cat7  cat8  cat9  ...     cont1  \\\n",
       "0     0     1     0     1     7    33     6    31     0     0  ...  0.832036   \n",
       "1     0     8     0     0     3     2    12     8    12     0  ...  0.461403   \n",
       "2     0     5     0     0     4    33     0    32    60     0  ...  0.727531   \n",
       "3     1     8     5     1     5    33     0    14    45     0  ...  0.294513   \n",
       "4     0    10     0     0     4    33     2    26    38     5  ...  0.354699   \n",
       "\n",
       "      cont2     cont3     cont4     cont5     cont6     cont7     cont8  \\\n",
       "0  0.936027  0.277879  0.677056  0.556303  0.861982  0.880029  0.700449   \n",
       "1  0.465581  0.773081  0.257367  0.118800  0.076394  0.617704  0.786615   \n",
       "2  0.799496  0.792766  0.574415  0.240725  0.263741  1.005591  0.710779   \n",
       "3  0.301259  0.340367  0.385370  0.555850  0.486549  0.338415  0.392193   \n",
       "4  0.317978  0.590793  0.207941  0.734811  0.569722  0.569788  0.477121   \n",
       "\n",
       "      cont9    cont10  \n",
       "0  0.408714  0.457853  \n",
       "1  0.463401  0.534980  \n",
       "2  0.878274  0.967304  \n",
       "3  0.255491  0.398400  \n",
       "4  0.530924  0.349163  \n",
       "\n",
       "[5 rows x 30 columns]"
      ]
     },
     "execution_count": 38,
     "metadata": {},
     "output_type": "execute_result"
    }
   ],
   "source": [
    "df_test2.head()"
   ]
  },
  {
   "cell_type": "code",
   "execution_count": 39,
   "metadata": {},
   "outputs": [],
   "source": [
    "pred = model.predict(df_test2)"
   ]
  },
  {
   "cell_type": "code",
   "execution_count": 40,
   "metadata": {},
   "outputs": [],
   "source": [
    "pred_proba = model.predict_proba(df_test2)"
   ]
  },
  {
   "cell_type": "code",
   "execution_count": 41,
   "metadata": {},
   "outputs": [
    {
     "data": {
      "text/html": [
       "<div>\n",
       "<style scoped>\n",
       "    .dataframe tbody tr th:only-of-type {\n",
       "        vertical-align: middle;\n",
       "    }\n",
       "\n",
       "    .dataframe tbody tr th {\n",
       "        vertical-align: top;\n",
       "    }\n",
       "\n",
       "    .dataframe thead th {\n",
       "        text-align: right;\n",
       "    }\n",
       "</style>\n",
       "<table border=\"1\" class=\"dataframe\">\n",
       "  <thead>\n",
       "    <tr style=\"text-align: right;\">\n",
       "      <th></th>\n",
       "      <th>cat0</th>\n",
       "      <th>cat1</th>\n",
       "      <th>cat2</th>\n",
       "      <th>cat3</th>\n",
       "      <th>cat4</th>\n",
       "      <th>cat5</th>\n",
       "      <th>cat6</th>\n",
       "      <th>cat7</th>\n",
       "      <th>cat8</th>\n",
       "      <th>cat9</th>\n",
       "      <th>...</th>\n",
       "      <th>cont1</th>\n",
       "      <th>cont2</th>\n",
       "      <th>cont3</th>\n",
       "      <th>cont4</th>\n",
       "      <th>cont5</th>\n",
       "      <th>cont6</th>\n",
       "      <th>cont7</th>\n",
       "      <th>cont8</th>\n",
       "      <th>cont9</th>\n",
       "      <th>cont10</th>\n",
       "    </tr>\n",
       "  </thead>\n",
       "  <tbody>\n",
       "    <tr>\n",
       "      <th>0</th>\n",
       "      <td>0</td>\n",
       "      <td>1</td>\n",
       "      <td>0</td>\n",
       "      <td>1</td>\n",
       "      <td>7</td>\n",
       "      <td>33</td>\n",
       "      <td>6</td>\n",
       "      <td>31</td>\n",
       "      <td>0</td>\n",
       "      <td>0</td>\n",
       "      <td>...</td>\n",
       "      <td>0.832036</td>\n",
       "      <td>0.936027</td>\n",
       "      <td>0.277879</td>\n",
       "      <td>0.677056</td>\n",
       "      <td>0.556303</td>\n",
       "      <td>0.861982</td>\n",
       "      <td>0.880029</td>\n",
       "      <td>0.700449</td>\n",
       "      <td>0.408714</td>\n",
       "      <td>0.457853</td>\n",
       "    </tr>\n",
       "    <tr>\n",
       "      <th>1</th>\n",
       "      <td>0</td>\n",
       "      <td>8</td>\n",
       "      <td>0</td>\n",
       "      <td>0</td>\n",
       "      <td>3</td>\n",
       "      <td>2</td>\n",
       "      <td>12</td>\n",
       "      <td>8</td>\n",
       "      <td>12</td>\n",
       "      <td>0</td>\n",
       "      <td>...</td>\n",
       "      <td>0.461403</td>\n",
       "      <td>0.465581</td>\n",
       "      <td>0.773081</td>\n",
       "      <td>0.257367</td>\n",
       "      <td>0.118800</td>\n",
       "      <td>0.076394</td>\n",
       "      <td>0.617704</td>\n",
       "      <td>0.786615</td>\n",
       "      <td>0.463401</td>\n",
       "      <td>0.534980</td>\n",
       "    </tr>\n",
       "    <tr>\n",
       "      <th>2</th>\n",
       "      <td>0</td>\n",
       "      <td>5</td>\n",
       "      <td>0</td>\n",
       "      <td>0</td>\n",
       "      <td>4</td>\n",
       "      <td>33</td>\n",
       "      <td>0</td>\n",
       "      <td>32</td>\n",
       "      <td>60</td>\n",
       "      <td>0</td>\n",
       "      <td>...</td>\n",
       "      <td>0.727531</td>\n",
       "      <td>0.799496</td>\n",
       "      <td>0.792766</td>\n",
       "      <td>0.574415</td>\n",
       "      <td>0.240725</td>\n",
       "      <td>0.263741</td>\n",
       "      <td>1.005591</td>\n",
       "      <td>0.710779</td>\n",
       "      <td>0.878274</td>\n",
       "      <td>0.967304</td>\n",
       "    </tr>\n",
       "    <tr>\n",
       "      <th>3</th>\n",
       "      <td>1</td>\n",
       "      <td>8</td>\n",
       "      <td>5</td>\n",
       "      <td>1</td>\n",
       "      <td>5</td>\n",
       "      <td>33</td>\n",
       "      <td>0</td>\n",
       "      <td>14</td>\n",
       "      <td>45</td>\n",
       "      <td>0</td>\n",
       "      <td>...</td>\n",
       "      <td>0.294513</td>\n",
       "      <td>0.301259</td>\n",
       "      <td>0.340367</td>\n",
       "      <td>0.385370</td>\n",
       "      <td>0.555850</td>\n",
       "      <td>0.486549</td>\n",
       "      <td>0.338415</td>\n",
       "      <td>0.392193</td>\n",
       "      <td>0.255491</td>\n",
       "      <td>0.398400</td>\n",
       "    </tr>\n",
       "    <tr>\n",
       "      <th>4</th>\n",
       "      <td>0</td>\n",
       "      <td>10</td>\n",
       "      <td>0</td>\n",
       "      <td>0</td>\n",
       "      <td>4</td>\n",
       "      <td>33</td>\n",
       "      <td>2</td>\n",
       "      <td>26</td>\n",
       "      <td>38</td>\n",
       "      <td>5</td>\n",
       "      <td>...</td>\n",
       "      <td>0.354699</td>\n",
       "      <td>0.317978</td>\n",
       "      <td>0.590793</td>\n",
       "      <td>0.207941</td>\n",
       "      <td>0.734811</td>\n",
       "      <td>0.569722</td>\n",
       "      <td>0.569788</td>\n",
       "      <td>0.477121</td>\n",
       "      <td>0.530924</td>\n",
       "      <td>0.349163</td>\n",
       "    </tr>\n",
       "    <tr>\n",
       "      <th>...</th>\n",
       "      <td>...</td>\n",
       "      <td>...</td>\n",
       "      <td>...</td>\n",
       "      <td>...</td>\n",
       "      <td>...</td>\n",
       "      <td>...</td>\n",
       "      <td>...</td>\n",
       "      <td>...</td>\n",
       "      <td>...</td>\n",
       "      <td>...</td>\n",
       "      <td>...</td>\n",
       "      <td>...</td>\n",
       "      <td>...</td>\n",
       "      <td>...</td>\n",
       "      <td>...</td>\n",
       "      <td>...</td>\n",
       "      <td>...</td>\n",
       "      <td>...</td>\n",
       "      <td>...</td>\n",
       "      <td>...</td>\n",
       "      <td>...</td>\n",
       "    </tr>\n",
       "    <tr>\n",
       "      <th>119995</th>\n",
       "      <td>1</td>\n",
       "      <td>8</td>\n",
       "      <td>0</td>\n",
       "      <td>0</td>\n",
       "      <td>5</td>\n",
       "      <td>33</td>\n",
       "      <td>4</td>\n",
       "      <td>40</td>\n",
       "      <td>35</td>\n",
       "      <td>0</td>\n",
       "      <td>...</td>\n",
       "      <td>0.460675</td>\n",
       "      <td>0.690114</td>\n",
       "      <td>0.556406</td>\n",
       "      <td>0.778571</td>\n",
       "      <td>0.280025</td>\n",
       "      <td>0.544267</td>\n",
       "      <td>0.524250</td>\n",
       "      <td>0.502416</td>\n",
       "      <td>0.782653</td>\n",
       "      <td>0.683392</td>\n",
       "    </tr>\n",
       "    <tr>\n",
       "      <th>119996</th>\n",
       "      <td>1</td>\n",
       "      <td>10</td>\n",
       "      <td>0</td>\n",
       "      <td>4</td>\n",
       "      <td>7</td>\n",
       "      <td>33</td>\n",
       "      <td>0</td>\n",
       "      <td>30</td>\n",
       "      <td>38</td>\n",
       "      <td>0</td>\n",
       "      <td>...</td>\n",
       "      <td>0.702119</td>\n",
       "      <td>0.698665</td>\n",
       "      <td>0.771236</td>\n",
       "      <td>0.806725</td>\n",
       "      <td>0.556306</td>\n",
       "      <td>0.339435</td>\n",
       "      <td>0.740020</td>\n",
       "      <td>0.420333</td>\n",
       "      <td>0.957234</td>\n",
       "      <td>0.777523</td>\n",
       "    </tr>\n",
       "    <tr>\n",
       "      <th>119997</th>\n",
       "      <td>0</td>\n",
       "      <td>10</td>\n",
       "      <td>0</td>\n",
       "      <td>0</td>\n",
       "      <td>4</td>\n",
       "      <td>33</td>\n",
       "      <td>2</td>\n",
       "      <td>39</td>\n",
       "      <td>38</td>\n",
       "      <td>7</td>\n",
       "      <td>...</td>\n",
       "      <td>0.325691</td>\n",
       "      <td>0.245823</td>\n",
       "      <td>0.243893</td>\n",
       "      <td>0.808406</td>\n",
       "      <td>0.273086</td>\n",
       "      <td>0.577464</td>\n",
       "      <td>0.283429</td>\n",
       "      <td>0.347557</td>\n",
       "      <td>0.254384</td>\n",
       "      <td>0.269322</td>\n",
       "    </tr>\n",
       "    <tr>\n",
       "      <th>119998</th>\n",
       "      <td>0</td>\n",
       "      <td>7</td>\n",
       "      <td>0</td>\n",
       "      <td>0</td>\n",
       "      <td>5</td>\n",
       "      <td>45</td>\n",
       "      <td>7</td>\n",
       "      <td>28</td>\n",
       "      <td>3</td>\n",
       "      <td>5</td>\n",
       "      <td>...</td>\n",
       "      <td>0.621029</td>\n",
       "      <td>0.940450</td>\n",
       "      <td>0.082610</td>\n",
       "      <td>0.238615</td>\n",
       "      <td>0.274609</td>\n",
       "      <td>0.425721</td>\n",
       "      <td>0.321446</td>\n",
       "      <td>0.323698</td>\n",
       "      <td>0.525235</td>\n",
       "      <td>0.796209</td>\n",
       "    </tr>\n",
       "    <tr>\n",
       "      <th>119999</th>\n",
       "      <td>0</td>\n",
       "      <td>5</td>\n",
       "      <td>15</td>\n",
       "      <td>2</td>\n",
       "      <td>7</td>\n",
       "      <td>33</td>\n",
       "      <td>7</td>\n",
       "      <td>27</td>\n",
       "      <td>48</td>\n",
       "      <td>0</td>\n",
       "      <td>...</td>\n",
       "      <td>0.838295</td>\n",
       "      <td>0.794714</td>\n",
       "      <td>0.192842</td>\n",
       "      <td>0.677982</td>\n",
       "      <td>0.781721</td>\n",
       "      <td>0.885908</td>\n",
       "      <td>0.544858</td>\n",
       "      <td>0.869808</td>\n",
       "      <td>0.340432</td>\n",
       "      <td>0.453767</td>\n",
       "    </tr>\n",
       "  </tbody>\n",
       "</table>\n",
       "<p>120000 rows × 30 columns</p>\n",
       "</div>"
      ],
      "text/plain": [
       "        cat0  cat1  cat2  cat3  cat4  cat5  cat6  cat7  cat8  cat9  ...  \\\n",
       "0          0     1     0     1     7    33     6    31     0     0  ...   \n",
       "1          0     8     0     0     3     2    12     8    12     0  ...   \n",
       "2          0     5     0     0     4    33     0    32    60     0  ...   \n",
       "3          1     8     5     1     5    33     0    14    45     0  ...   \n",
       "4          0    10     0     0     4    33     2    26    38     5  ...   \n",
       "...      ...   ...   ...   ...   ...   ...   ...   ...   ...   ...  ...   \n",
       "119995     1     8     0     0     5    33     4    40    35     0  ...   \n",
       "119996     1    10     0     4     7    33     0    30    38     0  ...   \n",
       "119997     0    10     0     0     4    33     2    39    38     7  ...   \n",
       "119998     0     7     0     0     5    45     7    28     3     5  ...   \n",
       "119999     0     5    15     2     7    33     7    27    48     0  ...   \n",
       "\n",
       "           cont1     cont2     cont3     cont4     cont5     cont6     cont7  \\\n",
       "0       0.832036  0.936027  0.277879  0.677056  0.556303  0.861982  0.880029   \n",
       "1       0.461403  0.465581  0.773081  0.257367  0.118800  0.076394  0.617704   \n",
       "2       0.727531  0.799496  0.792766  0.574415  0.240725  0.263741  1.005591   \n",
       "3       0.294513  0.301259  0.340367  0.385370  0.555850  0.486549  0.338415   \n",
       "4       0.354699  0.317978  0.590793  0.207941  0.734811  0.569722  0.569788   \n",
       "...          ...       ...       ...       ...       ...       ...       ...   \n",
       "119995  0.460675  0.690114  0.556406  0.778571  0.280025  0.544267  0.524250   \n",
       "119996  0.702119  0.698665  0.771236  0.806725  0.556306  0.339435  0.740020   \n",
       "119997  0.325691  0.245823  0.243893  0.808406  0.273086  0.577464  0.283429   \n",
       "119998  0.621029  0.940450  0.082610  0.238615  0.274609  0.425721  0.321446   \n",
       "119999  0.838295  0.794714  0.192842  0.677982  0.781721  0.885908  0.544858   \n",
       "\n",
       "           cont8     cont9    cont10  \n",
       "0       0.700449  0.408714  0.457853  \n",
       "1       0.786615  0.463401  0.534980  \n",
       "2       0.710779  0.878274  0.967304  \n",
       "3       0.392193  0.255491  0.398400  \n",
       "4       0.477121  0.530924  0.349163  \n",
       "...          ...       ...       ...  \n",
       "119995  0.502416  0.782653  0.683392  \n",
       "119996  0.420333  0.957234  0.777523  \n",
       "119997  0.347557  0.254384  0.269322  \n",
       "119998  0.323698  0.525235  0.796209  \n",
       "119999  0.869808  0.340432  0.453767  \n",
       "\n",
       "[120000 rows x 30 columns]"
      ]
     },
     "execution_count": 41,
     "metadata": {},
     "output_type": "execute_result"
    }
   ],
   "source": [
    "df_test2"
   ]
  },
  {
   "cell_type": "code",
   "execution_count": 42,
   "metadata": {},
   "outputs": [],
   "source": [
    "df_pred_final = df_test[[\"id\"]]"
   ]
  },
  {
   "cell_type": "code",
   "execution_count": 43,
   "metadata": {},
   "outputs": [
    {
     "name": "stderr",
     "output_type": "stream",
     "text": [
      "\n",
      "A value is trying to be set on a copy of a slice from a DataFrame.\n",
      "Try using .loc[row_indexer,col_indexer] = value instead\n",
      "\n",
      "See the caveats in the documentation: https://pandas.pydata.org/pandas-docs/stable/user_guide/indexing.html#returning-a-view-versus-a-copy\n"
     ]
    }
   ],
   "source": [
    "df_pred_final[\"target\"] = pred"
   ]
  },
  {
   "cell_type": "code",
   "execution_count": 44,
   "metadata": {},
   "outputs": [
    {
     "data": {
      "text/plain": [
       "array([0.03137987, 0.94545578, 0.94467265, ..., 0.89156603, 0.39109096,\n",
       "       0.29719791])"
      ]
     },
     "execution_count": 44,
     "metadata": {},
     "output_type": "execute_result"
    }
   ],
   "source": [
    "pred_proba[:,0]"
   ]
  },
  {
   "cell_type": "code",
   "execution_count": 45,
   "metadata": {},
   "outputs": [
    {
     "name": "stderr",
     "output_type": "stream",
     "text": [
      "\n",
      "A value is trying to be set on a copy of a slice from a DataFrame.\n",
      "Try using .loc[row_indexer,col_indexer] = value instead\n",
      "\n",
      "See the caveats in the documentation: https://pandas.pydata.org/pandas-docs/stable/user_guide/indexing.html#returning-a-view-versus-a-copy\n"
     ]
    }
   ],
   "source": [
    "df_pred_final[\"target_proba\"] = pred_proba[:,1]"
   ]
  },
  {
   "cell_type": "code",
   "execution_count": 46,
   "metadata": {},
   "outputs": [
    {
     "data": {
      "text/html": [
       "<div>\n",
       "<style scoped>\n",
       "    .dataframe tbody tr th:only-of-type {\n",
       "        vertical-align: middle;\n",
       "    }\n",
       "\n",
       "    .dataframe tbody tr th {\n",
       "        vertical-align: top;\n",
       "    }\n",
       "\n",
       "    .dataframe thead th {\n",
       "        text-align: right;\n",
       "    }\n",
       "</style>\n",
       "<table border=\"1\" class=\"dataframe\">\n",
       "  <thead>\n",
       "    <tr style=\"text-align: right;\">\n",
       "      <th></th>\n",
       "      <th>id</th>\n",
       "      <th>target</th>\n",
       "      <th>target_proba</th>\n",
       "    </tr>\n",
       "  </thead>\n",
       "  <tbody>\n",
       "    <tr>\n",
       "      <th>0</th>\n",
       "      <td>99402</td>\n",
       "      <td>1</td>\n",
       "      <td>0.968620</td>\n",
       "    </tr>\n",
       "    <tr>\n",
       "      <th>1</th>\n",
       "      <td>92026</td>\n",
       "      <td>0</td>\n",
       "      <td>0.054544</td>\n",
       "    </tr>\n",
       "    <tr>\n",
       "      <th>2</th>\n",
       "      <td>102280</td>\n",
       "      <td>0</td>\n",
       "      <td>0.055327</td>\n",
       "    </tr>\n",
       "    <tr>\n",
       "      <th>3</th>\n",
       "      <td>293468</td>\n",
       "      <td>0</td>\n",
       "      <td>0.023322</td>\n",
       "    </tr>\n",
       "    <tr>\n",
       "      <th>4</th>\n",
       "      <td>56800</td>\n",
       "      <td>0</td>\n",
       "      <td>0.226151</td>\n",
       "    </tr>\n",
       "  </tbody>\n",
       "</table>\n",
       "</div>"
      ],
      "text/plain": [
       "       id  target  target_proba\n",
       "0   99402       1      0.968620\n",
       "1   92026       0      0.054544\n",
       "2  102280       0      0.055327\n",
       "3  293468       0      0.023322\n",
       "4   56800       0      0.226151"
      ]
     },
     "execution_count": 46,
     "metadata": {},
     "output_type": "execute_result"
    }
   ],
   "source": [
    "df_pred_final.head()"
   ]
  },
  {
   "cell_type": "markdown",
   "metadata": {},
   "source": [
    "# df_pred_final.to_csv('submission.csv', index=False)"
   ]
  },
  {
   "cell_type": "code",
   "execution_count": 47,
   "metadata": {},
   "outputs": [
    {
     "data": {
      "text/plain": [
       "array([1, 0, 0, ..., 0, 1, 1])"
      ]
     },
     "execution_count": 47,
     "metadata": {},
     "output_type": "execute_result"
    }
   ],
   "source": [
    "pred"
   ]
  },
  {
   "cell_type": "markdown",
   "metadata": {},
   "source": [
    "# evaluation local"
   ]
  },
  {
   "cell_type": "code",
   "execution_count": 48,
   "metadata": {},
   "outputs": [],
   "source": [
    "from sklearn.metrics import roc_auc_score"
   ]
  },
  {
   "cell_type": "code",
   "execution_count": 49,
   "metadata": {},
   "outputs": [],
   "source": [
    "y_test_label = df_test[\"target\"]"
   ]
  },
  {
   "cell_type": "code",
   "execution_count": 50,
   "metadata": {},
   "outputs": [
    {
     "data": {
      "text/plain": [
       "0.7759849439459308"
      ]
     },
     "execution_count": 50,
     "metadata": {},
     "output_type": "execute_result"
    }
   ],
   "source": [
    "roc_auc_score(y_test_label, pred)"
   ]
  },
  {
   "cell_type": "code",
   "execution_count": 51,
   "metadata": {},
   "outputs": [],
   "source": [
    "# local test result \n",
    "auc = 0.8969435887822527"
   ]
  },
  {
   "cell_type": "code",
   "execution_count": 52,
   "metadata": {},
   "outputs": [
    {
     "data": {
      "text/plain": [
       "0.8915191600858575"
      ]
     },
     "execution_count": 52,
     "metadata": {},
     "output_type": "execute_result"
    }
   ],
   "source": [
    "roc_auc_score(y_test_label, pred_proba[:,1])"
   ]
  },
  {
   "cell_type": "markdown",
   "metadata": {},
   "source": [
    "# run shap"
   ]
  },
  {
   "cell_type": "code",
   "execution_count": 77,
   "metadata": {},
   "outputs": [],
   "source": [
    "import shap"
   ]
  },
  {
   "cell_type": "code",
   "execution_count": 78,
   "metadata": {},
   "outputs": [],
   "source": [
    "# explainer = shap.Explainer(model)\n",
    "# shap_values = explainer(X)"
   ]
  },
  {
   "cell_type": "code",
   "execution_count": 79,
   "metadata": {},
   "outputs": [],
   "source": [
    "tree_explainer = shap.TreeExplainer(model)\n"
   ]
  },
  {
   "cell_type": "code",
   "execution_count": null,
   "metadata": {},
   "outputs": [],
   "source": []
  },
  {
   "cell_type": "code",
   "execution_count": 80,
   "metadata": {},
   "outputs": [
    {
     "data": {
      "text/plain": [
       "shap.explainers._tree.Tree"
      ]
     },
     "execution_count": 80,
     "metadata": {},
     "output_type": "execute_result"
    }
   ],
   "source": [
    "type(tree_explainer)"
   ]
  },
  {
   "cell_type": "code",
   "execution_count": 81,
   "metadata": {},
   "outputs": [],
   "source": [
    "explainer = shap.Explainer(model)"
   ]
  },
  {
   "cell_type": "code",
   "execution_count": 82,
   "metadata": {},
   "outputs": [
    {
     "data": {
      "text/plain": [
       "shap.explainers._tree.Tree"
      ]
     },
     "execution_count": 82,
     "metadata": {},
     "output_type": "execute_result"
    }
   ],
   "source": [
    "type(explainer)"
   ]
  },
  {
   "cell_type": "code",
   "execution_count": null,
   "metadata": {},
   "outputs": [],
   "source": [
    "shap_values_tree = tree_explainer(X_sample)"
   ]
  },
  {
   "cell_type": "code",
   "execution_count": null,
   "metadata": {},
   "outputs": [],
   "source": [
    "shap_values_tree"
   ]
  },
  {
   "cell_type": "code",
   "execution_count": null,
   "metadata": {},
   "outputs": [],
   "source": [
    "type(shap_values_tree)"
   ]
  },
  {
   "cell_type": "code",
   "execution_count": null,
   "metadata": {},
   "outputs": [],
   "source": [
    "type(tree_explainer)"
   ]
  },
  {
   "cell_type": "code",
   "execution_count": null,
   "metadata": {},
   "outputs": [],
   "source": [
    "X.head()"
   ]
  },
  {
   "cell_type": "code",
   "execution_count": null,
   "metadata": {},
   "outputs": [],
   "source": [
    "X_sample = X.sample(1000)"
   ]
  },
  {
   "cell_type": "code",
   "execution_count": null,
   "metadata": {},
   "outputs": [],
   "source": []
  },
  {
   "cell_type": "code",
   "execution_count": null,
   "metadata": {},
   "outputs": [],
   "source": [
    "?explainer"
   ]
  },
  {
   "cell_type": "code",
   "execution_count": null,
   "metadata": {},
   "outputs": [],
   "source": []
  },
  {
   "cell_type": "code",
   "execution_count": null,
   "metadata": {},
   "outputs": [],
   "source": [
    "# shap_values[0][:1]"
   ]
  },
  {
   "cell_type": "code",
   "execution_count": null,
   "metadata": {},
   "outputs": [],
   "source": [
    "?shap.force_plot"
   ]
  },
  {
   "cell_type": "code",
   "execution_count": 71,
   "metadata": {},
   "outputs": [
    {
     "ename": "IndexError",
     "evalue": "index 1 is out of bounds for axis 0 with size 1",
     "output_type": "error",
     "traceback": [
      "\u001b[0;31m---------------------------------------------------------------------------\u001b[0m",
      "\u001b[0;31mIndexError\u001b[0m                                Traceback (most recent call last)",
      "\u001b[0;32m<ipython-input-71-383e08906d35>\u001b[0m in \u001b[0;36m<module>\u001b[0;34m\u001b[0m\n\u001b[0;32m----> 1\u001b[0;31m \u001b[0mshap\u001b[0m\u001b[0;34m.\u001b[0m\u001b[0mforce_plot\u001b[0m\u001b[0;34m(\u001b[0m\u001b[0mtree_explainer\u001b[0m\u001b[0;34m.\u001b[0m\u001b[0mexpected_value\u001b[0m\u001b[0;34m[\u001b[0m\u001b[0;36m1\u001b[0m\u001b[0;34m]\u001b[0m\u001b[0;34m,\u001b[0m \u001b[0mshap_values_tree\u001b[0m\u001b[0;34m[\u001b[0m\u001b[0;36m1\u001b[0m\u001b[0;34m]\u001b[0m\u001b[0;34m[\u001b[0m\u001b[0;36m0\u001b[0m\u001b[0;34m,\u001b[0m\u001b[0;34m:\u001b[0m\u001b[0;34m]\u001b[0m\u001b[0;34m,\u001b[0m \u001b[0mX_sample\u001b[0m\u001b[0;34m)\u001b[0m\u001b[0;34m\u001b[0m\u001b[0;34m\u001b[0m\u001b[0m\n\u001b[0m",
      "\u001b[0;31mIndexError\u001b[0m: index 1 is out of bounds for axis 0 with size 1"
     ]
    }
   ],
   "source": [
    "shap.force_plot(tree_explainer.expected_value[1], shap_values_tree[1][0,:], X_sample)"
   ]
  },
  {
   "cell_type": "code",
   "execution_count": 65,
   "metadata": {},
   "outputs": [
    {
     "ename": "ModuleNotFoundError",
     "evalue": "No module named 'xgboost'",
     "output_type": "error",
     "traceback": [
      "\u001b[0;31m---------------------------------------------------------------------------\u001b[0m",
      "\u001b[0;31mModuleNotFoundError\u001b[0m                       Traceback (most recent call last)",
      "\u001b[0;32m<ipython-input-65-e528dc1a32ff>\u001b[0m in \u001b[0;36m<module>\u001b[0;34m\u001b[0m\n\u001b[0;32m----> 1\u001b[0;31m \u001b[0;32mimport\u001b[0m \u001b[0mxgboost\u001b[0m\u001b[0;34m\u001b[0m\u001b[0;34m\u001b[0m\u001b[0m\n\u001b[0m",
      "\u001b[0;31mModuleNotFoundError\u001b[0m: No module named 'xgboost'"
     ]
    }
   ],
   "source": [
    "import xgboost"
   ]
  },
  {
   "cell_type": "code",
   "execution_count": null,
   "metadata": {},
   "outputs": [],
   "source": []
  }
 ],
 "metadata": {
  "kernelspec": {
   "display_name": "Python 3",
   "language": "python",
   "name": "python3"
  },
  "language_info": {
   "codemirror_mode": {
    "name": "ipython",
    "version": 3
   },
   "file_extension": ".py",
   "mimetype": "text/x-python",
   "name": "python",
   "nbconvert_exporter": "python",
   "pygments_lexer": "ipython3",
   "version": "3.7.9"
  }
 },
 "nbformat": 4,
 "nbformat_minor": 4
}
